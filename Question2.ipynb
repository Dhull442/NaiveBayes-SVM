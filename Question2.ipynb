{
 "cells": [
  {
   "cell_type": "code",
   "execution_count": 2,
   "metadata": {},
   "outputs": [],
   "source": [
    "import numpy as np\n",
    "TRAIN_FILE = 'fashion_mnist/train.csv'\n",
    "TEST_FILE = 'fashion_mnist/test.csv'\n",
    "VAL_FILE = 'fashion_mnist/val.csv'"
   ]
  },
  {
   "cell_type": "code",
   "execution_count": 201,
   "metadata": {},
   "outputs": [],
   "source": [
    "data = np.genfromtxt(TRAIN_FILE,delimiter=',')"
   ]
  },
  {
   "cell_type": "code",
   "execution_count": 202,
   "metadata": {},
   "outputs": [
    {
     "data": {
      "text/plain": [
       "(22500, 785)"
      ]
     },
     "execution_count": 202,
     "metadata": {},
     "output_type": "execute_result"
    }
   ],
   "source": [
    "data.shape"
   ]
  },
  {
   "cell_type": "code",
   "execution_count": 203,
   "metadata": {},
   "outputs": [],
   "source": [
    "classes = [0,1] # Binary classification \n",
    "newdata = np.asarray([r for r in data if r[-1] in classes])"
   ]
  },
  {
   "cell_type": "code",
   "execution_count": 204,
   "metadata": {},
   "outputs": [],
   "source": [
    "# change classes to {-1,1}\n",
    "# change values to [0,1] from [0,255]\n",
    "X = newdata[:,0:784] / 255.0\n",
    "Y = 2 * np.asarray(newdata[:,-1]) -1 \n",
    "Y = np.asarray([Y]).astype(float)"
   ]
  },
  {
   "cell_type": "code",
   "execution_count": 205,
   "metadata": {},
   "outputs": [],
   "source": [
    "# linear kernel\n",
    "Z = Y.T * X"
   ]
  },
  {
   "cell_type": "code",
   "execution_count": 206,
   "metadata": {},
   "outputs": [],
   "source": [
    "C = 1.0"
   ]
  },
  {
   "cell_type": "code",
   "execution_count": 207,
   "metadata": {},
   "outputs": [],
   "source": [
    "## M x M array Linear kernel\n",
    "P = np.matmul(Z, Z.T)"
   ]
  },
  {
   "cell_type": "code",
   "execution_count": 208,
   "metadata": {},
   "outputs": [],
   "source": [
    "# column vector with all -1\n",
    "Q = -1 * np.ones((len(P),1)).astype(float)"
   ]
  },
  {
   "cell_type": "code",
   "execution_count": 209,
   "metadata": {},
   "outputs": [],
   "source": [
    "G = -1 * np.eye(len(P)).astype(float)\n",
    "h = np.zeros((len(P),1)).astype(float)"
   ]
  },
  {
   "cell_type": "code",
   "execution_count": 210,
   "metadata": {},
   "outputs": [],
   "source": [
    "Gp = np.eye(len(P)).astype(float)\n",
    "hp = C * np.ones((len(P),1)).astype(float)"
   ]
  },
  {
   "cell_type": "code",
   "execution_count": 211,
   "metadata": {},
   "outputs": [],
   "source": [
    "Gt = np.vstack((G,Gp))\n",
    "ht = np.vstack((h,hp))"
   ]
  },
  {
   "cell_type": "code",
   "execution_count": 212,
   "metadata": {},
   "outputs": [],
   "source": [
    "G = Gt\n",
    "h = ht"
   ]
  },
  {
   "cell_type": "code",
   "execution_count": 213,
   "metadata": {},
   "outputs": [],
   "source": [
    "A = Y\n",
    "B = [[0]]"
   ]
  },
  {
   "cell_type": "code",
   "execution_count": 214,
   "metadata": {},
   "outputs": [],
   "source": [
    "import cvxopt as cv\n"
   ]
  },
  {
   "cell_type": "code",
   "execution_count": 215,
   "metadata": {},
   "outputs": [],
   "source": [
    "A_ = cv.matrix(A)\n",
    "P_ = cv.matrix(P)\n",
    "Q_ = cv.matrix(Q)\n",
    "G_ = cv.matrix(G)\n",
    "h_ = cv.matrix(h)\n",
    "b_ = cv.matrix(B,tc='d')"
   ]
  },
  {
   "cell_type": "code",
   "execution_count": 216,
   "metadata": {
    "scrolled": true
   },
   "outputs": [
    {
     "name": "stdout",
     "output_type": "stream",
     "text": [
      "     pcost       dcost       gap    pres   dres\n",
      " 0: -3.2916e+02 -9.3878e+03  5e+04  3e+00  3e-12\n",
      " 1: -2.0018e+02 -5.2391e+03  1e+04  4e-01  2e-12\n",
      " 2: -9.3627e+01 -1.6503e+03  3e+03  8e-02  1e-12\n",
      " 3: -5.1870e+01 -7.1316e+02  1e+03  3e-02  8e-13\n",
      " 4: -2.9393e+01 -4.7263e+02  7e+02  2e-02  5e-13\n",
      " 5: -1.8616e+01 -2.5482e+02  4e+02  7e-03  4e-13\n",
      " 6: -1.5942e+01 -8.1551e+01  9e+01  2e-03  4e-13\n",
      " 7: -1.7889e+01 -4.1759e+01  3e+01  4e-04  4e-13\n",
      " 8: -1.9475e+01 -3.1857e+01  1e+01  8e-05  4e-13\n",
      " 9: -1.9419e+01 -2.8941e+01  1e+01  3e-16  4e-13\n",
      "10: -2.1921e+01 -2.4878e+01  3e+00  9e-16  4e-13\n",
      "11: -2.2590e+01 -2.3752e+01  1e+00  2e-16  4e-13\n",
      "12: -2.3023e+01 -2.3203e+01  2e-01  4e-15  4e-13\n",
      "13: -2.3099e+01 -2.3108e+01  1e-02  2e-15  4e-13\n",
      "14: -2.3103e+01 -2.3103e+01  2e-04  5e-15  4e-13\n",
      "15: -2.3103e+01 -2.3103e+01  2e-06  9e-16  4e-13\n",
      "Optimal solution found.\n"
     ]
    }
   ],
   "source": [
    "sol = cv.solvers.qp(P_,Q_,G_,h_,A_,b_)"
   ]
  },
  {
   "cell_type": "code",
   "execution_count": 217,
   "metadata": {},
   "outputs": [],
   "source": [
    "alph = np.array(sol['x'])"
   ]
  },
  {
   "cell_type": "code",
   "execution_count": 218,
   "metadata": {},
   "outputs": [],
   "source": [
    "fw = alph * Y.T"
   ]
  },
  {
   "cell_type": "code",
   "execution_count": 219,
   "metadata": {},
   "outputs": [],
   "source": [
    "w = np.matmul(fw.T,X)"
   ]
  },
  {
   "cell_type": "code",
   "execution_count": 220,
   "metadata": {},
   "outputs": [],
   "source": [
    "R = np.matmul(w,X.T)"
   ]
  },
  {
   "cell_type": "code",
   "execution_count": 221,
   "metadata": {},
   "outputs": [],
   "source": [
    "maxv = 0.0\n",
    "minv = 100000000.0\n",
    "for i in range(0,len(R[0])):\n",
    "    if Y[0][i] == 1:\n",
    "        if(R[0][i] < minv):\n",
    "            minv = R[0][i]\n",
    "    else:\n",
    "        if(R[0][i]>maxv):\n",
    "            maxv = R[0][i]\n",
    "b = -(maxv+minv)/2.0"
   ]
  },
  {
   "cell_type": "code",
   "execution_count": 222,
   "metadata": {},
   "outputs": [],
   "source": [
    "# calculating support vectors\n",
    "sX = Y * (np.matmul(w,X.T) + b)\n",
    "vectors = np.where((sX-1) < 0.0001)[1]"
   ]
  },
  {
   "cell_type": "code",
   "execution_count": 105,
   "metadata": {},
   "outputs": [
    {
     "data": {
      "text/plain": [
       "(191,)"
      ]
     },
     "execution_count": 105,
     "metadata": {},
     "output_type": "execute_result"
    }
   ],
   "source": [
    "vectors"
   ]
  },
  {
   "cell_type": "code",
   "execution_count": 223,
   "metadata": {},
   "outputs": [],
   "source": [
    "tdata = np.genfromtxt(TEST_FILE,delimiter=',')"
   ]
  },
  {
   "cell_type": "code",
   "execution_count": 224,
   "metadata": {},
   "outputs": [],
   "source": [
    "tY = tdata[:,-1]\n",
    "tX = tdata[:,0:784]/255.0\n"
   ]
  },
  {
   "cell_type": "code",
   "execution_count": 225,
   "metadata": {},
   "outputs": [],
   "source": [
    "tx = []\n",
    "ty = []\n",
    "for i in range(0,len(tX)):\n",
    "    if tY[i] not in classes:\n",
    "        continue;\n",
    "    else:\n",
    "        ty.append(tY[i])\n",
    "        tx.append(tX[i])\n",
    "tX = np.asarray(tx)\n",
    "tY = np.asarray(ty)"
   ]
  },
  {
   "cell_type": "code",
   "execution_count": 226,
   "metadata": {},
   "outputs": [],
   "source": [
    "\n",
    "tR = np.matmul(w,tX.T) + b"
   ]
  },
  {
   "cell_type": "code",
   "execution_count": 227,
   "metadata": {},
   "outputs": [],
   "source": [
    "tot = 0\n",
    "corr = 0\n",
    "for i in range(0,len(tR[0])):\n",
    "    if(tY[i] not in classes):\n",
    "        continue;\n",
    "    tot += 1;\n",
    "    if((tR[0][i]>0 and tY[i]==1) or (tR[0][i]<0 and tY[i]==0)):\n",
    "        corr +=1;"
   ]
  },
  {
   "cell_type": "raw",
   "metadata": {},
   "source": [
    "Accuracy without error = 0.954\n",
    "Accuracy with error = 0.982"
   ]
  },
  {
   "cell_type": "code",
   "execution_count": 228,
   "metadata": {
    "scrolled": true
   },
   "outputs": [
    {
     "name": "stdout",
     "output_type": "stream",
     "text": [
      "0.982\n"
     ]
    }
   ],
   "source": [
    "print(float(corr)/float(tot))"
   ]
  },
  {
   "cell_type": "code",
   "execution_count": 106,
   "metadata": {},
   "outputs": [],
   "source": [
    "import math"
   ]
  },
  {
   "cell_type": "code",
   "execution_count": 127,
   "metadata": {},
   "outputs": [],
   "source": [
    "# Gaussian Kernel\n",
    "def gaussian(y,v):\n",
    "#     x = np.asarray([Xi - Xj])\n",
    "    return math.exp(-y * v)"
   ]
  },
  {
   "cell_type": "code",
   "execution_count": 126,
   "metadata": {},
   "outputs": [
    {
     "data": {
      "text/plain": [
       "array([3., 3.])"
      ]
     },
     "execution_count": 126,
     "metadata": {},
     "output_type": "execute_result"
    }
   ],
   "source": [
    "a = np.ones((2,3))\n",
    "b = np.ones((2,3))\n",
    "np.sum(a*b,axis=1)"
   ]
  },
  {
   "cell_type": "code",
   "execution_count": 129,
   "metadata": {},
   "outputs": [],
   "source": [
    "y = 0.05\n",
    "P = np.eye(len(X)).astype(float)\n",
    "for i in range(0,len(X)):\n",
    "    t = X - X[i]\n",
    "    P[i] = np.sum(t*t,axis=1)"
   ]
  },
  {
   "cell_type": "code",
   "execution_count": 135,
   "metadata": {},
   "outputs": [],
   "source": [
    "g = np.vectorize(gaussian)\n",
    "pp = g(y,P)"
   ]
  },
  {
   "cell_type": "code",
   "execution_count": 143,
   "metadata": {},
   "outputs": [],
   "source": [
    "# P matrix\n",
    "pp = np.matmul(Y.T,Y) * pp"
   ]
  },
  {
   "cell_type": "code",
   "execution_count": 148,
   "metadata": {},
   "outputs": [],
   "source": [
    "A_ = cv.matrix(A)\n",
    "P_ = cv.matrix(pp)\n",
    "Q_ = cv.matrix(Q)\n",
    "G_ = cv.matrix(G)\n",
    "h_ = cv.matrix(h)\n",
    "b_ = cv.matrix(B,tc='d')"
   ]
  },
  {
   "cell_type": "code",
   "execution_count": 149,
   "metadata": {},
   "outputs": [
    {
     "name": "stdout",
     "output_type": "stream",
     "text": [
      "     pcost       dcost       gap    pres   dres\n",
      " 0: -1.6328e+02 -5.5786e+02  1e+04  9e+01  2e+00\n",
      " 1: -9.9994e+01 -5.6249e+02  2e+03  1e+01  3e-01\n",
      " 2: -1.2081e+02 -3.0325e+02  4e+02  1e+00  4e-02\n",
      " 3: -1.4358e+02 -2.1550e+02  1e+02  4e-01  9e-03\n",
      " 4: -1.5662e+02 -1.8264e+02  3e+01  5e-02  1e-03\n",
      " 5: -1.6415e+02 -1.7387e+02  1e+01  1e-02  3e-04\n",
      " 6: -1.6748e+02 -1.7122e+02  4e+00  2e-15  2e-15\n",
      " 7: -1.6908e+02 -1.7028e+02  1e+00  1e-14  2e-15\n",
      " 8: -1.6975e+02 -1.6998e+02  2e-01  1e-14  2e-15\n",
      " 9: -1.6992e+02 -1.6994e+02  2e-02  3e-15  2e-15\n",
      "10: -1.6993e+02 -1.6993e+02  9e-04  8e-15  2e-15\n",
      "11: -1.6993e+02 -1.6993e+02  1e-05  4e-15  2e-15\n",
      "Optimal solution found.\n"
     ]
    }
   ],
   "source": [
    "sol = cv.solvers.qp(P_,Q_,G_,h_,A_,b_)"
   ]
  },
  {
   "cell_type": "code",
   "execution_count": 150,
   "metadata": {},
   "outputs": [],
   "source": [
    "alph = np.array(sol['x'])"
   ]
  },
  {
   "cell_type": "code",
   "execution_count": 152,
   "metadata": {},
   "outputs": [],
   "source": [
    "fW = alph * Y.T"
   ]
  },
  {
   "cell_type": "code",
   "execution_count": 160,
   "metadata": {},
   "outputs": [
    {
     "data": {
      "text/plain": [
       "(5000, 784)"
      ]
     },
     "execution_count": 160,
     "metadata": {},
     "output_type": "execute_result"
    }
   ],
   "source": [
    "a = tX - X[0]\n",
    "# a.shape\n"
   ]
  },
  {
   "cell_type": "code",
   "execution_count": 194,
   "metadata": {},
   "outputs": [],
   "source": [
    "# Test\n",
    "tx = np.ones((len(X),len(tX))).astype(float)\n",
    "for i in range(0,len(X)):\n",
    "    tt = tX - X[i]\n",
    "    tx[i] = np.sum(tt*tt,axis = 1)"
   ]
  },
  {
   "cell_type": "code",
   "execution_count": 195,
   "metadata": {},
   "outputs": [
    {
     "data": {
      "text/plain": [
       "array([[144.07315648,  33.50499039,  71.04527489, ...,  40.89783929,\n",
       "         21.0779085 , 184.35391003],\n",
       "       [127.96532103,  39.82677432,  65.94495963, ...,  33.71847751,\n",
       "         28.43092657, 163.42097655],\n",
       "       [145.8973318 ,  89.98795848,  19.52381392, ...,  65.9649827 ,\n",
       "         68.02629758, 170.00504421],\n",
       "       ...,\n",
       "       [ 81.62497501,  85.12918108,  13.19649366, ...,  67.50928105,\n",
       "         66.45028835, 109.40432141],\n",
       "       [106.17619377,  45.25880815,  73.55455594, ...,  50.54618993,\n",
       "         23.69302576, 138.10818916],\n",
       "       [181.3127105 , 129.90003845,  62.71672434, ..., 113.07257209,\n",
       "        107.64393695, 190.71124952]])"
      ]
     },
     "execution_count": 195,
     "metadata": {},
     "output_type": "execute_result"
    }
   ],
   "source": [
    "tx"
   ]
  },
  {
   "cell_type": "code",
   "execution_count": 186,
   "metadata": {},
   "outputs": [],
   "source": [
    "Gg = g(y,tx)"
   ]
  },
  {
   "cell_type": "code",
   "execution_count": 187,
   "metadata": {},
   "outputs": [
    {
     "data": {
      "text/plain": [
       "array([[0., 0., 0., ..., 0., 0., 0.],\n",
       "       [0., 0., 0., ..., 0., 0., 0.],\n",
       "       [0., 0., 0., ..., 0., 0., 0.],\n",
       "       ...,\n",
       "       [0., 0., 0., ..., 0., 0., 0.],\n",
       "       [0., 0., 0., ..., 0., 0., 0.],\n",
       "       [0., 0., 0., ..., 0., 0., 0.]])"
      ]
     },
     "execution_count": 187,
     "metadata": {},
     "output_type": "execute_result"
    }
   ],
   "source": [
    "Gg"
   ]
  },
  {
   "cell_type": "code",
   "execution_count": 196,
   "metadata": {},
   "outputs": [],
   "source": [
    "R = np.sum(fw * g(y,tx), axis=0)"
   ]
  },
  {
   "cell_type": "code",
   "execution_count": 197,
   "metadata": {},
   "outputs": [],
   "source": [
    "corr = 0\n",
    "for i in range(0,len(R)):\n",
    "    if((R[i] > 0 and tY[i]==1 )or(R[i]<0 and tY[i] ==0)):\n",
    "        corr +=1"
   ]
  },
  {
   "cell_type": "code",
   "execution_count": 200,
   "metadata": {},
   "outputs": [
    {
     "data": {
      "text/plain": [
       "0.892"
      ]
     },
     "execution_count": 200,
     "metadata": {},
     "output_type": "execute_result"
    }
   ],
   "source": [
    "corr/float(len(R))"
   ]
  },
  {
   "cell_type": "code",
   "execution_count": 55,
   "metadata": {},
   "outputs": [],
   "source": [
    "from sklearn import svm\n",
    "clf = svm.SVC(kernel='linear')"
   ]
  },
  {
   "cell_type": "code",
   "execution_count": 56,
   "metadata": {},
   "outputs": [
    {
     "data": {
      "text/plain": [
       "SVC(C=1.0, cache_size=200, class_weight=None, coef0=0.0,\n",
       "  decision_function_shape='ovr', degree=3, gamma='auto_deprecated',\n",
       "  kernel='linear', max_iter=-1, probability=False, random_state=None,\n",
       "  shrinking=True, tol=0.001, verbose=False)"
      ]
     },
     "execution_count": 56,
     "metadata": {},
     "output_type": "execute_result"
    }
   ],
   "source": [
    "clf.fit(X,Y[0])"
   ]
  },
  {
   "cell_type": "code",
   "execution_count": 104,
   "metadata": {
    "scrolled": true
   },
   "outputs": [
    {
     "data": {
      "text/plain": [
       "array([   3,  106,  127,  171,  232,  233,  234,  301,  367,  436,  494,\n",
       "        500,  616,  775,  800,  844,  878,  885,  970,  980,  986, 1005,\n",
       "       1107, 1114, 1134, 1153, 1239, 1333, 1381, 1394, 1437, 1489, 1511,\n",
       "       1563, 1619, 1639, 1658, 1683, 1684, 1716, 1729, 1798, 1819, 1845,\n",
       "       1895, 1905, 1931, 1991, 1993, 2011, 2172, 2217, 2271, 2300, 2315,\n",
       "       2325, 2344, 2355, 2420, 2560, 2591, 2610, 2658, 2691, 2793, 2813,\n",
       "       2851, 2859, 2873, 2886, 3023, 3048, 3052, 3107, 3157, 3164, 3184,\n",
       "       3257, 3263, 3310, 3340, 3402, 3545, 3551, 3585, 3593, 3611, 3626,\n",
       "       3634, 3645, 3654, 3711, 3734, 3753, 3759, 3771, 3797, 3822, 3939,\n",
       "       3979, 3995, 4061, 4171, 4243, 4271, 4290, 4304, 4320, 4413, 4445,\n",
       "       4454,   18,   27,   29,   63,  110,  137,  255,  306,  357,  387,\n",
       "        448,  489,  519,  520,  622,  637,  985, 1162, 1173, 1286, 1317,\n",
       "       1351, 1356, 1391, 1426, 1431, 1438, 1448, 1449, 1581, 1647, 1691,\n",
       "       1710, 1711, 1825, 1978, 2001, 2133, 2205, 2279, 2376, 2381, 2413,\n",
       "       2418, 2421, 2519, 2576, 2603, 2639, 2699, 2701, 2719, 2727, 2853,\n",
       "       2857, 2887, 2924, 2963, 2979, 3017, 3024, 3027, 3086, 3186, 3323,\n",
       "       3326, 3398, 3414, 3481, 3485, 3575, 3663, 3712, 3731, 3796, 3803,\n",
       "       3867, 3893, 3932, 3962, 4195, 4215, 4259, 4384, 4447, 4486, 4499],\n",
       "      dtype=int32)"
      ]
     },
     "execution_count": 104,
     "metadata": {},
     "output_type": "execute_result"
    }
   ],
   "source": [
    "clf.support_"
   ]
  },
  {
   "cell_type": "code",
   "execution_count": null,
   "metadata": {},
   "outputs": [],
   "source": []
  }
 ],
 "metadata": {
  "kernelspec": {
   "display_name": "Python 2",
   "language": "python",
   "name": "python2"
  },
  "language_info": {
   "codemirror_mode": {
    "name": "ipython",
    "version": 2
   },
   "file_extension": ".py",
   "mimetype": "text/x-python",
   "name": "python",
   "nbconvert_exporter": "python",
   "pygments_lexer": "ipython2",
   "version": "2.7.16"
  }
 },
 "nbformat": 4,
 "nbformat_minor": 2
}
