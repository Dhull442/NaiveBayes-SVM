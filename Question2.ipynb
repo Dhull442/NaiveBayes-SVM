{
 "cells": [
  {
   "cell_type": "code",
   "execution_count": 4,
   "metadata": {},
   "outputs": [],
   "source": [
    "import numpy as np\n",
    "TRAIN_FILE = 'fashion_mnist/train.csv'\n",
    "TEST_FILE = 'fashion_mnist/test.csv'\n",
    "VAL_FILE = 'fashion_mnist/val.csv'"
   ]
  },
  {
   "cell_type": "code",
   "execution_count": 5,
   "metadata": {},
   "outputs": [],
   "source": [
    "data = np.genfromtxt(TRAIN_FILE,delimiter=',')"
   ]
  },
  {
   "cell_type": "code",
   "execution_count": 6,
   "metadata": {},
   "outputs": [
    {
     "data": {
      "text/plain": [
       "(22500, 785)"
      ]
     },
     "execution_count": 6,
     "metadata": {},
     "output_type": "execute_result"
    }
   ],
   "source": [
    "data.shape"
   ]
  },
  {
   "cell_type": "code",
   "execution_count": 7,
   "metadata": {},
   "outputs": [],
   "source": [
    "classes = [0,1] # Binary classification \n",
    "newdata = np.asarray([r for r in data if r[-1] in classes])"
   ]
  },
  {
   "cell_type": "code",
   "execution_count": 8,
   "metadata": {},
   "outputs": [],
   "source": [
    "# change classes to {-1,1}\n",
    "# change values to [0,1] from [0,255]\n",
    "X = newdata[:,0:784] / 255.0\n",
    "Y = 2 * np.asarray(newdata[:,-1]) -1 \n",
    "Y = np.asarray([Y])"
   ]
  },
  {
   "cell_type": "code",
   "execution_count": 9,
   "metadata": {},
   "outputs": [],
   "source": [
    "Z = Y.T * X"
   ]
  },
  {
   "cell_type": "code",
   "execution_count": 10,
   "metadata": {},
   "outputs": [],
   "source": [
    "## M x M array\n",
    "P = np.matmul(Z, Z.T)"
   ]
  },
  {
   "cell_type": "code",
   "execution_count": 11,
   "metadata": {},
   "outputs": [],
   "source": [
    "# column vector with all -1\n",
    "Q = -1 * np.ones((len(P),1)).astype(float)"
   ]
  },
  {
   "cell_type": "code",
   "execution_count": 12,
   "metadata": {},
   "outputs": [],
   "source": [
    "G = -1 * np.eye(len(P)).astype(float)"
   ]
  },
  {
   "cell_type": "code",
   "execution_count": 13,
   "metadata": {},
   "outputs": [],
   "source": [
    "h = np.zeros((len(P),1)).astype(float)"
   ]
  },
  {
   "cell_type": "code",
   "execution_count": 14,
   "metadata": {},
   "outputs": [],
   "source": [
    "A = Y\n",
    "b = [[0]]"
   ]
  },
  {
   "cell_type": "code",
   "execution_count": 15,
   "metadata": {},
   "outputs": [],
   "source": [
    "import cvxopt as cv\n"
   ]
  },
  {
   "cell_type": "code",
   "execution_count": 17,
   "metadata": {},
   "outputs": [],
   "source": [
    "A_ = cv.matrix(A)\n",
    "P_ = cv.matrix(P)\n",
    "Q_ = cv.matrix(Q)\n",
    "G_ = cv.matrix(G)\n",
    "h_ = cv.matrix(h)\n",
    "b_ = cv.matrix(b,tc='d')"
   ]
  },
  {
   "cell_type": "code",
   "execution_count": 18,
   "metadata": {},
   "outputs": [
    {
     "name": "stdout",
     "output_type": "stream",
     "text": [
      "     pcost       dcost       gap    pres   dres\n",
      " 0: -3.5671e+02 -1.0801e+03  2e+04  1e+02  3e+00\n",
      " 1: -5.6674e+02 -9.9101e+02  1e+04  6e+01  1e+00\n",
      " 2: -3.1508e+02 -3.0559e+02  4e+03  1e+01  4e-01\n",
      " 3: -1.1899e+02 -1.1201e+02  1e+03  4e+00  9e-02\n",
      " 4: -5.4013e+01 -6.6768e+01  4e+02  1e+00  3e-02\n",
      " 5: -3.4063e+01 -4.8975e+01  2e+02  5e-01  1e-02\n",
      " 6: -2.5914e+01 -4.0621e+01  6e+01  1e-01  3e-03\n",
      " 7: -2.7401e+01 -3.6223e+01  3e+01  5e-02  1e-03\n",
      " 8: -2.7638e+01 -3.5074e+01  8e+00  3e-03  8e-05\n",
      " 9: -3.0988e+01 -3.4098e+01  3e+00  1e-03  3e-05\n",
      "10: -3.2654e+01 -3.3708e+01  1e+00  1e-15  9e-13\n",
      "11: -3.3500e+01 -3.3615e+01  1e-01  1e-15  9e-13\n",
      "12: -3.3604e+01 -3.3606e+01  2e-03  1e-15  1e-12\n",
      "13: -3.3606e+01 -3.3606e+01  3e-05  1e-15  1e-12\n",
      "Optimal solution found.\n"
     ]
    }
   ],
   "source": [
    "sol = cv.solvers.qp(P_,Q_,G_,h_)"
   ]
  },
  {
   "cell_type": "code",
   "execution_count": 19,
   "metadata": {},
   "outputs": [],
   "source": [
    "alph = np.array(sol['x'])"
   ]
  },
  {
   "cell_type": "code",
   "execution_count": 20,
   "metadata": {},
   "outputs": [],
   "source": [
    "fw = alph * Y.T"
   ]
  },
  {
   "cell_type": "code",
   "execution_count": 21,
   "metadata": {},
   "outputs": [],
   "source": [
    "w = np.matmul(fw.T,X)"
   ]
  },
  {
   "cell_type": "code",
   "execution_count": 22,
   "metadata": {},
   "outputs": [],
   "source": [
    "R = np.matmul(w,X.T)"
   ]
  },
  {
   "cell_type": "code",
   "execution_count": 23,
   "metadata": {},
   "outputs": [],
   "source": [
    "maxv = 0.0\n",
    "minv = 100000000.0\n",
    "for i in range(0,len(R[0])):\n",
    "    if Y[0][i] == 1:\n",
    "        if(R[0][i] < minv):\n",
    "            minv = R[0][i]\n",
    "    else:\n",
    "        if(R[0][i]>maxv):\n",
    "            maxv = R[0][i]\n",
    "b = -(maxv+minv)/2.0"
   ]
  },
  {
   "cell_type": "code",
   "execution_count": 24,
   "metadata": {},
   "outputs": [],
   "source": [
    "tdata = np.genfromtxt(TEST_FILE,delimiter=',')"
   ]
  },
  {
   "cell_type": "code",
   "execution_count": 25,
   "metadata": {},
   "outputs": [],
   "source": [
    "tY = tdata[:,-1]"
   ]
  },
  {
   "cell_type": "code",
   "execution_count": 26,
   "metadata": {},
   "outputs": [],
   "source": [
    "tX = tdata[:,0:784]\n",
    "\n",
    "tR = np.matmul(w,tX.T)"
   ]
  },
  {
   "cell_type": "code",
   "execution_count": 27,
   "metadata": {},
   "outputs": [],
   "source": [
    "tot = 0\n",
    "corr = 0\n",
    "for i in range(0,len(tR[0])):\n",
    "    if(tY[i] not in classes):\n",
    "        continue;\n",
    "    tot += 1;\n",
    "    if((tR[0][i]>0 and tY[i]==1) or (tR[0][i]<0 and tY[i]==0)):\n",
    "        corr +=1;"
   ]
  },
  {
   "cell_type": "code",
   "execution_count": 28,
   "metadata": {},
   "outputs": [
    {
     "name": "stdout",
     "output_type": "stream",
     "text": [
      "0.977\n"
     ]
    }
   ],
   "source": [
    "print(float(corr)/float(tot))"
   ]
  }
 ],
 "metadata": {
  "kernelspec": {
   "display_name": "Python 2",
   "language": "python",
   "name": "python2"
  },
  "language_info": {
   "codemirror_mode": {
    "name": "ipython",
    "version": 2
   },
   "file_extension": ".py",
   "mimetype": "text/x-python",
   "name": "python",
   "nbconvert_exporter": "python",
   "pygments_lexer": "ipython2",
   "version": "2.7.16"
  }
 },
 "nbformat": 4,
 "nbformat_minor": 2
}
