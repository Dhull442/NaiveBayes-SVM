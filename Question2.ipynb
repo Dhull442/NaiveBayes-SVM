{
 "cells": [
  {
   "cell_type": "code",
   "execution_count": 1,
   "metadata": {},
   "outputs": [],
   "source": [
    "import numpy as np\n",
    "import cvxopt as cv\n",
    "import math\n",
    "from sklearn import svm\n",
    "TRAIN_FILE = 'fashion_mnist/train.csv'\n",
    "TEST_FILE = 'fashion_mnist/test.csv'\n",
    "VAL_FILE = 'fashion_mnist/val.csv'"
   ]
  },
  {
   "cell_type": "code",
   "execution_count": 2,
   "metadata": {},
   "outputs": [],
   "source": [
    "# Load data from files\n",
    "data = np.genfromtxt(TRAIN_FILE,delimiter=',')\n",
    "tdata = np.genfromtxt(TEST_FILE,delimiter=',')\n",
    "vdata = np.genfromtxt(VAL_FILE,delimiter=',')"
   ]
  },
  {
   "cell_type": "code",
   "execution_count": 3,
   "metadata": {},
   "outputs": [],
   "source": [
    "C = 1.0\n",
    "y = 0.05"
   ]
  },
  {
   "cell_type": "markdown",
   "metadata": {},
   "source": [
    "## Binary Classifier"
   ]
  },
  {
   "cell_type": "code",
   "execution_count": 4,
   "metadata": {},
   "outputs": [],
   "source": [
    "# Define classes to classify\n",
    "d = 0\n",
    "classes = [d, (d+1)%10] # Binary classification "
   ]
  },
  {
   "cell_type": "code",
   "execution_count": 70,
   "metadata": {},
   "outputs": [],
   "source": [
    "# change classes to {-1,1}\n",
    "# change values to [0,1] from [0,255]\n",
    "newdata = np.asarray([r for r in data if r[-1] in classes])\n",
    "X = newdata[:,0:784] / 255.0\n",
    "Y = np.asarray(newdata[:,-1])\n",
    "minY = np.min(Y)\n",
    "maxY = np.max(Y)\n",
    "Y = (Y - (float(minY + maxY)/2.0))/(float(maxY - minY)/2.0)\n",
    "Y = np.asarray([Y]).astype(float)"
   ]
  },
  {
   "cell_type": "code",
   "execution_count": 4,
   "metadata": {},
   "outputs": [],
   "source": [
    "# Gaussian Kernel\n",
    "def gaussian(y,v):\n",
    "    return math.exp(-y * v)\n",
    "GAUS = np.vectorize(gaussian)"
   ]
  },
  {
   "cell_type": "code",
   "execution_count": 205,
   "metadata": {},
   "outputs": [],
   "source": [
    "# linear kernel\n",
    "Z = Y.T * X\n",
    "## M x M array Linear kernel\n",
    "P = np.matmul(Z, Z.T)"
   ]
  },
  {
   "cell_type": "code",
   "execution_count": 5,
   "metadata": {},
   "outputs": [],
   "source": [
    "# returns alphas as np array\n",
    "def train(islinear,X,Y):\n",
    "    M = len(X)\n",
    "    P = np.eye(M).astype(float)\n",
    "    if(islinear):\n",
    "        print(\"Using Linear Kernel\")\n",
    "        # linear kernel\n",
    "        Z = Y.T * X\n",
    "        ## M x M array Linear kernel\n",
    "        P = np.matmul(Z, Z.T)\n",
    "    else:\n",
    "        print(\"Using Gaussian Kernel\")\n",
    "        for i in range(0,M):\n",
    "            t = X - X[i]\n",
    "            P[i] = np.sum(t*t,axis=1)\n",
    "        P = np.matmul(Y.T,Y) * GAUS(y,P)\n",
    "    P = cv.matrix(P)\n",
    "    # column vector with all -1\n",
    "    Q = cv.matrix(-1 * np.ones((M,1)).astype(float))\n",
    "    G = cv.matrix(np.vstack((-1 * np.eye(M).astype(float),np.eye(M).astype(float))))\n",
    "    h = cv.matrix(np.vstack((np.zeros((M,1)).astype(float),C * np.ones((M,1)).astype(float))))\n",
    "    A = cv.matrix(Y)\n",
    "    b = cv.matrix([[0]],tc='d')\n",
    "    print(\"Finding the optimal solution:\")\n",
    "    solution = cv.solvers.qp(P,Q,G,h,A,b)\n",
    "    return np.array(solution['x'])"
   ]
  },
  {
   "cell_type": "code",
   "execution_count": 6,
   "metadata": {},
   "outputs": [],
   "source": [
    "def traingaus(GP,Y,M):\n",
    "#     M = len(Y)\n",
    "    print(\"Training on gaussian kernel\")\n",
    "    P = cv.matrix(np.matmul(Y.T,Y) * GP)\n",
    "    # column vector with all -1\n",
    "    Q = cv.matrix(-1 * np.ones((M,1)).astype(float))\n",
    "    G = cv.matrix(np.vstack((-1 * np.eye(M).astype(float),np.eye(M).astype(float))))\n",
    "    h = cv.matrix(np.vstack((np.zeros((M,1)).astype(float),C * np.ones((M,1)).astype(float))))\n",
    "    A = cv.matrix(Y)\n",
    "    b = cv.matrix([[0]],tc='d')\n",
    "    print(\"Finding the optimal solution:\")\n",
    "    solution = cv.solvers.qp(P,Q,G,h,A,b)\n",
    "    return np.array(solution['x'])"
   ]
  },
  {
   "cell_type": "code",
   "execution_count": 112,
   "metadata": {
    "scrolled": true
   },
   "outputs": [
    {
     "name": "stdout",
     "output_type": "stream",
     "text": [
      "Using Linear Kernel\n",
      "Finding the optimal solution:\n",
      "     pcost       dcost       gap    pres   dres\n",
      " 0: -3.2916e+02 -9.3878e+03  5e+04  3e+00  3e-12\n",
      " 1: -2.0018e+02 -5.2391e+03  1e+04  4e-01  2e-12\n",
      " 2: -9.3627e+01 -1.6503e+03  3e+03  8e-02  1e-12\n",
      " 3: -5.1870e+01 -7.1316e+02  1e+03  3e-02  8e-13\n",
      " 4: -2.9393e+01 -4.7263e+02  7e+02  2e-02  5e-13\n",
      " 5: -1.8616e+01 -2.5482e+02  4e+02  7e-03  4e-13\n",
      " 6: -1.5942e+01 -8.1551e+01  9e+01  2e-03  4e-13\n",
      " 7: -1.7889e+01 -4.1759e+01  3e+01  4e-04  4e-13\n",
      " 8: -1.9475e+01 -3.1857e+01  1e+01  8e-05  4e-13\n",
      " 9: -1.9419e+01 -2.8941e+01  1e+01  3e-16  4e-13\n",
      "10: -2.1921e+01 -2.4878e+01  3e+00  9e-16  4e-13\n",
      "11: -2.2590e+01 -2.3752e+01  1e+00  2e-16  4e-13\n",
      "12: -2.3023e+01 -2.3203e+01  2e-01  4e-15  4e-13\n",
      "13: -2.3099e+01 -2.3108e+01  1e-02  2e-15  4e-13\n",
      "14: -2.3103e+01 -2.3103e+01  2e-04  5e-15  4e-13\n",
      "15: -2.3103e+01 -2.3103e+01  2e-06  9e-16  4e-13\n",
      "Optimal solution found.\n"
     ]
    }
   ],
   "source": [
    "alph = train(True)"
   ]
  },
  {
   "cell_type": "code",
   "execution_count": 127,
   "metadata": {},
   "outputs": [],
   "source": [
    "def getLinearParams(alph):\n",
    "    fw = alph * Y.T\n",
    "    w = np.matmul(fw.T,X)\n",
    "    R = np.matmul(w,X.T)\n",
    "    maxv = np.min(R)\n",
    "    minv = np.max(R)\n",
    "    for i in range(0,len(R[0])):\n",
    "        if Y[0][i] == 1:\n",
    "            if(R[0][i] < minv):\n",
    "                minv = R[0][i]\n",
    "        else:\n",
    "            if(R[0][i] > maxv):\n",
    "                maxv = R[0][i]\n",
    "    b = -(maxv+minv)/2.0\n",
    "    nsv = len(np.where(alph > 0.001)[0])\n",
    "    return (w,b,nsv)"
   ]
  },
  {
   "cell_type": "code",
   "execution_count": 132,
   "metadata": {},
   "outputs": [],
   "source": [
    "def testlinear(W,b,X):\n",
    "    return np.matmul(W,X.T) + b"
   ]
  },
  {
   "cell_type": "code",
   "execution_count": 129,
   "metadata": {},
   "outputs": [],
   "source": [
    "(W,b,nV) = getLinearParams(alph)\n"
   ]
  },
  {
   "cell_type": "code",
   "execution_count": 13,
   "metadata": {},
   "outputs": [],
   "source": [
    "tY = tdata[:,-1]\n",
    "tX = tdata[:,0:784]/255.0"
   ]
  },
  {
   "cell_type": "code",
   "execution_count": 14,
   "metadata": {},
   "outputs": [],
   "source": [
    "tx = []\n",
    "ty = []\n",
    "for i in range(0,len(tX)):\n",
    "    if tY[i] not in classes:\n",
    "        continue;\n",
    "    else:\n",
    "        ty.append(tY[i])\n",
    "        tx.append(tX[i])\n",
    "tX = np.asarray(tx)\n",
    "tY = np.asarray(ty)"
   ]
  },
  {
   "cell_type": "code",
   "execution_count": 226,
   "metadata": {},
   "outputs": [],
   "source": [
    "\n",
    "tR = np.matmul(w,tX.T) + b"
   ]
  },
  {
   "cell_type": "code",
   "execution_count": 227,
   "metadata": {},
   "outputs": [],
   "source": [
    "tot = 0\n",
    "corr = 0\n",
    "for i in range(0,len(tR[0])):\n",
    "    if(tY[i] not in classes):\n",
    "        continue;\n",
    "    tot += 1;\n",
    "    if((tR[0][i]>0 and tY[i]==1) or (tR[0][i]<0 and tY[i]==0)):\n",
    "        corr +=1;"
   ]
  },
  {
   "cell_type": "raw",
   "metadata": {},
   "source": [
    "Accuracy without error = 0.954\n",
    "Accuracy with error = 0.982"
   ]
  },
  {
   "cell_type": "code",
   "execution_count": 228,
   "metadata": {
    "scrolled": true
   },
   "outputs": [
    {
     "name": "stdout",
     "output_type": "stream",
     "text": [
      "0.982\n"
     ]
    }
   ],
   "source": [
    "print(float(corr)/float(tot))"
   ]
  },
  {
   "cell_type": "code",
   "execution_count": 30,
   "metadata": {},
   "outputs": [],
   "source": [
    "y = 0.05\n",
    "P = np.eye(len(X)).astype(float)\n",
    "for i in range(0,len(X)):\n",
    "    t = X - X[i]\n",
    "    P[i] = np.sum(t*t,axis=1)"
   ]
  },
  {
   "cell_type": "code",
   "execution_count": 33,
   "metadata": {},
   "outputs": [],
   "source": [
    "g = np.vectorize(gaussian)\n",
    "pp = g(y,P)"
   ]
  },
  {
   "cell_type": "code",
   "execution_count": 34,
   "metadata": {},
   "outputs": [],
   "source": [
    "# P matrix\n",
    "pp = np.matmul(Y.T,Y) * pp"
   ]
  },
  {
   "cell_type": "code",
   "execution_count": 45,
   "metadata": {},
   "outputs": [],
   "source": [
    "A_ = cv.matrix(A)\n",
    "P_ = cv.matrix(pp)\n",
    "Q_ = cv.matrix(Q)\n",
    "G_ = cv.matrix(G)\n",
    "h_ = cv.matrix(h)\n",
    "b_ = cv.matrix(B,tc='d')"
   ]
  },
  {
   "cell_type": "code",
   "execution_count": 46,
   "metadata": {},
   "outputs": [
    {
     "name": "stdout",
     "output_type": "stream",
     "text": [
      "     pcost       dcost       gap    pres   dres\n",
      " 0: -1.6492e+02 -6.6070e+03  3e+04  2e+00  1e-15\n",
      " 1: -1.1407e+02 -3.0686e+03  5e+03  2e-01  2e-15\n",
      " 2: -1.0459e+02 -7.6952e+02  9e+02  3e-02  2e-15\n",
      " 3: -1.2684e+02 -3.0203e+02  2e+02  6e-03  2e-15\n",
      " 4: -1.4133e+02 -2.0101e+02  6e+01  1e-03  1e-15\n",
      " 5: -1.4945e+02 -1.6809e+02  2e+01  2e-04  1e-15\n",
      " 6: -1.5144e+02 -1.6280e+02  1e+01  3e-05  1e-15\n",
      " 7: -1.5364e+02 -1.5728e+02  4e+00  7e-06  1e-15\n",
      " 8: -1.5443e+02 -1.5550e+02  1e+00  9e-16  1e-15\n",
      " 9: -1.5478e+02 -1.5492e+02  1e-01  7e-15  1e-15\n",
      "10: -1.5483e+02 -1.5484e+02  4e-03  1e-14  1e-15\n",
      "11: -1.5483e+02 -1.5483e+02  6e-05  1e-14  1e-15\n",
      "Optimal solution found.\n"
     ]
    }
   ],
   "source": [
    "sol = cv.solvers.qp(P_,Q_,G_,h_,A_,b_)"
   ]
  },
  {
   "cell_type": "code",
   "execution_count": 47,
   "metadata": {},
   "outputs": [],
   "source": [
    "alph = np.array(sol['x'])"
   ]
  },
  {
   "cell_type": "code",
   "execution_count": 48,
   "metadata": {},
   "outputs": [],
   "source": [
    "fW = alph * Y.T"
   ]
  },
  {
   "cell_type": "code",
   "execution_count": 50,
   "metadata": {},
   "outputs": [],
   "source": [
    "# get b\n",
    "R = np.ones((len(X),len(X))).astype(float)\n",
    "for i in range(0,len(X)):\n",
    "    tt = X - X[i]\n",
    "    R[i] = np.sum(tt*tt,axis = 1)\n"
   ]
  },
  {
   "cell_type": "code",
   "execution_count": 51,
   "metadata": {},
   "outputs": [],
   "source": [
    "R = np.sum(fW* g(y,R), axis=0)"
   ]
  },
  {
   "cell_type": "code",
   "execution_count": 54,
   "metadata": {},
   "outputs": [
    {
     "data": {
      "text/plain": [
       "(4500,)"
      ]
     },
     "execution_count": 54,
     "metadata": {},
     "output_type": "execute_result"
    }
   ],
   "source": [
    "R.shape"
   ]
  },
  {
   "cell_type": "code",
   "execution_count": 56,
   "metadata": {},
   "outputs": [],
   "source": [
    "minv = 100\n",
    "maxv = -100\n",
    "for i in range(0,len(R)):\n",
    "    if(Y[0][i]==-1 and R[i] > maxv):\n",
    "        maxv = R[i]\n",
    "    elif(Y[0][i]==1 and R[i]<minv):\n",
    "        minv = R[i]\n",
    "b = -(maxv + minv)/2.0"
   ]
  },
  {
   "cell_type": "code",
   "execution_count": 58,
   "metadata": {},
   "outputs": [],
   "source": [
    "# Test\n",
    "tx = np.ones((len(X),len(tX))).astype(float)\n",
    "for i in range(0,len(X)):\n",
    "    tt = tX - X[i]\n",
    "    tx[i] = np.sum(tt*tt,axis = 1)"
   ]
  },
  {
   "cell_type": "code",
   "execution_count": 186,
   "metadata": {},
   "outputs": [],
   "source": [
    "Gg = g(y,tx)"
   ]
  },
  {
   "cell_type": "code",
   "execution_count": 187,
   "metadata": {},
   "outputs": [
    {
     "data": {
      "text/plain": [
       "array([[0., 0., 0., ..., 0., 0., 0.],\n",
       "       [0., 0., 0., ..., 0., 0., 0.],\n",
       "       [0., 0., 0., ..., 0., 0., 0.],\n",
       "       ...,\n",
       "       [0., 0., 0., ..., 0., 0., 0.],\n",
       "       [0., 0., 0., ..., 0., 0., 0.],\n",
       "       [0., 0., 0., ..., 0., 0., 0.]])"
      ]
     },
     "execution_count": 187,
     "metadata": {},
     "output_type": "execute_result"
    }
   ],
   "source": [
    "Gg"
   ]
  },
  {
   "cell_type": "code",
   "execution_count": 61,
   "metadata": {},
   "outputs": [],
   "source": [
    "R = np.sum(fW * g(y,tx), axis=0) + b"
   ]
  },
  {
   "cell_type": "code",
   "execution_count": 62,
   "metadata": {},
   "outputs": [],
   "source": [
    "corr = 0\n",
    "for i in range(0,len(R)):\n",
    "    if((R[i] >= 0 and tY[i]==1 )or(R[i]<0 and tY[i] ==0)):\n",
    "        corr +=1"
   ]
  },
  {
   "cell_type": "code",
   "execution_count": 63,
   "metadata": {},
   "outputs": [
    {
     "data": {
      "text/plain": [
       "0.993"
      ]
     },
     "execution_count": 63,
     "metadata": {},
     "output_type": "execute_result"
    }
   ],
   "source": [
    "corr/float(len(R))"
   ]
  },
  {
   "cell_type": "code",
   "execution_count": 4,
   "metadata": {},
   "outputs": [],
   "source": [
    "\n",
    "clf1 = svm.SVC(kernel='linear')\n",
    "clf2 = svm.SVC()"
   ]
  },
  {
   "cell_type": "code",
   "execution_count": 9,
   "metadata": {},
   "outputs": [
    {
     "data": {
      "text/plain": [
       "SVC(C=1.0, cache_size=200, class_weight=None, coef0=0.0,\n",
       "  decision_function_shape='ovr', degree=3, gamma='auto_deprecated',\n",
       "  kernel='linear', max_iter=-1, probability=False, random_state=None,\n",
       "  shrinking=True, tol=0.001, verbose=False)"
      ]
     },
     "execution_count": 9,
     "metadata": {},
     "output_type": "execute_result"
    }
   ],
   "source": [
    "clf1.fit(X,Y[0])"
   ]
  },
  {
   "cell_type": "code",
   "execution_count": 10,
   "metadata": {},
   "outputs": [
    {
     "name": "stderr",
     "output_type": "stream",
     "text": [
      "/home/dhull/.conda/envs/ocr/lib/python2.7/site-packages/sklearn/svm/base.py:196: FutureWarning: The default value of gamma will change from 'auto' to 'scale' in version 0.22 to account better for unscaled features. Set gamma explicitly to 'auto' or 'scale' to avoid this warning.\n",
      "  \"avoid this warning.\", FutureWarning)\n"
     ]
    },
    {
     "data": {
      "text/plain": [
       "SVC(C=1.0, cache_size=200, class_weight=None, coef0=0.0,\n",
       "  decision_function_shape='ovr', degree=3, gamma='auto_deprecated',\n",
       "  kernel='rbf', max_iter=-1, probability=False, random_state=None,\n",
       "  shrinking=True, tol=0.001, verbose=False)"
      ]
     },
     "execution_count": 10,
     "metadata": {},
     "output_type": "execute_result"
    }
   ],
   "source": [
    "clf2.fit(X,Y[0])"
   ]
  },
  {
   "cell_type": "code",
   "execution_count": 16,
   "metadata": {
    "scrolled": true
   },
   "outputs": [],
   "source": [
    "t2Y = clf2.predict(tX)\n",
    "t1Y = clf1.predict(tX)"
   ]
  },
  {
   "cell_type": "code",
   "execution_count": 17,
   "metadata": {},
   "outputs": [
    {
     "data": {
      "text/plain": [
       "(1000,)"
      ]
     },
     "execution_count": 17,
     "metadata": {},
     "output_type": "execute_result"
    }
   ],
   "source": [
    "t1Y.shape"
   ]
  },
  {
   "cell_type": "code",
   "execution_count": 19,
   "metadata": {},
   "outputs": [],
   "source": [
    "lacc = 0.0\n",
    "gacc = 0.0\n",
    "for i in range(0,len(t1Y)):\n",
    "    if((t2Y[i] > 0 and tY[i] > 0) or (t2Y[i]<0 and tY[i]==0)):\n",
    "        gacc+=1\n",
    "    if((t1Y[i] > 0 and tY[i] > 0) or (t1Y[i]<0 and tY[i]==0)):\n",
    "        lacc+=1\n",
    "lacc /= float(len(t1Y))\n",
    "gacc /= float(len(t1Y))"
   ]
  },
  {
   "cell_type": "code",
   "execution_count": 110,
   "metadata": {},
   "outputs": [
    {
     "data": {
      "text/plain": [
       "array([275, 273], dtype=int32)"
      ]
     },
     "execution_count": 110,
     "metadata": {},
     "output_type": "execute_result"
    }
   ],
   "source": [
    "clf2.n_support_"
   ]
  },
  {
   "cell_type": "markdown",
   "metadata": {},
   "source": [
    "## Multi Class Classifier"
   ]
  },
  {
   "cell_type": "code",
   "execution_count": null,
   "metadata": {},
   "outputs": [],
   "source": [
    "# this would be a nC2 array storing alph. (only making it for gaussian)"
   ]
  },
  {
   "cell_type": "code",
   "execution_count": 11,
   "metadata": {},
   "outputs": [],
   "source": [
    "# get classes in different rows\n",
    "allX = data[:,0:784] / 255.0\n",
    "Y = data[:,-1]"
   ]
  },
  {
   "cell_type": "code",
   "execution_count": 12,
   "metadata": {},
   "outputs": [],
   "source": [
    "X = {}\n",
    "for i in range(0,len(allX)):\n",
    "    if Y[i] not in X:\n",
    "        X[Y[i]] = [allX[i]]\n",
    "    else:\n",
    "        X[Y[i]].append(allX[i])"
   ]
  },
  {
   "cell_type": "code",
   "execution_count": 13,
   "metadata": {},
   "outputs": [],
   "source": [
    "ALPHAxY = np.zeros((10,10,4500,1)).astype(float)\n",
    "b = np.zeros((10,10)).astype(float)"
   ]
  },
  {
   "cell_type": "code",
   "execution_count": 14,
   "metadata": {},
   "outputs": [],
   "source": [
    "# Load saved Alphas and b\n",
    "ALPHAxY = np.load('alphxy.npy')\n",
    "b = np.load('b.npy')"
   ]
  },
  {
   "cell_type": "code",
   "execution_count": 15,
   "metadata": {},
   "outputs": [],
   "source": [
    "def getB(ALPHA,GP):\n",
    "    R = np.sum(ALPHA * GP, axis=0)\n",
    "    M = len(R)\n",
    "    ## assuming arangement is such that top layers is Y = -1 and bottom is Y = 1\n",
    "    maxv = np.max(R[0:M/2])\n",
    "    minv = np.min(R[M/2:])\n",
    "    b = -(maxv + minv)/2.0\n",
    "    return b"
   ]
  },
  {
   "cell_type": "code",
   "execution_count": 16,
   "metadata": {},
   "outputs": [],
   "source": [
    "def ip(G,X,i):\n",
    "    G[i] = np.sum((X-X[i])**2, axis=1)\n",
    "IP = np.vectorize(ip)"
   ]
  },
  {
   "cell_type": "code",
   "execution_count": 17,
   "metadata": {},
   "outputs": [],
   "source": [
    "import time"
   ]
  },
  {
   "cell_type": "code",
   "execution_count": 12,
   "metadata": {},
   "outputs": [
    {
     "name": "stdout",
     "output_type": "stream",
     "text": [
      "training for 0 1\n",
      "Training on gaussian kernel\n",
      "Finding the optimal solution:\n",
      "     pcost       dcost       gap    pres   dres\n",
      " 0: -1.6492e+02 -6.6070e+03  3e+04  2e+00  4e-15\n",
      " 1: -1.1407e+02 -3.0686e+03  5e+03  2e-01  4e-15\n",
      " 2: -1.0459e+02 -7.6952e+02  9e+02  3e-02  4e-15\n",
      " 3: -1.2684e+02 -3.0203e+02  2e+02  6e-03  4e-15\n",
      " 4: -1.4133e+02 -2.0101e+02  6e+01  1e-03  3e-15\n",
      " 5: -1.4945e+02 -1.6809e+02  2e+01  2e-04  3e-15\n",
      " 6: -1.5144e+02 -1.6280e+02  1e+01  3e-05  3e-15\n",
      " 7: -1.5364e+02 -1.5728e+02  4e+00  7e-06  3e-15\n",
      " 8: -1.5443e+02 -1.5550e+02  1e+00  7e-14  3e-15\n",
      " 9: -1.5478e+02 -1.5492e+02  1e-01  2e-13  3e-15\n",
      "10: -1.5483e+02 -1.5484e+02  4e-03  5e-14  4e-15\n",
      "11: -1.5483e+02 -1.5483e+02  6e-05  2e-14  4e-15\n",
      "Optimal solution found.\n",
      "131.822613955\n",
      "training for 0 2\n",
      "Training on gaussian kernel\n",
      "Finding the optimal solution:\n",
      "     pcost       dcost       gap    pres   dres\n",
      " 0: -3.7366e+02 -8.4330e+03  4e+04  2e+00  4e-15\n",
      " 1: -2.8341e+02 -4.5691e+03  7e+03  2e-01  5e-15\n",
      " 2: -2.6181e+02 -1.1549e+03  1e+03  3e-02  5e-15\n",
      " 3: -3.1375e+02 -5.8168e+02  3e+02  6e-03  5e-15\n",
      " 4: -3.4227e+02 -4.1865e+02  8e+01  1e-03  5e-15\n",
      " 5: -3.5409e+02 -3.7849e+02  2e+01  2e-04  5e-15\n",
      " 6: -3.5907e+02 -3.6537e+02  6e+00  2e-05  5e-15\n",
      " 7: -3.6070e+02 -3.6180e+02  1e+00  2e-06  5e-15\n",
      " 8: -3.6105e+02 -3.6113e+02  8e-02  1e-07  5e-15\n",
      " 9: -3.6108e+02 -3.6108e+02  2e-03  3e-09  5e-15\n",
      "10: -3.6108e+02 -3.6108e+02  4e-05  4e-11  5e-15\n",
      "Optimal solution found.\n",
      "260.521622896\n",
      "training for 0 3\n",
      "Training on gaussian kernel\n",
      "Finding the optimal solution:\n",
      "     pcost       dcost       gap    pres   dres\n",
      " 0: -5.0649e+02 -8.5038e+03  4e+04  2e+00  8e-15\n",
      " 1: -4.0102e+02 -4.7685e+03  7e+03  2e-01  1e-14\n",
      " 2: -3.8628e+02 -1.1830e+03  9e+02  2e-02  1e-14\n",
      " 3: -4.5117e+02 -7.2740e+02  3e+02  6e-03  9e-15\n",
      " 4: -4.8441e+02 -5.8062e+02  1e+02  1e-03  1e-14\n",
      " 5: -5.0013e+02 -5.2734e+02  3e+01  2e-05  1e-14\n",
      " 6: -5.0580e+02 -5.1293e+02  7e+00  1e-06  1e-14\n",
      " 7: -5.0772e+02 -5.0866e+02  9e-01  1e-12  1e-14\n",
      " 8: -5.0800e+02 -5.0814e+02  1e-01  8e-14  1e-14\n",
      " 9: -5.0805e+02 -5.0806e+02  6e-03  2e-13  1e-14\n",
      "10: -5.0805e+02 -5.0805e+02  2e-04  6e-14  1e-14\n",
      "Optimal solution found.\n",
      "376.047832966\n",
      "training for 0 4\n",
      "Training on gaussian kernel\n",
      "Finding the optimal solution:\n",
      "     pcost       dcost       gap    pres   dres\n",
      " 0: -2.6859e+02 -7.0722e+03  3e+04  2e+00  4e-15\n",
      " 1: -1.9279e+02 -3.5589e+03  5e+03  2e-01  4e-15\n",
      " 2: -1.7237e+02 -8.6876e+02  9e+02  3e-02  4e-15\n",
      " 3: -2.1276e+02 -4.3671e+02  3e+02  7e-03  4e-15\n",
      " 4: -2.3708e+02 -3.0397e+02  7e+01  1e-03  3e-15\n",
      " 5: -2.4834e+02 -2.6677e+02  2e+01  3e-04  3e-15\n",
      " 6: -2.5227e+02 -2.5748e+02  5e+00  6e-05  3e-15\n",
      " 7: -2.5364e+02 -2.5461e+02  1e+00  4e-13  4e-15\n",
      " 8: -2.5398e+02 -2.5404e+02  5e-02  6e-13  4e-15\n",
      " 9: -2.5400e+02 -2.5401e+02  1e-03  3e-13  4e-15\n",
      "10: -2.5400e+02 -2.5400e+02  3e-05  1e-13  4e-15\n",
      "Optimal solution found.\n",
      "490.38398695\n",
      "training for 0 5\n",
      "Training on gaussian kernel\n",
      "Finding the optimal solution:\n",
      "     pcost       dcost       gap    pres   dres\n",
      " 0: -1.9696e+02 -7.3592e+03  3e+04  2e+00  3e-15\n",
      " 1: -1.3157e+02 -3.7922e+03  6e+03  2e-01  2e-15\n",
      " 2: -1.0046e+02 -9.5864e+02  1e+03  4e-02  5e-15\n",
      " 3: -1.3521e+02 -3.4380e+02  2e+02  7e-03  2e-15\n",
      " 4: -1.5380e+02 -2.1468e+02  6e+01  8e-04  2e-15\n",
      " 5: -1.6312e+02 -1.8376e+02  2e+01  2e-14  2e-15\n",
      " 6: -1.6683e+02 -1.7392e+02  7e+00  4e-13  2e-15\n",
      " 7: -1.6823e+02 -1.7056e+02  2e+00  2e-13  2e-15\n",
      " 8: -1.6889e+02 -1.6928e+02  4e-01  1e-13  2e-15\n",
      " 9: -1.6902e+02 -1.6904e+02  2e-02  4e-13  2e-15\n",
      "10: -1.6903e+02 -1.6903e+02  3e-04  5e-13  2e-15\n",
      "11: -1.6903e+02 -1.6903e+02  4e-06  2e-13  2e-15\n",
      "Optimal solution found.\n",
      "607.491107941\n",
      "training for 0 6\n",
      "Training on gaussian kernel\n",
      "Finding the optimal solution:\n",
      "     pcost       dcost       gap    pres   dres\n",
      " 0: -1.0396e+03 -9.5846e+03  4e+04  2e+00  1e-14\n",
      " 1: -8.6974e+02 -5.8661e+03  7e+03  2e-01  2e-14\n",
      " 2: -8.9358e+02 -1.8092e+03  1e+03  2e-02  2e-14\n",
      " 3: -9.9727e+02 -1.2864e+03  3e+02  5e-03  2e-14\n",
      " 4: -1.0441e+03 -1.1319e+03  9e+01  8e-04  2e-14\n",
      " 5: -1.0607e+03 -1.0851e+03  2e+01  2e-04  2e-14\n",
      " 6: -1.0662e+03 -1.0717e+03  6e+00  3e-05  2e-14\n",
      " 7: -1.0675e+03 -1.0687e+03  1e+00  4e-06  2e-14\n",
      " 8: -1.0679e+03 -1.0679e+03  5e-02  3e-08  2e-14\n",
      " 9: -1.0679e+03 -1.0679e+03  1e-03  6e-10  2e-14\n",
      "Optimal solution found.\n",
      "715.435499907\n",
      "training for 0 7\n",
      "Training on gaussian kernel\n",
      "Finding the optimal solution:\n",
      "     pcost       dcost       gap    pres   dres\n",
      " 0: -1.0789e+02 -7.4144e+03  4e+04  2e+00  3e-15\n",
      " 1: -5.8581e+01 -3.7245e+03  6e+03  3e-01  2e-15\n",
      " 2: -1.8417e+01 -8.7407e+02  1e+03  4e-02  4e-15\n",
      " 3: -3.8829e+01 -1.9635e+02  2e+02  5e-03  3e-15\n",
      " 4: -5.5771e+01 -1.0639e+02  5e+01  1e-03  2e-15\n",
      " 5: -6.3792e+01 -8.0947e+01  2e+01  1e-04  2e-15\n",
      " 6: -6.7399e+01 -7.2673e+01  5e+00  2e-05  1e-15\n",
      " 7: -6.8657e+01 -7.0232e+01  2e+00  1e-06  1e-15\n",
      " 8: -6.9169e+01 -6.9365e+01  2e-01  9e-09  1e-15\n",
      " 9: -6.9247e+01 -6.9257e+01  1e-02  4e-10  2e-15\n",
      "10: -6.9251e+01 -6.9251e+01  2e-04  6e-12  2e-15\n",
      "11: -6.9251e+01 -6.9251e+01  3e-06  2e-13  2e-15\n",
      "Optimal solution found.\n",
      "833.028904915\n",
      "training for 0 8\n",
      "Training on gaussian kernel\n",
      "Finding the optimal solution:\n",
      "     pcost       dcost       gap    pres   dres\n",
      " 0: -2.7984e+02 -7.6220e+03  3e+04  2e+00  3e-15\n",
      " 1: -2.0299e+02 -4.0371e+03  6e+03  2e-01  2e-15\n",
      " 2: -1.7493e+02 -1.2336e+03  1e+03  4e-02  3e-15\n",
      " 3: -2.1659e+02 -4.2387e+02  2e+02  6e-03  2e-15\n",
      " 4: -2.4162e+02 -2.9524e+02  6e+01  7e-04  2e-15\n",
      " 5: -2.5192e+02 -2.6612e+02  1e+01  1e-04  2e-15\n",
      " 6: -2.5529e+02 -2.5891e+02  4e+00  2e-05  2e-15\n",
      " 7: -2.5634e+02 -2.5681e+02  5e-01  8e-07  2e-15\n",
      " 8: -2.5650e+02 -2.5653e+02  3e-02  4e-08  2e-15\n",
      " 9: -2.5651e+02 -2.5651e+02  6e-04  7e-10  2e-15\n",
      "10: -2.5651e+02 -2.5651e+02  1e-05  1e-11  2e-15\n",
      "Optimal solution found.\n",
      "944.743855953\n",
      "training for 0 9\n",
      "Training on gaussian kernel\n",
      "Finding the optimal solution:\n",
      "     pcost       dcost       gap    pres   dres\n",
      " 0: -1.3464e+02 -6.8388e+03  3e+04  2e+00  2e-15\n",
      " 1: -7.6690e+01 -3.2910e+03  5e+03  2e-01  2e-15\n",
      " 2: -5.4390e+01 -6.8811e+02  8e+02  3e-02  3e-15\n",
      " 3: -8.6653e+01 -2.4599e+02  2e+02  5e-03  2e-15\n",
      " 4: -1.0255e+02 -1.5246e+02  5e+01  1e-03  1e-15\n",
      " 5: -1.0963e+02 -1.2739e+02  2e+01  3e-04  1e-15\n",
      " 6: -1.1318e+02 -1.1820e+02  5e+00  4e-05  1e-15\n",
      " 7: -1.1445e+02 -1.1556e+02  1e+00  4e-06  1e-15\n",
      " 8: -1.1479e+02 -1.1496e+02  2e-01  5e-07  1e-15\n",
      " 9: -1.1485e+02 -1.1486e+02  5e-03  9e-09  1e-15\n",
      "10: -1.1485e+02 -1.1485e+02  1e-04  2e-10  1e-15\n",
      "Optimal solution found.\n",
      "1057.51462388\n",
      "training for 1 2\n",
      "Training on gaussian kernel\n",
      "Finding the optimal solution:\n",
      "     pcost       dcost       gap    pres   dres\n",
      " 0: -1.3552e+02 -7.1330e+03  3e+04  2e+00  3e-15\n",
      " 1: -8.6508e+01 -3.3924e+03  5e+03  2e-01  2e-15\n",
      " 2: -7.2456e+01 -7.5584e+02  9e+02  3e-02  3e-15\n",
      " 3: -9.8211e+01 -2.9087e+02  2e+02  6e-03  2e-15\n",
      " 4: -1.1260e+02 -1.7965e+02  7e+01  2e-03  2e-15\n",
      " 5: -1.2011e+02 -1.4295e+02  2e+01  3e-04  2e-15\n",
      " 6: -1.2381e+02 -1.3099e+02  7e+00  1e-13  2e-15\n",
      " 7: -1.2520e+02 -1.2765e+02  2e+00  2e-13  2e-15\n",
      " 8: -1.2579e+02 -1.2645e+02  7e-01  1e-13  2e-15\n",
      " 9: -1.2601e+02 -1.2606e+02  5e-02  6e-14  2e-15\n",
      "10: -1.2603e+02 -1.2603e+02  1e-03  4e-14  2e-15\n",
      "11: -1.2603e+02 -1.2603e+02  1e-05  5e-14  2e-15\n",
      "Optimal solution found.\n",
      "1174.95784187\n",
      "training for 1 3\n",
      "Training on gaussian kernel\n",
      "Finding the optimal solution:\n",
      "     pcost       dcost       gap    pres   dres\n",
      " 0: -2.2920e+02 -7.6513e+03  4e+04  2e+00  5e-15\n",
      " 1: -1.5609e+02 -3.9103e+03  6e+03  2e-01  6e-15\n",
      " 2: -1.3600e+02 -9.2629e+02  1e+03  3e-02  6e-15\n",
      " 3: -1.7295e+02 -4.3323e+02  3e+02  7e-03  6e-15\n",
      " 4: -1.9647e+02 -2.7544e+02  8e+01  1e-03  6e-15\n",
      " 5: -2.0746e+02 -2.3515e+02  3e+01  1e-04  5e-15\n",
      " 6: -2.1226e+02 -2.2191e+02  1e+01  2e-05  5e-15\n",
      " 7: -2.1376e+02 -2.1815e+02  4e+00  4e-14  6e-15\n",
      " 8: -2.1495e+02 -2.1581e+02  9e-01  1e-14  6e-15\n",
      " 9: -2.1517e+02 -2.1539e+02  2e-01  7e-14  6e-15\n",
      "10: -2.1525e+02 -2.1526e+02  7e-03  3e-13  6e-15\n",
      "11: -2.1526e+02 -2.1526e+02  1e-04  3e-13  6e-15\n",
      "Optimal solution found.\n",
      "1292.72414494\n",
      "training for 1 4\n",
      "Training on gaussian kernel\n",
      "Finding the optimal solution:\n",
      "     pcost       dcost       gap    pres   dres\n",
      " 0: -1.2784e+02 -6.4239e+03  3e+04  2e+00  3e-15\n",
      " 1: -8.0058e+01 -2.9152e+03  4e+03  2e-01  2e-15\n",
      " 2: -6.9558e+01 -6.4681e+02  7e+02  3e-02  3e-15\n",
      " 3: -9.4376e+01 -2.5073e+02  2e+02  5e-03  2e-15\n"
     ]
    },
    {
     "name": "stdout",
     "output_type": "stream",
     "text": [
      " 4: -1.0877e+02 -1.5571e+02  5e+01  7e-04  2e-15\n",
      " 5: -1.1554e+02 -1.3286e+02  2e+01  1e-04  2e-15\n",
      " 6: -1.1887e+02 -1.2384e+02  5e+00  2e-06  2e-15\n",
      " 7: -1.2010e+02 -1.2121e+02  1e+00  3e-14  2e-15\n",
      " 8: -1.2044e+02 -1.2063e+02  2e-01  1e-13  2e-15\n",
      " 9: -1.2051e+02 -1.2052e+02  1e-02  2e-15  2e-15\n",
      "10: -1.2052e+02 -1.2052e+02  2e-04  9e-14  2e-15\n",
      "11: -1.2052e+02 -1.2052e+02  9e-06  1e-13  2e-15\n",
      "Optimal solution found.\n",
      "1410.99896193\n",
      "training for 1 5\n",
      "Training on gaussian kernel\n",
      "Finding the optimal solution:\n",
      "     pcost       dcost       gap    pres   dres\n",
      " 0: -9.3956e+01 -6.5185e+03  3e+04  2e+00  2e-15\n",
      " 1: -5.0069e+01 -2.9491e+03  5e+03  2e-01  2e-15\n",
      " 2: -3.9046e+01 -6.7825e+02  8e+02  3e-02  2e-15\n",
      " 3: -6.0172e+01 -2.0557e+02  2e+02  5e-03  2e-15\n",
      " 4: -7.2614e+01 -1.1949e+02  5e+01  1e-03  2e-15\n",
      " 5: -7.7575e+01 -9.6388e+01  2e+01  1e-04  1e-15\n",
      " 6: -7.9825e+01 -8.8992e+01  9e+00  2e-13  1e-15\n",
      " 7: -8.1322e+01 -8.4537e+01  3e+00  2e-13  1e-15\n",
      " 8: -8.1909e+01 -8.3041e+01  1e+00  7e-14  1e-15\n",
      " 9: -8.2190e+01 -8.2488e+01  3e-01  3e-14  1e-15\n",
      "10: -8.2279e+01 -8.2332e+01  5e-02  5e-14  1e-15\n",
      "11: -8.2299e+01 -8.2300e+01  2e-03  6e-14  1e-15\n",
      "12: -8.2299e+01 -8.2299e+01  2e-05  5e-14  1e-15\n",
      "Optimal solution found.\n",
      "1532.27563286\n",
      "training for 1 6\n",
      "Training on gaussian kernel\n",
      "Finding the optimal solution:\n",
      "     pcost       dcost       gap    pres   dres\n",
      " 0: -1.6321e+02 -6.5609e+03  3e+04  2e+00  3e-15\n",
      " 1: -1.1075e+02 -3.0589e+03  5e+03  2e-01  3e-15\n",
      " 2: -1.0167e+02 -7.6887e+02  9e+02  3e-02  3e-15\n",
      " 3: -1.2535e+02 -3.1952e+02  2e+02  7e-03  3e-15\n",
      " 4: -1.4028e+02 -2.0638e+02  7e+01  2e-03  3e-15\n",
      " 5: -1.4794e+02 -1.7118e+02  2e+01  2e-04  2e-15\n",
      " 6: -1.5107e+02 -1.6136e+02  1e+01  1e-05  2e-15\n",
      " 7: -1.5295e+02 -1.5632e+02  3e+00  3e-06  2e-15\n",
      " 8: -1.5376e+02 -1.5442e+02  7e-01  2e-13  3e-15\n",
      " 9: -1.5397e+02 -1.5405e+02  8e-02  1e-15  2e-15\n",
      "10: -1.5400e+02 -1.5400e+02  2e-03  6e-14  3e-15\n",
      "11: -1.5400e+02 -1.5400e+02  6e-05  1e-13  2e-15\n",
      "Optimal solution found.\n",
      "1648.71522403\n",
      "training for 1 7\n",
      "Training on gaussian kernel\n",
      "Finding the optimal solution:\n",
      "     pcost       dcost       gap    pres   dres\n",
      " 0: -6.5955e+01 -6.5221e+03  3e+04  2e+00  2e-15\n",
      " 1: -3.1834e+01 -2.9574e+03  5e+03  2e-01  2e-15\n",
      " 2: -1.0088e+01 -5.1383e+02  7e+02  2e-02  3e-15\n",
      " 3: -2.7978e+01 -1.2024e+02  1e+02  3e-03  2e-15\n",
      " 4: -3.8190e+01 -7.0454e+01  3e+01  8e-04  2e-15\n",
      " 5: -4.2441e+01 -5.6406e+01  1e+01  3e-04  1e-15\n",
      " 6: -4.4726e+01 -5.0658e+01  6e+00  5e-05  1e-15\n",
      " 7: -4.5554e+01 -4.8795e+01  3e+00  2e-14  1e-15\n",
      " 8: -4.6276e+01 -4.7407e+01  1e+00  9e-14  1e-15\n",
      " 9: -4.6545e+01 -4.6900e+01  4e-01  2e-14  1e-15\n",
      "10: -4.6685e+01 -4.6706e+01  2e-02  3e-14  1e-15\n",
      "11: -4.6694e+01 -4.6695e+01  4e-04  4e-14  1e-15\n",
      "12: -4.6694e+01 -4.6694e+01  5e-06  3e-14  1e-15\n",
      "Optimal solution found.\n",
      "1770.50064397\n",
      "training for 1 8\n",
      "Training on gaussian kernel\n",
      "Finding the optimal solution:\n",
      "     pcost       dcost       gap    pres   dres\n",
      " 0: -1.1469e+02 -6.6612e+03  3e+04  2e+00  3e-15\n",
      " 1: -6.4473e+01 -3.0959e+03  5e+03  2e-01  2e-15\n",
      " 2: -5.1691e+01 -7.9899e+02  1e+03  3e-02  2e-15\n",
      " 3: -7.6800e+01 -2.6329e+02  2e+02  6e-03  2e-15\n",
      " 4: -9.2410e+01 -1.4435e+02  5e+01  1e-03  2e-15\n",
      " 5: -9.8364e+01 -1.1956e+02  2e+01  3e-04  1e-15\n",
      " 6: -1.0088e+02 -1.1105e+02  1e+01  2e-13  1e-15\n",
      " 7: -1.0257e+02 -1.0606e+02  3e+00  8e-14  1e-15\n",
      " 8: -1.0324e+02 -1.0426e+02  1e+00  2e-13  1e-15\n",
      " 9: -1.0355e+02 -1.0367e+02  1e-01  4e-14  1e-15\n",
      "10: -1.0359e+02 -1.0359e+02  5e-03  9e-14  1e-15\n",
      "11: -1.0359e+02 -1.0359e+02  1e-04  7e-14  1e-15\n",
      "12: -1.0359e+02 -1.0359e+02  2e-06  3e-14  1e-15\n",
      "Optimal solution found.\n",
      "1891.31667399\n",
      "training for 1 9\n",
      "Training on gaussian kernel\n",
      "Finding the optimal solution:\n",
      "     pcost       dcost       gap    pres   dres\n",
      " 0: -7.7086e+01 -6.2810e+03  3e+04  2e+00  2e-15\n",
      " 1: -3.6190e+01 -2.7260e+03  4e+03  2e-01  2e-15\n",
      " 2: -2.6916e+01 -5.5124e+02  7e+02  2e-02  2e-15\n",
      " 3: -4.8738e+01 -1.5892e+02  1e+02  3e-03  2e-15\n",
      " 4: -5.9871e+01 -9.4267e+01  4e+01  8e-04  1e-15\n",
      " 5: -6.4611e+01 -7.7166e+01  1e+01  1e-04  1e-15\n",
      " 6: -6.6205e+01 -7.3281e+01  7e+00  8e-06  9e-16\n",
      " 7: -6.7614e+01 -6.9700e+01  2e+00  2e-06  9e-16\n",
      " 8: -6.8024e+01 -6.8779e+01  8e-01  3e-14  9e-16\n",
      " 9: -6.8259e+01 -6.8394e+01  1e-01  2e-13  9e-16\n",
      "10: -6.8310e+01 -6.8315e+01  5e-03  1e-13  9e-16\n",
      "11: -6.8312e+01 -6.8312e+01  1e-04  1e-13  9e-16\n",
      "12: -6.8312e+01 -6.8312e+01  2e-06  2e-14  9e-16\n",
      "Optimal solution found.\n",
      "2014.01811004\n",
      "training for 2 3\n",
      "Training on gaussian kernel\n",
      "Finding the optimal solution:\n",
      "     pcost       dcost       gap    pres   dres\n",
      " 0: -3.0404e+02 -8.2833e+03  4e+04  2e+00  4e-15\n",
      " 1: -2.1981e+02 -4.4663e+03  7e+03  3e-01  4e-15\n",
      " 2: -1.8274e+02 -1.0106e+03  1e+03  3e-02  5e-15\n",
      " 3: -2.3561e+02 -4.7608e+02  3e+02  6e-03  4e-15\n",
      " 4: -2.6244e+02 -3.3488e+02  8e+01  1e-03  4e-15\n",
      " 5: -2.7389e+02 -2.9769e+02  2e+01  2e-04  4e-15\n",
      " 6: -2.7877e+02 -2.8539e+02  7e+00  4e-05  4e-15\n",
      " 7: -2.8041e+02 -2.8192e+02  2e+00  3e-06  4e-15\n",
      " 8: -2.8091e+02 -2.8102e+02  1e-01  7e-08  4e-15\n",
      " 9: -2.8095e+02 -2.8095e+02  2e-03  9e-10  4e-15\n",
      "10: -2.8095e+02 -2.8095e+02  4e-05  1e-11  4e-15\n",
      "Optimal solution found.\n",
      "2125.29632592\n",
      "training for 2 4\n",
      "Training on gaussian kernel\n",
      "Finding the optimal solution:\n",
      "     pcost       dcost       gap    pres   dres\n",
      " 0: -9.4630e+02 -1.0583e+04  5e+04  3e+00  1e-14\n",
      " 1: -7.4464e+02 -6.9192e+03  9e+03  3e-01  2e-14\n",
      " 2: -7.6719e+02 -1.7237e+03  1e+03  2e-02  2e-14\n",
      " 3: -8.9919e+02 -1.2167e+03  3e+02  4e-03  2e-14\n",
      " 4: -9.4723e+02 -1.0952e+03  1e+02  1e-03  2e-14\n",
      " 5: -9.7572e+02 -1.0167e+03  4e+01  2e-04  2e-14\n",
      " 6: -9.8536e+02 -9.9280e+02  7e+00  1e-05  2e-14\n",
      " 7: -9.8745e+02 -9.8827e+02  8e-01  1e-07  2e-14\n",
      " 8: -9.8772e+02 -9.8774e+02  3e-02  3e-09  2e-14\n",
      " 9: -9.8773e+02 -9.8773e+02  5e-04  5e-11  2e-14\n",
      "Optimal solution found.\n",
      "2234.21911502\n",
      "training for 2 5\n",
      "Training on gaussian kernel\n",
      "Finding the optimal solution:\n",
      "     pcost       dcost       gap    pres   dres\n",
      " 0: -1.8703e+02 -7.3989e+03  3e+04  2e+00  3e-15\n",
      " 1: -1.1528e+02 -3.8473e+03  6e+03  2e-01  2e-15\n",
      " 2: -8.4105e+01 -8.9248e+02  1e+03  3e-02  3e-15\n",
      " 3: -1.3537e+02 -2.8753e+02  2e+02  4e-03  2e-15\n",
      " 4: -1.5511e+02 -2.0703e+02  5e+01  7e-04  2e-15\n",
      " 5: -1.6371e+02 -1.8115e+02  2e+01  8e-05  2e-15\n",
      " 6: -1.6703e+02 -1.7283e+02  6e+00  3e-06  1e-15\n",
      " 7: -1.6834e+02 -1.6982e+02  1e+00  7e-14  1e-15\n",
      " 8: -1.6876e+02 -1.6899e+02  2e-01  3e-13  1e-15\n",
      " 9: -1.6884e+02 -1.6885e+02  8e-03  1e-13  1e-15\n",
      "10: -1.6885e+02 -1.6885e+02  1e-04  8e-14  1e-15\n",
      "Optimal solution found.\n",
      "2345.83224392\n",
      "training for 2 6\n",
      "Training on gaussian kernel\n",
      "Finding the optimal solution:\n",
      "     pcost       dcost       gap    pres   dres\n",
      " 0: -9.6781e+02 -1.0280e+04  5e+04  3e+00  1e-14\n",
      " 1: -7.7941e+02 -6.5268e+03  8e+03  2e-01  2e-14\n",
      " 2: -8.3083e+02 -1.8673e+03  1e+03  2e-02  2e-14\n",
      " 3: -9.4685e+02 -1.2637e+03  3e+02  5e-03  2e-14\n",
      " 4: -9.9989e+02 -1.0807e+03  8e+01  7e-04  2e-14\n",
      " 5: -1.0159e+03 -1.0374e+03  2e+01  1e-04  2e-14\n",
      " 6: -1.0214e+03 -1.0238e+03  2e+00  8e-06  2e-14\n",
      " 7: -1.0221e+03 -1.0223e+03  2e-01  6e-07  2e-14\n",
      " 8: -1.0222e+03 -1.0222e+03  7e-03  1e-08  2e-14\n",
      " 9: -1.0222e+03 -1.0222e+03  2e-04  2e-10  2e-14\n",
      "Optimal solution found.\n",
      "2454.08674598\n",
      "training for 2 7\n",
      "Training on gaussian kernel\n",
      "Finding the optimal solution:\n",
      "     pcost       dcost       gap    pres   dres\n",
      " 0: -1.0352e+02 -7.4392e+03  4e+04  2e+00  3e-15\n",
      " 1: -5.2259e+01 -3.7516e+03  6e+03  3e-01  2e-15\n",
      " 2: -1.0077e+01 -8.8825e+02  1e+03  4e-02  5e-15\n",
      " 3: -3.5635e+01 -1.9440e+02  2e+02  5e-03  3e-15\n",
      " 4: -5.4188e+01 -1.0235e+02  5e+01  9e-04  2e-15\n",
      " 5: -6.2019e+01 -7.9857e+01  2e+01  1e-04  1e-15\n",
      " 6: -6.5729e+01 -7.1122e+01  5e+00  5e-06  1e-15\n",
      " 7: -6.7167e+01 -6.8294e+01  1e+00  3e-07  1e-15\n",
      " 8: -6.7544e+01 -6.7677e+01  1e-01  2e-08  1e-15\n",
      " 9: -6.7596e+01 -6.7602e+01  6e-03  1e-13  2e-15\n",
      "10: -6.7599e+01 -6.7599e+01  9e-05  9e-14  1e-15\n",
      "11: -6.7599e+01 -6.7599e+01  3e-06  6e-14  1e-15\n",
      "Optimal solution found.\n",
      "2569.76305795\n",
      "training for 2 8\n",
      "Training on gaussian kernel\n",
      "Finding the optimal solution:\n",
      "     pcost       dcost       gap    pres   dres\n",
      " 0: -2.7490e+02 -7.4241e+03  3e+04  2e+00  3e-15\n",
      " 1: -1.9123e+02 -3.9068e+03  6e+03  2e-01  2e-15\n",
      " 2: -1.6914e+02 -1.0114e+03  1e+03  3e-02  3e-15\n",
      " 3: -2.2772e+02 -4.2201e+02  2e+02  5e-03  2e-15\n",
      " 4: -2.5292e+02 -3.0412e+02  5e+01  8e-04  2e-15\n",
      " 5: -2.6267e+02 -2.7651e+02  1e+01  1e-04  2e-15\n"
     ]
    },
    {
     "name": "stdout",
     "output_type": "stream",
     "text": [
      " 6: -2.6583e+02 -2.6927e+02  3e+00  2e-05  2e-15\n",
      " 7: -2.6678e+02 -2.6733e+02  6e-01  3e-06  2e-15\n",
      " 8: -2.6696e+02 -2.6699e+02  3e-02  1e-07  2e-15\n",
      " 9: -2.6697e+02 -2.6697e+02  6e-04  2e-09  2e-15\n",
      "10: -2.6697e+02 -2.6697e+02  1e-05  2e-11  2e-15\n",
      "Optimal solution found.\n",
      "2682.92416501\n",
      "training for 2 9\n",
      "Training on gaussian kernel\n",
      "Finding the optimal solution:\n",
      "     pcost       dcost       gap    pres   dres\n",
      " 0: -1.3122e+02 -6.8313e+03  3e+04  2e+00  3e-15\n",
      " 1: -6.8632e+01 -3.3021e+03  5e+03  2e-01  2e-15\n",
      " 2: -4.4226e+01 -5.7527e+02  6e+02  2e-02  3e-15\n",
      " 3: -8.9948e+01 -1.9526e+02  1e+02  2e-03  2e-15\n",
      " 4: -1.0529e+02 -1.3890e+02  3e+01  6e-04  1e-15\n",
      " 5: -1.1181e+02 -1.2245e+02  1e+01  1e-04  1e-15\n",
      " 6: -1.1461e+02 -1.1691e+02  2e+00  8e-06  1e-15\n",
      " 7: -1.1534e+02 -1.1566e+02  3e-01  3e-07  1e-15\n",
      " 8: -1.1546e+02 -1.1548e+02  2e-02  4e-09  1e-15\n",
      " 9: -1.1546e+02 -1.1547e+02  5e-04  1e-10  1e-15\n",
      "10: -1.1546e+02 -1.1546e+02  1e-05  2e-12  1e-15\n",
      "Optimal solution found.\n",
      "2794.06880093\n",
      "training for 3 4\n",
      "Training on gaussian kernel\n",
      "Finding the optimal solution:\n",
      "     pcost       dcost       gap    pres   dres\n",
      " 0: -4.2846e+02 -7.6683e+03  3e+04  2e+00  6e-15\n",
      " 1: -3.2882e+02 -4.1247e+03  6e+03  2e-01  7e-15\n",
      " 2: -3.0989e+02 -9.4797e+02  7e+02  2e-02  7e-15\n",
      " 3: -3.7592e+02 -5.6057e+02  2e+02  4e-03  6e-15\n",
      " 4: -4.0510e+02 -4.5864e+02  6e+01  7e-04  7e-15\n",
      " 5: -4.1586e+02 -4.3199e+02  2e+01  1e-04  7e-15\n",
      " 6: -4.1976e+02 -4.2383e+02  4e+00  1e-05  7e-15\n",
      " 7: -4.2092e+02 -4.2164e+02  7e-01  5e-13  8e-15\n",
      " 8: -4.2117e+02 -4.2123e+02  6e-02  7e-13  8e-15\n",
      " 9: -4.2119e+02 -4.2119e+02  1e-03  2e-13  8e-15\n",
      "10: -4.2119e+02 -4.2119e+02  2e-05  3e-13  7e-15\n",
      "Optimal solution found.\n",
      "2906.18895888\n",
      "training for 3 5\n",
      "Training on gaussian kernel\n",
      "Finding the optimal solution:\n",
      "     pcost       dcost       gap    pres   dres\n",
      " 0: -1.5808e+02 -7.8955e+03  4e+04  2e+00  3e-15\n",
      " 1: -8.8651e+01 -4.1551e+03  7e+03  3e-01  2e-15\n",
      " 2: -4.1501e+01 -1.0107e+03  1e+03  4e-02  3e-15\n",
      " 3: -8.5729e+01 -2.6576e+02  2e+02  5e-03  2e-15\n",
      " 4: -1.0518e+02 -1.7631e+02  8e+01  2e-03  2e-15\n",
      " 5: -1.1475e+02 -1.4040e+02  3e+01  3e-04  1e-15\n",
      " 6: -1.1877e+02 -1.2916e+02  1e+01  2e-13  1e-15\n",
      " 7: -1.2050e+02 -1.2484e+02  4e+00  6e-14  1e-15\n",
      " 8: -1.2142e+02 -1.2270e+02  1e+00  2e-13  1e-15\n",
      " 9: -1.2181e+02 -1.2194e+02  1e-01  4e-13  1e-15\n",
      "10: -1.2186e+02 -1.2187e+02  1e-02  3e-14  1e-15\n",
      "11: -1.2186e+02 -1.2186e+02  2e-04  3e-14  1e-15\n",
      "12: -1.2186e+02 -1.2186e+02  3e-06  3e-13  1e-15\n",
      "Optimal solution found.\n",
      "3026.73975897\n",
      "training for 3 6\n",
      "Training on gaussian kernel\n",
      "Finding the optimal solution:\n",
      "     pcost       dcost       gap    pres   dres\n",
      " 0: -5.1433e+02 -9.6131e+03  5e+04  3e+00  7e-15\n",
      " 1: -3.9419e+02 -5.7409e+03  8e+03  3e-01  9e-15\n",
      " 2: -3.6455e+02 -1.3710e+03  1e+03  2e-02  9e-15\n",
      " 3: -4.4119e+02 -7.5464e+02  3e+02  5e-03  8e-15\n",
      " 4: -4.7842e+02 -5.8509e+02  1e+02  5e-04  8e-15\n",
      " 5: -4.9392e+02 -5.2894e+02  4e+01  1e-04  8e-15\n",
      " 6: -4.9931e+02 -5.1319e+02  1e+01  3e-05  8e-15\n",
      " 7: -5.0143e+02 -5.0716e+02  6e+00  9e-13  9e-15\n",
      " 8: -5.0278e+02 -5.0408e+02  1e+00  8e-13  8e-15\n",
      " 9: -5.0315e+02 -5.0328e+02  1e-01  7e-13  9e-15\n",
      "10: -5.0319e+02 -5.0320e+02  4e-03  2e-14  9e-15\n",
      "11: -5.0319e+02 -5.0319e+02  7e-05  2e-13  9e-15\n",
      "Optimal solution found.\n",
      "3144.44418097\n",
      "training for 3 7\n",
      "Training on gaussian kernel\n",
      "Finding the optimal solution:\n",
      "     pcost       dcost       gap    pres   dres\n",
      " 0: -9.2836e+01 -7.1347e+03  3e+04  2e+00  2e-15\n",
      " 1: -4.5561e+01 -3.4670e+03  6e+03  2e-01  2e-15\n",
      " 2: -6.5966e+00 -7.3664e+02  1e+03  3e-02  4e-15\n",
      " 3: -2.9623e+01 -1.6707e+02  2e+02  4e-03  2e-15\n",
      " 4: -4.5780e+01 -8.6304e+01  4e+01  9e-04  2e-15\n",
      " 5: -5.2466e+01 -6.7231e+01  2e+01  2e-04  1e-15\n",
      " 6: -5.5594e+01 -6.0481e+01  5e+00  4e-05  1e-15\n",
      " 7: -5.6733e+01 -5.8387e+01  2e+00  6e-06  1e-15\n",
      " 8: -5.7241e+01 -5.7533e+01  3e-01  3e-07  1e-15\n",
      " 9: -5.7346e+01 -5.7382e+01  4e-02  4e-08  1e-15\n",
      "10: -5.7361e+01 -5.7362e+01  7e-04  3e-10  1e-15\n",
      "11: -5.7361e+01 -5.7361e+01  2e-05  6e-12  1e-15\n",
      "Optimal solution found.\n",
      "3260.78281498\n",
      "training for 3 8\n",
      "Training on gaussian kernel\n",
      "Finding the optimal solution:\n",
      "     pcost       dcost       gap    pres   dres\n",
      " 0: -2.2223e+02 -8.4141e+03  4e+04  2e+00  3e-15\n",
      " 1: -1.3588e+02 -4.6583e+03  8e+03  3e-01  2e-15\n",
      " 2: -8.2884e+01 -1.3246e+03  2e+03  5e-02  3e-15\n",
      " 3: -1.3866e+02 -4.3341e+02  3e+02  8e-03  2e-15\n",
      " 4: -1.6992e+02 -2.3917e+02  7e+01  1e-03  2e-15\n",
      " 5: -1.8157e+02 -2.0218e+02  2e+01  2e-04  2e-15\n",
      " 6: -1.8572e+02 -1.9211e+02  6e+00  5e-05  2e-15\n",
      " 7: -1.8735e+02 -1.8861e+02  1e+00  4e-06  2e-15\n",
      " 8: -1.8774e+02 -1.8789e+02  1e-01  3e-07  2e-15\n",
      " 9: -1.8779e+02 -1.8780e+02  5e-03  8e-09  2e-15\n",
      "10: -1.8779e+02 -1.8779e+02  1e-04  1e-10  2e-15\n",
      "Optimal solution found.\n",
      "3372.73455787\n",
      "training for 3 9\n",
      "Training on gaussian kernel\n",
      "Finding the optimal solution:\n",
      "     pcost       dcost       gap    pres   dres\n",
      " 0: -1.1714e+02 -7.2200e+03  3e+04  2e+00  2e-15\n",
      " 1: -5.7504e+01 -3.5569e+03  6e+03  2e-01  2e-15\n",
      " 2: -2.3175e+01 -6.8503e+02  8e+02  2e-02  3e-15\n",
      " 3: -6.5374e+01 -1.7868e+02  1e+02  3e-03  2e-15\n",
      " 4: -8.2099e+01 -1.1645e+02  4e+01  6e-04  1e-15\n",
      " 5: -8.8468e+01 -1.0144e+02  1e+01  1e-04  1e-15\n",
      " 6: -9.1379e+01 -9.5512e+01  4e+00  1e-05  1e-15\n",
      " 7: -9.2466e+01 -9.3422e+01  1e+00  1e-06  1e-15\n",
      " 8: -9.2761e+01 -9.2921e+01  2e-01  9e-08  1e-15\n",
      " 9: -9.2821e+01 -9.2827e+01  6e-03  2e-09  1e-15\n",
      "10: -9.2823e+01 -9.2823e+01  1e-04  4e-11  1e-15\n",
      "11: -9.2823e+01 -9.2823e+01  3e-06  7e-13  1e-15\n",
      "Optimal solution found.\n",
      "3489.63345098\n",
      "training for 4 5\n",
      "Training on gaussian kernel\n",
      "Finding the optimal solution:\n",
      "     pcost       dcost       gap    pres   dres\n",
      " 0: -1.5598e+02 -6.9927e+03  3e+04  2e+00  3e-15\n",
      " 1: -8.8657e+01 -3.4857e+03  6e+03  2e-01  2e-15\n",
      " 2: -5.9446e+01 -7.3609e+02  8e+02  2e-02  3e-15\n",
      " 3: -1.0523e+02 -2.6151e+02  2e+02  4e-03  2e-15\n",
      " 4: -1.2171e+02 -1.8069e+02  6e+01  1e-03  2e-15\n",
      " 5: -1.2850e+02 -1.5673e+02  3e+01  3e-13  1e-15\n",
      " 6: -1.3314e+02 -1.4204e+02  9e+00  2e-13  1e-15\n",
      " 7: -1.3446e+02 -1.3849e+02  4e+00  1e-13  1e-15\n",
      " 8: -1.3538e+02 -1.3651e+02  1e+00  3e-14  1e-15\n",
      " 9: -1.3573e+02 -1.3581e+02  8e-02  1e-13  1e-15\n",
      "10: -1.3576e+02 -1.3576e+02  2e-03  9e-14  1e-15\n",
      "11: -1.3576e+02 -1.3576e+02  6e-05  2e-13  1e-15\n",
      "Optimal solution found.\n",
      "3606.42923689\n",
      "training for 4 6\n",
      "Training on gaussian kernel\n",
      "Finding the optimal solution:\n",
      "     pcost       dcost       gap    pres   dres\n",
      " 0: -8.9772e+02 -9.6565e+03  4e+04  2e+00  1e-14\n",
      " 1: -7.1427e+02 -5.9961e+03  8e+03  2e-01  2e-14\n",
      " 2: -7.5707e+02 -1.7361e+03  1e+03  3e-02  2e-14\n",
      " 3: -8.6971e+02 -1.1390e+03  3e+02  5e-03  2e-14\n",
      " 4: -9.1628e+02 -1.0034e+03  9e+01  7e-04  2e-14\n",
      " 5: -9.3428e+02 -9.5281e+02  2e+01  8e-05  2e-14\n",
      " 6: -9.3898e+02 -9.4171e+02  3e+00  8e-06  2e-14\n",
      " 7: -9.3981e+02 -9.3998e+02  2e-01  4e-07  2e-14\n",
      " 8: -9.3987e+02 -9.3987e+02  7e-03  1e-08  2e-14\n",
      " 9: -9.3987e+02 -9.3987e+02  2e-04  2e-10  2e-14\n",
      "Optimal solution found.\n",
      "3713.47097087\n",
      "training for 4 7\n",
      "Training on gaussian kernel\n",
      "Finding the optimal solution:\n",
      "     pcost       dcost       gap    pres   dres\n",
      " 0: -9.3076e+01 -7.2188e+03  3e+04  2e+00  2e-15\n",
      " 1: -4.4606e+01 -3.5557e+03  6e+03  2e-01  2e-15\n",
      " 2: -6.2621e+00 -7.8910e+02  1e+03  4e-02  4e-15\n",
      " 3: -3.2395e+01 -1.7430e+02  2e+02  4e-03  3e-15\n",
      " 4: -4.9879e+01 -9.0250e+01  4e+01  8e-04  2e-15\n",
      " 5: -5.7061e+01 -7.1118e+01  1e+01  1e-04  1e-15\n",
      " 6: -6.0160e+01 -6.4483e+01  4e+00  1e-05  1e-15\n",
      " 7: -6.1222e+01 -6.2514e+01  1e+00  3e-06  1e-15\n",
      " 8: -6.1633e+01 -6.1812e+01  2e-01  7e-14  1e-15\n",
      " 9: -6.1706e+01 -6.1711e+01  5e-03  3e-14  1e-15\n",
      "10: -6.1709e+01 -6.1709e+01  9e-05  6e-14  1e-15\n",
      "11: -6.1709e+01 -6.1709e+01  2e-06  2e-14  1e-15\n",
      "Optimal solution found.\n",
      "3831.62272501\n",
      "training for 4 8\n",
      "Training on gaussian kernel\n",
      "Finding the optimal solution:\n",
      "     pcost       dcost       gap    pres   dres\n",
      " 0: -2.2465e+02 -6.8855e+03  3e+04  2e+00  3e-15\n",
      " 1: -1.4528e+02 -3.4652e+03  5e+03  2e-01  2e-15\n",
      " 2: -1.2473e+02 -7.6671e+02  8e+02  2e-02  3e-15\n",
      " 3: -1.7986e+02 -3.1703e+02  1e+02  3e-03  2e-15\n",
      " 4: -1.9975e+02 -2.3811e+02  4e+01  6e-04  2e-15\n",
      " 5: -2.0764e+02 -2.1714e+02  1e+01  9e-05  2e-15\n",
      " 6: -2.1013e+02 -2.1205e+02  2e+00  1e-05  2e-15\n",
      " 7: -2.1073e+02 -2.1097e+02  2e-01  7e-07  2e-15\n",
      " 8: -2.1081e+02 -2.1082e+02  1e-02  3e-08  2e-15\n",
      " 9: -2.1082e+02 -2.1082e+02  3e-04  6e-10  2e-15\n",
      "10: -2.1082e+02 -2.1082e+02  6e-06  7e-12  2e-15\n",
      "Optimal solution found.\n",
      "3943.88126183\n",
      "training for 4 9\n"
     ]
    },
    {
     "name": "stdout",
     "output_type": "stream",
     "text": [
      "Training on gaussian kernel\n",
      "Finding the optimal solution:\n",
      "     pcost       dcost       gap    pres   dres\n",
      " 0: -1.1407e+02 -6.5885e+03  3e+04  2e+00  3e-15\n",
      " 1: -5.4731e+01 -3.0743e+03  5e+03  2e-01  2e-15\n",
      " 2: -3.3614e+01 -5.3901e+02  6e+02  2e-02  3e-15\n",
      " 3: -7.3851e+01 -1.8900e+02  1e+02  3e-03  2e-15\n",
      " 4: -8.8826e+01 -1.2601e+02  4e+01  7e-04  1e-15\n",
      " 5: -9.4967e+01 -1.0838e+02  1e+01  2e-04  1e-15\n",
      " 6: -9.7972e+01 -1.0158e+02  4e+00  2e-05  1e-15\n",
      " 7: -9.8948e+01 -9.9746e+01  8e-01  2e-06  9e-16\n",
      " 8: -9.9202e+01 -9.9319e+01  1e-01  2e-07  9e-16\n",
      " 9: -9.9246e+01 -9.9249e+01  3e-03  3e-09  1e-15\n",
      "10: -9.9248e+01 -9.9248e+01  7e-05  7e-11  1e-15\n",
      "Optimal solution found.\n",
      "4056.41380787\n",
      "training for 5 6\n",
      "Training on gaussian kernel\n",
      "Finding the optimal solution:\n",
      "     pcost       dcost       gap    pres   dres\n",
      " 0: -2.0533e+02 -7.5506e+03  3e+04  2e+00  3e-15\n",
      " 1: -1.2813e+02 -3.9857e+03  6e+03  2e-01  2e-15\n",
      " 2: -9.5987e+01 -7.8644e+02  8e+02  2e-02  3e-15\n",
      " 3: -1.4760e+02 -3.3431e+02  2e+02  5e-03  2e-15\n",
      " 4: -1.6699e+02 -2.3327e+02  7e+01  1e-03  2e-15\n",
      " 5: -1.7565e+02 -2.0037e+02  3e+01  2e-04  2e-15\n",
      " 6: -1.7993e+02 -1.8778e+02  8e+00  3e-05  2e-15\n",
      " 7: -1.8146e+02 -1.8393e+02  2e+00  2e-13  2e-15\n",
      " 8: -1.8213e+02 -1.8255e+02  4e-01  6e-14  2e-15\n",
      " 9: -1.8227e+02 -1.8229e+02  3e-02  1e-14  2e-15\n",
      "10: -1.8228e+02 -1.8228e+02  4e-04  2e-13  2e-15\n",
      "11: -1.8228e+02 -1.8228e+02  7e-06  3e-14  2e-15\n",
      "Optimal solution found.\n",
      "4172.18084788\n",
      "training for 5 7\n",
      "Training on gaussian kernel\n",
      "Finding the optimal solution:\n",
      "     pcost       dcost       gap    pres   dres\n",
      " 0: -3.7910e+02 -8.4574e+03  4e+04  2e+00  1e-14\n",
      " 1: -2.7286e+02 -4.7996e+03  8e+03  3e-01  1e-14\n",
      " 2: -2.3217e+02 -1.1233e+03  1e+03  2e-02  2e-14\n",
      " 3: -3.0157e+02 -5.9118e+02  3e+02  6e-03  1e-14\n",
      " 4: -3.3486e+02 -4.4665e+02  1e+02  1e-03  1e-14\n",
      " 5: -3.5167e+02 -3.9013e+02  4e+01  3e-04  1e-14\n",
      " 6: -3.5933e+02 -3.6849e+02  9e+00  2e-05  1e-14\n",
      " 7: -3.6174e+02 -3.6303e+02  1e+00  6e-07  2e-14\n",
      " 8: -3.6215e+02 -3.6228e+02  1e-01  5e-08  1e-14\n",
      " 9: -3.6219e+02 -3.6220e+02  5e-03  1e-09  2e-14\n",
      "10: -3.6219e+02 -3.6219e+02  9e-05  2e-11  2e-14\n",
      "Optimal solution found.\n",
      "4283.34810185\n",
      "training for 5 8\n",
      "Training on gaussian kernel\n",
      "Finding the optimal solution:\n",
      "     pcost       dcost       gap    pres   dres\n",
      " 0: -2.5877e+02 -7.3164e+03  3e+04  2e+00  3e-15\n",
      " 1: -1.6844e+02 -3.8401e+03  5e+03  2e-01  3e-15\n",
      " 2: -1.7506e+02 -7.0557e+02  6e+02  1e-02  4e-15\n",
      " 3: -2.3098e+02 -3.8532e+02  2e+02  3e-03  2e-15\n",
      " 4: -2.5075e+02 -3.0061e+02  5e+01  6e-04  2e-15\n",
      " 5: -2.5761e+02 -2.7802e+02  2e+01  2e-04  2e-15\n",
      " 6: -2.6136e+02 -2.6687e+02  6e+00  1e-05  2e-15\n",
      " 7: -2.6251e+02 -2.6379e+02  1e+00  5e-13  2e-15\n",
      " 8: -2.6285e+02 -2.6299e+02  1e-01  1e-13  2e-15\n",
      " 9: -2.6289e+02 -2.6290e+02  5e-03  3e-13  2e-15\n",
      "10: -2.6290e+02 -2.6290e+02  1e-04  4e-13  2e-15\n",
      "Optimal solution found.\n",
      "4394.33088589\n",
      "training for 5 9\n",
      "Training on gaussian kernel\n",
      "Finding the optimal solution:\n",
      "     pcost       dcost       gap    pres   dres\n",
      " 0: -2.7302e+02 -7.5652e+03  3e+04  2e+00  4e-15\n",
      " 1: -1.9616e+02 -4.0285e+03  6e+03  2e-01  4e-15\n",
      " 2: -1.7674e+02 -7.9849e+02  7e+02  2e-02  5e-15\n",
      " 3: -2.2908e+02 -4.2790e+02  2e+02  4e-03  3e-15\n",
      " 4: -2.5164e+02 -3.1447e+02  6e+01  7e-04  3e-15\n",
      " 5: -2.6163e+02 -2.8082e+02  2e+01  2e-05  3e-15\n",
      " 6: -2.6538e+02 -2.6993e+02  5e+00  7e-07  3e-15\n",
      " 7: -2.6630e+02 -2.6772e+02  1e+00  8e-14  3e-15\n",
      " 8: -2.6665e+02 -2.6698e+02  3e-01  5e-14  3e-15\n",
      " 9: -2.6674e+02 -2.6679e+02  5e-02  3e-13  3e-15\n",
      "10: -2.6676e+02 -2.6676e+02  1e-03  2e-14  3e-15\n",
      "11: -2.6676e+02 -2.6676e+02  1e-05  3e-13  3e-15\n",
      "Optimal solution found.\n",
      "4511.367419\n",
      "training for 6 7\n",
      "Training on gaussian kernel\n",
      "Finding the optimal solution:\n",
      "     pcost       dcost       gap    pres   dres\n",
      " 0: -1.1028e+02 -7.5103e+03  4e+04  2e+00  3e-15\n",
      " 1: -5.6897e+01 -3.8143e+03  7e+03  3e-01  2e-15\n",
      " 2: -1.3830e+01 -9.2363e+02  1e+03  4e-02  4e-15\n",
      " 3: -3.9528e+01 -1.9616e+02  2e+02  4e-03  3e-15\n",
      " 4: -5.5680e+01 -1.2195e+02  7e+01  2e-03  2e-15\n",
      " 5: -6.4887e+01 -8.8241e+01  2e+01  1e-04  2e-15\n",
      " 6: -6.9418e+01 -7.6829e+01  7e+00  2e-05  1e-15\n",
      " 7: -7.1201e+01 -7.3118e+01  2e+00  2e-06  1e-15\n",
      " 8: -7.1797e+01 -7.2062e+01  3e-01  1e-07  1e-15\n",
      " 9: -7.1900e+01 -7.1908e+01  8e-03  2e-09  2e-15\n",
      "10: -7.1903e+01 -7.1903e+01  1e-04  3e-11  2e-15\n",
      "11: -7.1903e+01 -7.1903e+01  2e-06  3e-13  2e-15\n",
      "Optimal solution found.\n",
      "4627.79843497\n",
      "training for 6 8\n",
      "Training on gaussian kernel\n",
      "Finding the optimal solution:\n",
      "     pcost       dcost       gap    pres   dres\n",
      " 0: -3.3801e+02 -8.0319e+03  4e+04  2e+00  3e-15\n",
      " 1: -2.4315e+02 -4.4272e+03  7e+03  2e-01  3e-15\n",
      " 2: -2.2086e+02 -9.6970e+02  9e+02  2e-02  3e-15\n",
      " 3: -2.8364e+02 -5.1393e+02  2e+02  5e-03  2e-15\n",
      " 4: -3.1190e+02 -3.6929e+02  6e+01  3e-04  2e-15\n",
      " 5: -3.2242e+02 -3.3848e+02  2e+01  4e-05  2e-15\n",
      " 6: -3.2587e+02 -3.2978e+02  4e+00  6e-06  2e-15\n",
      " 7: -3.2693e+02 -3.2738e+02  4e-01  4e-07  2e-15\n",
      " 8: -3.2708e+02 -3.2710e+02  2e-02  1e-08  2e-15\n",
      " 9: -3.2708e+02 -3.2709e+02  5e-04  2e-10  2e-15\n",
      "10: -3.2708e+02 -3.2708e+02  1e-05  3e-12  2e-15\n",
      "Optimal solution found.\n",
      "4739.78852892\n",
      "training for 6 9\n",
      "Training on gaussian kernel\n",
      "Finding the optimal solution:\n",
      "     pcost       dcost       gap    pres   dres\n",
      " 0: -1.3972e+02 -6.9017e+03  3e+04  2e+00  2e-15\n",
      " 1: -7.4093e+01 -3.3717e+03  5e+03  2e-01  2e-15\n",
      " 2: -4.9322e+01 -5.8506e+02  6e+02  2e-02  3e-15\n",
      " 3: -9.5462e+01 -2.0704e+02  1e+02  3e-03  2e-15\n",
      " 4: -1.1120e+02 -1.4547e+02  4e+01  6e-04  1e-15\n",
      " 5: -1.1785e+02 -1.2868e+02  1e+01  6e-05  1e-15\n",
      " 6: -1.2042e+02 -1.2319e+02  3e+00  8e-06  1e-15\n",
      " 7: -1.2125e+02 -1.2164e+02  4e-01  4e-07  1e-15\n",
      " 8: -1.2138e+02 -1.2141e+02  2e-02  7e-09  1e-15\n",
      " 9: -1.2139e+02 -1.2139e+02  7e-04  2e-10  1e-15\n",
      "10: -1.2139e+02 -1.2139e+02  1e-05  3e-12  1e-15\n",
      "Optimal solution found.\n",
      "4851.10654283\n",
      "training for 7 8\n",
      "Training on gaussian kernel\n",
      "Finding the optimal solution:\n",
      "     pcost       dcost       gap    pres   dres\n",
      " 0: -1.4021e+02 -7.5807e+03  4e+04  2e+00  3e-15\n",
      " 1: -7.7474e+01 -3.9413e+03  7e+03  3e-01  3e-15\n",
      " 2: -3.7302e+01 -1.0367e+03  1e+03  4e-02  3e-15\n",
      " 3: -7.4177e+01 -2.7628e+02  2e+02  6e-03  3e-15\n",
      " 4: -9.3886e+01 -1.5833e+02  7e+01  1e-03  2e-15\n",
      " 5: -1.0307e+02 -1.2356e+02  2e+01  3e-04  2e-15\n",
      " 6: -1.0675e+02 -1.1333e+02  7e+00  5e-05  2e-15\n",
      " 7: -1.0821e+02 -1.0986e+02  2e+00  6e-06  2e-15\n",
      " 8: -1.0865e+02 -1.0897e+02  3e-01  7e-07  2e-15\n",
      " 9: -1.0875e+02 -1.0879e+02  4e-02  6e-08  2e-15\n",
      "10: -1.0876e+02 -1.0876e+02  1e-03  1e-09  2e-15\n",
      "11: -1.0876e+02 -1.0876e+02  2e-05  2e-11  2e-15\n",
      "Optimal solution found.\n",
      "4968.56085896\n",
      "training for 7 9\n",
      "Training on gaussian kernel\n",
      "Finding the optimal solution:\n",
      "     pcost       dcost       gap    pres   dres\n",
      " 0: -3.8746e+02 -9.5957e+03  5e+04  3e+00  8e-15\n",
      " 1: -2.8432e+02 -5.5742e+03  9e+03  3e-01  9e-15\n",
      " 2: -2.5152e+02 -1.4261e+03  1e+03  3e-02  9e-15\n",
      " 3: -3.0818e+02 -7.0514e+02  4e+02  9e-03  8e-15\n",
      " 4: -3.4189e+02 -4.9364e+02  2e+02  2e-03  9e-15\n",
      " 5: -3.5935e+02 -4.1679e+02  6e+01  4e-04  9e-15\n",
      " 6: -3.6813e+02 -3.8647e+02  2e+01  2e-13  1e-14\n",
      " 7: -3.7153e+02 -3.7782e+02  6e+00  2e-13  9e-15\n",
      " 8: -3.7293e+02 -3.7451e+02  2e+00  1e-13  1e-14\n",
      " 9: -3.7345e+02 -3.7358e+02  1e-01  4e-13  1e-14\n",
      "10: -3.7350e+02 -3.7350e+02  4e-03  9e-14  1e-14\n",
      "11: -3.7350e+02 -3.7350e+02  8e-05  8e-13  1e-14\n",
      "Optimal solution found.\n",
      "5086.26259184\n",
      "training for 8 9\n",
      "Training on gaussian kernel\n",
      "Finding the optimal solution:\n",
      "     pcost       dcost       gap    pres   dres\n",
      " 0: -1.5990e+02 -7.2285e+03  3e+04  2e+00  3e-15\n",
      " 1: -7.8001e+01 -3.7404e+03  6e+03  2e-01  2e-15\n",
      " 2: -5.8062e+01 -7.5437e+02  8e+02  2e-02  4e-15\n",
      " 3: -1.2171e+02 -2.6113e+02  1e+02  3e-03  2e-15\n",
      " 4: -1.4164e+02 -1.8153e+02  4e+01  6e-04  2e-15\n",
      " 5: -1.4951e+02 -1.6040e+02  1e+01  6e-05  1e-15\n",
      " 6: -1.5210e+02 -1.5479e+02  3e+00  8e-06  1e-15\n",
      " 7: -1.5284e+02 -1.5330e+02  5e-01  9e-07  1e-15\n",
      " 8: -1.5299e+02 -1.5303e+02  4e-02  5e-08  1e-15\n",
      " 9: -1.5300e+02 -1.5301e+02  7e-04  8e-10  1e-15\n",
      "10: -1.5300e+02 -1.5300e+02  1e-05  1e-11  1e-15\n",
      "Optimal solution found.\n",
      "5199.81085682\n"
     ]
    }
   ],
   "source": [
    "# fill upper triangle with alphas\n",
    "Yi = np.ones(2250).astype(float)\n",
    "st = time.time()\n",
    "for i in range(0,10):\n",
    "    for j in range(i+1,10):\n",
    "        print(\"training for \"+str(i) + \" \" + str(j))\n",
    "        trainX = np.vstack((X[i],X[j]))\n",
    "        # treating bigger class as 1 and smaller as -1\n",
    "        trainY = np.asarray([np.hstack((-1.0*Yi,Yi))]).astype(float)\n",
    "        GP = np.eye(len(trainX)).astype(float)\n",
    "        M = len(trainX)\n",
    "        for f in range(0,M):\n",
    "#             t = trainX - trainX[f]\n",
    "#             GP[f] = np.sum(t*t,axis=1)\n",
    "            GP[f] = np.sum((trainX - trainX[f])**2,axis=1)\n",
    "        GP = GAUS(y,GP)\n",
    "        ALPHAxY[i][j] = (traingaus(GP,trainY,M) * trainY.T)\n",
    "        b[i][j] = getB(ALPHAxY[i][j],GP)\n",
    "        print(time.time()-st)"
   ]
  },
  {
   "cell_type": "code",
   "execution_count": 85,
   "metadata": {},
   "outputs": [],
   "source": [
    "# save generated Alphaxy and B\n",
    "np.save('alphxy.npy',ALPHAxY.astype(np.float32))\n",
    "np.save('b.npy',b)"
   ]
  },
  {
   "cell_type": "raw",
   "metadata": {},
   "source": [
    "total time reqd = 5199.81085682\n"
   ]
  },
  {
   "cell_type": "code",
   "execution_count": 9,
   "metadata": {},
   "outputs": [],
   "source": [
    "# init tx and ty\n",
    "tX = vdata[:,0:784]/255.0\n",
    "tY = vdata[:,-1]"
   ]
  },
  {
   "cell_type": "code",
   "execution_count": 42,
   "metadata": {},
   "outputs": [
    {
     "name": "stdout",
     "output_type": "stream",
     "text": [
      "voting for class 0 1\n"
     ]
    },
    {
     "ename": "KeyboardInterrupt",
     "evalue": "",
     "output_type": "error",
     "traceback": [
      "\u001b[0;31m---------------------------------------------------------------------------\u001b[0m",
      "\u001b[0;31mKeyboardInterrupt\u001b[0m                         Traceback (most recent call last)",
      "\u001b[0;32m<ipython-input-42-e04c6f7d4aed>\u001b[0m in \u001b[0;36m<module>\u001b[0;34m()\u001b[0m\n\u001b[1;32m     10\u001b[0m         \u001b[0mtrainX\u001b[0m \u001b[0;34m=\u001b[0m \u001b[0mnp\u001b[0m\u001b[0;34m.\u001b[0m\u001b[0mvstack\u001b[0m\u001b[0;34m(\u001b[0m\u001b[0;34m(\u001b[0m\u001b[0mX\u001b[0m\u001b[0;34m[\u001b[0m\u001b[0mi\u001b[0m\u001b[0;34m]\u001b[0m\u001b[0;34m,\u001b[0m\u001b[0mX\u001b[0m\u001b[0;34m[\u001b[0m\u001b[0mj\u001b[0m\u001b[0;34m]\u001b[0m\u001b[0;34m)\u001b[0m\u001b[0;34m)\u001b[0m\u001b[0;34m\u001b[0m\u001b[0m\n\u001b[1;32m     11\u001b[0m         \u001b[0;32mfor\u001b[0m \u001b[0mk\u001b[0m \u001b[0;32min\u001b[0m \u001b[0mrange\u001b[0m\u001b[0;34m(\u001b[0m\u001b[0;36m0\u001b[0m\u001b[0;34m,\u001b[0m\u001b[0mM\u001b[0m\u001b[0;34m)\u001b[0m\u001b[0;34m:\u001b[0m\u001b[0;34m\u001b[0m\u001b[0m\n\u001b[0;32m---> 12\u001b[0;31m             \u001b[0mtx\u001b[0m\u001b[0;34m[\u001b[0m\u001b[0mk\u001b[0m\u001b[0;34m]\u001b[0m \u001b[0;34m=\u001b[0m \u001b[0mnp\u001b[0m\u001b[0;34m.\u001b[0m\u001b[0msum\u001b[0m\u001b[0;34m(\u001b[0m\u001b[0;34m(\u001b[0m\u001b[0mtX\u001b[0m \u001b[0;34m-\u001b[0m \u001b[0mtrainX\u001b[0m\u001b[0;34m[\u001b[0m\u001b[0mk\u001b[0m\u001b[0;34m]\u001b[0m\u001b[0;34m)\u001b[0m\u001b[0;34m**\u001b[0m\u001b[0;36m2\u001b[0m\u001b[0;34m,\u001b[0m\u001b[0maxis\u001b[0m \u001b[0;34m=\u001b[0m \u001b[0;36m1\u001b[0m\u001b[0;34m)\u001b[0m\u001b[0;34m\u001b[0m\u001b[0m\n\u001b[0m\u001b[1;32m     13\u001b[0m         \u001b[0mfW\u001b[0m \u001b[0;34m=\u001b[0m \u001b[0mALPHAxY\u001b[0m\u001b[0;34m[\u001b[0m\u001b[0mi\u001b[0m\u001b[0;34m]\u001b[0m\u001b[0;34m[\u001b[0m\u001b[0mj\u001b[0m\u001b[0;34m]\u001b[0m\u001b[0;34m\u001b[0m\u001b[0m\n\u001b[1;32m     14\u001b[0m         \u001b[0mR\u001b[0m \u001b[0;34m=\u001b[0m \u001b[0mnp\u001b[0m\u001b[0;34m.\u001b[0m\u001b[0msum\u001b[0m\u001b[0;34m(\u001b[0m\u001b[0mfW\u001b[0m \u001b[0;34m*\u001b[0m \u001b[0mGAUS\u001b[0m\u001b[0;34m(\u001b[0m\u001b[0my\u001b[0m\u001b[0;34m,\u001b[0m\u001b[0mtx\u001b[0m\u001b[0;34m)\u001b[0m\u001b[0;34m,\u001b[0m \u001b[0maxis\u001b[0m\u001b[0;34m=\u001b[0m\u001b[0;36m0\u001b[0m\u001b[0;34m)\u001b[0m \u001b[0;34m+\u001b[0m \u001b[0mb\u001b[0m\u001b[0;34m[\u001b[0m\u001b[0mi\u001b[0m\u001b[0;34m]\u001b[0m\u001b[0;34m[\u001b[0m\u001b[0mj\u001b[0m\u001b[0;34m]\u001b[0m\u001b[0;34m\u001b[0m\u001b[0m\n",
      "\u001b[0;31mKeyboardInterrupt\u001b[0m: "
     ]
    }
   ],
   "source": [
    "# Testing\n",
    "M = 4500\n",
    "Votes = np.zeros((45,len(tX))).astype(np.int64)\n",
    "tx = np.ones((M,len(tX))).astype(float)\n",
    "st = time.time()\n",
    "index = 0\n",
    "for i in range(0,10):\n",
    "    for j in range(i+1,10):\n",
    "        print(\"voting for class \"+str(i) + \" \"+ str(j))\n",
    "        trainX = np.vstack((X[i],X[j]))\n",
    "        for k in range(0,M):\n",
    "            tx[k] = np.sum((tX - trainX[k])**2,axis = 1)\n",
    "        fW = ALPHAxY[i][j]\n",
    "        R = np.sum(fW * GAUS(y,tx), axis=0) + b[i][j]\n",
    "        v = [j if cls>=0 else i for cls in R]\n",
    "        Votes[index] = v\n",
    "        index+=1\n",
    "        print(time.time() - st)\n",
    "Votes = Votes.T"
   ]
  },
  {
   "cell_type": "code",
   "execution_count": 25,
   "metadata": {},
   "outputs": [],
   "source": [
    "vold = Votes\n"
   ]
  },
  {
   "cell_type": "code",
   "execution_count": 27,
   "metadata": {},
   "outputs": [],
   "source": [
    "vnew = Votess[0:10]"
   ]
  },
  {
   "cell_type": "code",
   "execution_count": 28,
   "metadata": {},
   "outputs": [
    {
     "data": {
      "text/plain": [
       "(10, 2500)"
      ]
     },
     "execution_count": 28,
     "metadata": {},
     "output_type": "execute_result"
    }
   ],
   "source": [
    "vnew.shape"
   ]
  },
  {
   "cell_type": "code",
   "execution_count": 31,
   "metadata": {},
   "outputs": [],
   "source": [
    "Votes=np.vstack((vold,vnew)).T"
   ]
  },
  {
   "cell_type": "code",
   "execution_count": 90,
   "metadata": {
    "collapsed": true
   },
   "outputs": [
    {
     "data": {
      "text/plain": [
       "2500"
      ]
     },
     "execution_count": 90,
     "metadata": {},
     "output_type": "execute_result"
    }
   ],
   "source": [
    "len(Votes[0])"
   ]
  },
  {
   "cell_type": "code",
   "execution_count": 32,
   "metadata": {},
   "outputs": [
    {
     "data": {
      "text/plain": [
       "(2500, 45)"
      ]
     },
     "execution_count": 32,
     "metadata": {},
     "output_type": "execute_result"
    }
   ],
   "source": [
    "Votes.shape\n"
   ]
  },
  {
   "cell_type": "code",
   "execution_count": 24,
   "metadata": {},
   "outputs": [
    {
     "name": "stdout",
     "output_type": "stream",
     "text": [
      "45\n"
     ]
    }
   ],
   "source": [
    "k = 0\n",
    "for i in range(0,10):\n",
    "    for j in range(i+1,10):\n",
    "        k+=1\n",
    "print(k)"
   ]
  },
  {
   "cell_type": "code",
   "execution_count": 35,
   "metadata": {},
   "outputs": [],
   "source": [
    "Votes = Votes.astype(np.int64)"
   ]
  },
  {
   "cell_type": "code",
   "execution_count": 90,
   "metadata": {},
   "outputs": [
    {
     "data": {
      "text/plain": [
       "2500"
      ]
     },
     "execution_count": 90,
     "metadata": {},
     "output_type": "execute_result"
    }
   ],
   "source": [
    "len(Votes[0])"
   ]
  },
  {
   "cell_type": "code",
   "execution_count": 36,
   "metadata": {},
   "outputs": [
    {
     "data": {
      "text/plain": [
       "numpy.ndarray"
      ]
     },
     "execution_count": 36,
     "metadata": {},
     "output_type": "execute_result"
    }
   ],
   "source": [
    "type(Votes)"
   ]
  },
  {
   "cell_type": "code",
   "execution_count": 18,
   "metadata": {},
   "outputs": [],
   "source": [
    "# convert to tX * 45\n",
    "Votes=np.array(Votes).T"
   ]
  },
  {
   "cell_type": "code",
   "execution_count": 37,
   "metadata": {},
   "outputs": [],
   "source": [
    "# Create final sort from votes\n",
    "R = np.zeros(len(tX))\n",
    "for i in range(0,len(tX)):\n",
    "    tmp = np.bincount(Votes[i])\n",
    "    R[i] = np.where(tmp == tmp.max())[0][-1]"
   ]
  },
  {
   "cell_type": "code",
   "execution_count": 38,
   "metadata": {},
   "outputs": [],
   "source": [
    "cnfmat = np.zeros((10,10))\n",
    "corr = 0.0\n",
    "for i in range(0,len(tY)):\n",
    "    if(R[i] ==  tY[i]):\n",
    "        corr +=1\n",
    "    cnfmat[int(R[i])][int(tY[i])] +=1"
   ]
  },
  {
   "cell_type": "raw",
   "metadata": {},
   "source": [
    "TEST\n",
    "# Multi class acc === 0.8506\n",
    "#  with max val with tie => 0.8484\n",
    "VAL\n",
    "=> 84.6"
   ]
  },
  {
   "cell_type": "code",
   "execution_count": 90,
   "metadata": {},
   "outputs": [
    {
     "data": {
      "text/plain": [
       "2500"
      ]
     },
     "execution_count": 90,
     "metadata": {},
     "output_type": "execute_result"
    }
   ],
   "source": [
    "len(Votes[0])"
   ]
  },
  {
   "cell_type": "code",
   "execution_count": 39,
   "metadata": {
    "scrolled": true
   },
   "outputs": [
    {
     "data": {
      "text/plain": [
       "0.8464"
      ]
     },
     "execution_count": 39,
     "metadata": {},
     "output_type": "execute_result"
    }
   ],
   "source": [
    "corr/float(len(tY))"
   ]
  },
  {
   "cell_type": "raw",
   "metadata": {},
   "source": [
    "Val cnfmat\n",
    "array([[199.,   0.,   1.,   8.,   0.,   0.,  19.,   0.,   0.,   0.],\n",
    "       [  2., 240.,   0.,   7.,   2.,   0.,   0.,   0.,   0.,   0.],\n",
    "       [  1.,   2., 208.,   0.,  29.,   0.,  26.,   0.,   1.,   0.],\n",
    "       [  4.,   2.,   1., 193.,   4.,   1.,   1.,   0.,   0.,   0.],\n",
    "       [  0.,   0.,  13.,   6., 185.,   0.,  11.,   0.,   0.,   0.],\n",
    "       [  0.,   0.,   0.,   0.,   0., 226.,   0.,  24.,   0.,   2.],\n",
    "       [ 37.,   3.,  15.,  26.,  21.,   0., 183.,   0.,   2.,   0.],\n",
    "       [  0.,   0.,   0.,   0.,   0.,   1.,   0., 198.,   2.,   4.],\n",
    "       [  7.,   3.,  12.,  10.,   9.,  15.,  10.,   5., 245.,   5.],\n",
    "       [  0.,   0.,   0.,   0.,   0.,   7.,   0.,  23.,   0., 239.]])"
   ]
  },
  {
   "cell_type": "raw",
   "metadata": {},
   "source": [
    "Test cnfmat \n",
    "array([[399.,   0.,   0.,  12.,   0.,   1.,  52.,   0.,   1.,   0.],\n",
    "       [  0., 484.,   0.,   9.,   1.,   0.,   1.,   0.,   0.,   0.],\n",
    "       [  7.,   6., 414.,   2.,  52.,   0.,  51.,   0.,   1.,   0.],\n",
    "       [  7.,   2.,   3., 407.,  11.,   0.,   4.,   0.,   0.,   0.],\n",
    "       [  0.,   0.,  26.,   7., 367.,   0.,  19.,   0.,   0.,   0.],\n",
    "       [  0.,   0.,   0.,   0.,   0., 432.,   0.,  48.,   0.,   5.],\n",
    "       [ 64.,   6.,  43.,  43.,  54.,   0., 347.,   0.,   3.,   0.],\n",
    "       [  0.,   0.,   0.,   0.,   0.,   7.,   0., 410.,   0.,   6.],\n",
    "       [ 23.,   2.,  14.,  20.,  15.,  46.,  26.,   6., 495.,   2.],\n",
    "       [  0.,   0.,   0.,   0.,   0.,  14.,   0.,  36.,   0., 487.]])"
   ]
  },
  {
   "cell_type": "code",
   "execution_count": 51,
   "metadata": {},
   "outputs": [],
   "source": [
    "# Multi class using SK learn 1 vs 1\n",
    "clf = svm.SVC(kernel='rbf',C=1,gamma=0.05)"
   ]
  },
  {
   "cell_type": "code",
   "execution_count": 55,
   "metadata": {},
   "outputs": [
    {
     "data": {
      "text/plain": [
       "SVC(C=1, cache_size=200, class_weight=None, coef0=0.0,\n",
       "  decision_function_shape='ovr', degree=3, gamma=0.05, kernel='rbf',\n",
       "  max_iter=-1, probability=False, random_state=None, shrinking=True,\n",
       "  tol=0.001, verbose=False)"
      ]
     },
     "execution_count": 55,
     "metadata": {},
     "output_type": "execute_result"
    }
   ],
   "source": [
    "clf.fit(allX,Y)"
   ]
  },
  {
   "cell_type": "code",
   "execution_count": 56,
   "metadata": {},
   "outputs": [],
   "source": [
    "R = clf.predict(tX)"
   ]
  },
  {
   "cell_type": "code",
   "execution_count": 60,
   "metadata": {},
   "outputs": [],
   "source": [
    "cnfmat = np.zeros((10,10)).astype(int)\n",
    "corr = 0.0\n",
    "for i in range(0,len(R)):\n",
    "    if(R[i] == tY[i]):\n",
    "        corr+=1;\n",
    "    cnfmat[int(R[i])][int(tY[i])]+=1"
   ]
  },
  {
   "cell_type": "code",
   "execution_count": 61,
   "metadata": {},
   "outputs": [
    {
     "data": {
      "text/plain": [
       "0.8808"
      ]
     },
     "execution_count": 61,
     "metadata": {},
     "output_type": "execute_result"
    }
   ],
   "source": [
    "corr /  float(len(R))"
   ]
  },
  {
   "cell_type": "markdown",
   "metadata": {},
   "source": [
    "SVM ACC -> 0.8808"
   ]
  },
  {
   "cell_type": "raw",
   "metadata": {},
   "source": [
    "cnfmat \n",
    "array([[433,   1,   5,  12,   3,   0,  80,   0,   1,   0],\n",
    "       [  0, 482,   0,   0,   1,   0,   0,   0,   0,   0],\n",
    "       [  5,   4, 411,   3,  41,   0,  55,   0,   1,   0],\n",
    "       [ 11,   9,   7, 457,  13,   0,   9,   0,   1,   0],\n",
    "       [  3,   0,  37,   9, 399,   0,  34,   0,   2,   0],\n",
    "       [  0,   0,   0,   0,   0, 473,   0,  14,   2,  11],\n",
    "       [ 38,   4,  32,  14,  38,   0, 315,   0,   2,   0],\n",
    "       [  0,   0,   0,   0,   0,  16,   0, 471,   2,  14],\n",
    "       [ 10,   0,   8,   5,   5,   5,   7,   1, 489,   1],\n",
    "       [  0,   0,   0,   0,   0,   6,   0,  14,   0, 474]])"
   ]
  },
  {
   "cell_type": "code",
   "execution_count": 45,
   "metadata": {},
   "outputs": [],
   "source": [
    "Cs = [1e-5,1e-3,1,5,10]"
   ]
  },
  {
   "cell_type": "code",
   "execution_count": null,
   "metadata": {},
   "outputs": [
    {
     "name": "stdout",
     "output_type": "stream",
     "text": [
      "(18000, 784)\n",
      "(18000,)\n"
     ]
    }
   ],
   "source": [
    "# K-cross validation\n",
    "# assuming data is already shuffled\n",
    "k = 5\n",
    "BS = allX.shape[0]/k\n",
    "# kX = np.zeros((k,allX.shape[0]/k,allX.shape[1]))\n",
    "# for i in range(0,k):\n",
    "#     kX[i] = allX[i*BS:(i+1)*BS]\n",
    "acc = []\n",
    "st = time.time()\n",
    "for c in Cs:\n",
    "    correct = 0.0\n",
    "    clf = svm.SVC(kernel='rbf',C=c,gamma=0.05)\n",
    "    # Treat i-th block as validation set\n",
    "    for i in range(0,k):\n",
    "        trainX = np.vstack((allX[:i*BS],allX[(i+1)*BS:]))\n",
    "        trainY = np.hstack((Y[:i*BS],Y[(i+1)*BS:]))\n",
    "        print(trainX.shape)\n",
    "        print(trainY.shape)\n",
    "        clf.fit(trainX,trainY)\n",
    "        print(\"Predicting now:\")\n",
    "        R = clf.predict(allX[i*BS:(i+1)*BS])\n",
    "        for j in range(0,len(R)):\n",
    "            if(R[j]==Y[i*BS + j]):\n",
    "                correct+=1\n",
    "        print(\"Accuracy for this set: \"+str(correct/float((i+1)*BS)))\n",
    "        print(time.time() - st)\n",
    "    accuracy = float(correct)/float(len(allX))\n",
    "    acc.append(accuracy)\n",
    "    print(accuracy)"
   ]
  },
  {
   "cell_type": "code",
   "execution_count": null,
   "metadata": {},
   "outputs": [],
   "source": [
    "tacc\n",
    "for c in Cs:\n",
    "    print(\"for c = \"+str(c)+\":\")\n",
    "    correct = 0.0\n",
    "    clf = svm.SVC(kernel='rbf',C=c,gamma=0.05)\n",
    "    clf.fit(allX,Y)\n",
    "    R=clf.predict(tX)\n",
    "    for i in range(0,len(tX)):\n",
    "        if(R[i]==tY[i]):\n",
    "            correct+=1\n",
    "    acc = float(correct)/float(len(tY))\n",
    "    tacc.append(acc)\n",
    "    print(acc)"
   ]
  }
 ],
 "metadata": {
  "kernelspec": {
   "display_name": "Python 2",
   "language": "python",
   "name": "python2"
  },
  "language_info": {
   "codemirror_mode": {
    "name": "ipython",
    "version": 2
   },
   "file_extension": ".py",
   "mimetype": "text/x-python",
   "name": "python",
   "nbconvert_exporter": "python",
   "pygments_lexer": "ipython2",
   "version": "2.7.16"
  }
 },
 "nbformat": 4,
 "nbformat_minor": 2
}
