{
 "cells": [
  {
   "cell_type": "code",
   "execution_count": 1,
   "metadata": {},
   "outputs": [],
   "source": [
    "import numpy as np\n",
    "import cvxopt as cv\n",
    "import math\n",
    "from sklearn import svm,multiclass\n",
    "import time\n",
    "import matplotlib.pyplot as plt\n",
    "TRAIN_FILE = 'fashion_mnist/train.csv'\n",
    "TEST_FILE = 'fashion_mnist/test.csv'\n",
    "VAL_FILE = 'fashion_mnist/val.csv'"
   ]
  },
  {
   "cell_type": "code",
   "execution_count": 2,
   "metadata": {},
   "outputs": [],
   "source": [
    "# Load data from files\n",
    "data = np.genfromtxt(TRAIN_FILE,delimiter=',')\n",
    "tdata = np.genfromtxt(TEST_FILE,delimiter=',')\n",
    "vdata = np.genfromtxt(VAL_FILE,delimiter=',')"
   ]
  },
  {
   "cell_type": "code",
   "execution_count": 3,
   "metadata": {},
   "outputs": [],
   "source": [
    "C = 1.0\n",
    "y = 0.05"
   ]
  },
  {
   "cell_type": "code",
   "execution_count": 4,
   "metadata": {},
   "outputs": [],
   "source": [
    "# Gaussian Kernel\n",
    "def gaussian(y,v):\n",
    "    return math.exp(-y * v)\n",
    "GAUS = np.vectorize(gaussian)"
   ]
  },
  {
   "cell_type": "code",
   "execution_count": 5,
   "metadata": {},
   "outputs": [],
   "source": [
    "def traingaus(GP,Y,M):\n",
    "#     M = len(Y)\n",
    "    print(\"Training on gaussian kernel\")\n",
    "    P = cv.matrix(np.matmul(Y.T,Y) * GP)\n",
    "    # column vector with all -1\n",
    "    Q = cv.matrix(-1 * np.ones((M,1)).astype(float))\n",
    "    G = cv.matrix(np.vstack((-1 * np.eye(M).astype(float),np.eye(M).astype(float))))\n",
    "    h = cv.matrix(np.vstack((np.zeros((M,1)).astype(float),C * np.ones((M,1)).astype(float))))\n",
    "    A = cv.matrix(Y)\n",
    "    b = cv.matrix([[0]],tc='d')\n",
    "    print(\"Finding the optimal solution:\")\n",
    "    solution = cv.solvers.qp(P,Q,G,h)#,A,b)\n",
    "    return np.array(solution['x'])"
   ]
  },
  {
   "cell_type": "markdown",
   "metadata": {},
   "source": [
    "# Binary Classifier"
   ]
  },
  {
   "cell_type": "code",
   "execution_count": 65,
   "metadata": {},
   "outputs": [],
   "source": [
    "def convertY(origY):\n",
    "    maxv = np.max(origY)\n",
    "    minv = np.min(origY)\n",
    "    mid = (maxv + minv) / 2.0\n",
    "    diff = ( maxv - minv )/2.0\n",
    "    return (origY - mid) /diff"
   ]
  },
  {
   "cell_type": "code",
   "execution_count": 118,
   "metadata": {},
   "outputs": [],
   "source": [
    "# Define classes to classify\n",
    "d = 9\n",
    "classes = [d, (d+1)%10] # Binary classification "
   ]
  },
  {
   "cell_type": "code",
   "execution_count": 122,
   "metadata": {},
   "outputs": [
    {
     "data": {
      "text/plain": [
       "[9, 0]"
      ]
     },
     "execution_count": 122,
     "metadata": {},
     "output_type": "execute_result"
    }
   ],
   "source": [
    "classes"
   ]
  },
  {
   "cell_type": "code",
   "execution_count": 119,
   "metadata": {},
   "outputs": [],
   "source": [
    "indices = np.where((data[:,-1] == classes[0]) | (data[:,-1]==classes[1]))"
   ]
  },
  {
   "cell_type": "code",
   "execution_count": 120,
   "metadata": {},
   "outputs": [],
   "source": [
    "# Loading and modifying traindata\n",
    "# change values to [0,1] from [0,255]\n",
    "indices = np.where((data[:,-1] == classes[0]) | (data[:,-1]==classes[1]))\n",
    "X = data[indices,0:784][0] / 255.0\n",
    "# change classes to {-1,1}\n",
    "Y = convertY(data[indices,-1])"
   ]
  },
  {
   "cell_type": "code",
   "execution_count": 121,
   "metadata": {},
   "outputs": [],
   "source": [
    "# Loading test data\n",
    "indices = np.where((tdata[:,-1] == classes[0]) | (tdata[:,-1]==classes[1]))\n",
    "tY = convertY(tdata[indices,-1])[0]\n",
    "tX = (tdata[indices,0:784]/255.0)[0]\n",
    "\n",
    "# Loading validation data\n",
    "indices = np.where((vdata[:,-1] == classes[0]) | (vdata[:,-1]==classes[1]))\n",
    "vY = convertY(vdata[indices,-1])[0]\n",
    "vX = (vdata[indices,0:784]/255.0)[0]"
   ]
  },
  {
   "cell_type": "code",
   "execution_count": 55,
   "metadata": {},
   "outputs": [],
   "source": [
    "# returns alphas as np array, train for both linear and gaussian\n",
    "def train(islinear,X,Y):\n",
    "    M = len(X)\n",
    "    P = np.eye(M).astype(float)\n",
    "    if(islinear):\n",
    "        print(\"Using Linear Kernel\")\n",
    "        # linear kernel\n",
    "        Z = Y.T * X\n",
    "        ## M x M array Linear kernel\n",
    "        P = np.matmul(Z, Z.T)\n",
    "    else:\n",
    "        print(\"Using Gaussian Kernel\")\n",
    "        for i in range(0,M):\n",
    "            t = X - X[i]\n",
    "            P[i] = np.sum(t**2,axis=1)\n",
    "        P = np.matmul(Y.T,Y) * GAUS(y,P)\n",
    "    P = cv.matrix(P)\n",
    "    # column vector with all -1\n",
    "    Q = cv.matrix(-1 * np.ones((M,1)).astype(float))\n",
    "    G = cv.matrix(np.vstack((-1 * np.eye(M).astype(float),np.eye(M).astype(float))))\n",
    "    h = cv.matrix(np.vstack((np.zeros((M,1)).astype(float),C * np.ones((M,1)).astype(float))))\n",
    "    A = cv.matrix(Y)\n",
    "    b = cv.matrix([[0]],tc='d')\n",
    "    print(\"Finding the optimal solution:\")\n",
    "    solution = cv.solvers.qp(P,Q,G,h,A,b)\n",
    "    return np.array(solution['x'])"
   ]
  },
  {
   "cell_type": "code",
   "execution_count": 56,
   "metadata": {},
   "outputs": [],
   "source": [
    "def getB(ALPHA,GP):\n",
    "    R = np.sum(ALPHA * GP, axis=0)\n",
    "    M = len(R)\n",
    "    ## assuming arangement is such that top layers is Y = -1 and bottom is Y = 1\n",
    "    maxv = np.max(R[0:M/2])\n",
    "    minv = np.min(R[M/2:])\n",
    "    b = -(maxv + minv)/2.0\n",
    "    return b"
   ]
  },
  {
   "cell_type": "markdown",
   "metadata": {},
   "source": [
    "### Linear Kernel"
   ]
  },
  {
   "cell_type": "code",
   "execution_count": 57,
   "metadata": {},
   "outputs": [],
   "source": [
    "def getLinearParams(alph,X,Y):\n",
    "    fw = alph * Y.T\n",
    "    w = np.matmul(fw.T,X)\n",
    "    R = np.matmul(w,X.T)[0]\n",
    "    Y = Y[0]\n",
    "    y1indices = np.where(Y==1)\n",
    "    y0indices = np.where(Y==-1)\n",
    "    maxv = np.max(R[y0indices])\n",
    "    minv = np.min(R[y1indices])\n",
    "    b = -(maxv+minv)/2.0\n",
    "    nsv = len(np.where(alph > 1e-05)[0])\n",
    "    return (w,b,nsv)"
   ]
  },
  {
   "cell_type": "code",
   "execution_count": 123,
   "metadata": {},
   "outputs": [
    {
     "name": "stdout",
     "output_type": "stream",
     "text": [
      "Using Linear Kernel\n",
      "Finding the optimal solution:\n",
      "     pcost       dcost       gap    pres   dres\n",
      " 0: -1.3874e+02 -7.3498e+03  4e+04  2e+00  1e-12\n",
      " 1: -7.8159e+01 -3.6059e+03  7e+03  3e-01  1e-12\n",
      " 2: -2.3151e+01 -8.1591e+02  1e+03  6e-02  6e-13\n",
      " 3: -8.2817e+00 -3.2692e+02  5e+02  2e-02  3e-13\n",
      " 4: -1.9531e+00 -5.9043e+01  9e+01  3e-03  8e-14\n",
      " 5: -6.9181e-01 -1.3465e+01  2e+01  7e-04  3e-14\n",
      " 6: -3.3850e-01 -2.8374e+00  3e+00  1e-04  2e-14\n",
      " 7: -3.3182e-01 -1.0866e+00  8e-01  2e-16  2e-14\n",
      " 8: -4.8517e-01 -8.0175e-01  3e-01  2e-16  2e-14\n",
      " 9: -5.4774e-01 -6.8892e-01  1e-01  2e-16  2e-14\n",
      "10: -5.8820e-01 -6.2264e-01  3e-02  2e-16  2e-14\n",
      "11: -6.0131e-01 -6.0673e-01  5e-03  2e-16  2e-14\n",
      "12: -6.0378e-01 -6.0391e-01  1e-04  3e-16  2e-14\n",
      "13: -6.0384e-01 -6.0384e-01  2e-06  2e-16  2e-14\n",
      "14: -6.0384e-01 -6.0384e-01  2e-08  2e-16  2e-14\n",
      "Optimal solution found.\n"
     ]
    }
   ],
   "source": [
    "linearalpha = train(True,X,Y)\n",
    "(W,b,nsv) = getLinearParams(linearalpha,X,Y)"
   ]
  },
  {
   "cell_type": "code",
   "execution_count": 124,
   "metadata": {
    "scrolled": true
   },
   "outputs": [
    {
     "name": "stdout",
     "output_type": "stream",
     "text": [
      "Number of Support Vectors: 57\n"
     ]
    }
   ],
   "source": [
    "print(\"Number of Support Vectors: \"+str(nsv))"
   ]
  },
  {
   "cell_type": "code",
   "execution_count": 125,
   "metadata": {},
   "outputs": [
    {
     "name": "stdout",
     "output_type": "stream",
     "text": [
      "b: -0.763733306012551\n"
     ]
    }
   ],
   "source": [
    "print(\"b: \"+str(b))"
   ]
  },
  {
   "cell_type": "code",
   "execution_count": 126,
   "metadata": {},
   "outputs": [
    {
     "name": "stdout",
     "output_type": "stream",
     "text": [
      "Test Accuracy: 1.0\n"
     ]
    }
   ],
   "source": [
    "# Test data\n",
    "testValues = (np.matmul(W,tX.T) + b)[0]\n",
    "testPrediction = [1 if val>=0 else -1 for val in testValues]\n",
    "testCorrect = len(np.where(testPrediction == tY)[0])\n",
    "testAccuracy = float(testCorrect)/float(len(tY))\n",
    "print(\"Test Accuracy: \" + str(testAccuracy))"
   ]
  },
  {
   "cell_type": "code",
   "execution_count": 127,
   "metadata": {},
   "outputs": [
    {
     "name": "stdout",
     "output_type": "stream",
     "text": [
      "Validation Accuracy: 0.998\n"
     ]
    }
   ],
   "source": [
    "# validation data\n",
    "validationValues = (np.matmul(W,vX.T) + b)[0]\n",
    "validationPrediction = [1 if val >=0 else -1 for val in validationValues]\n",
    "validationCorrect = len(np.where(validationPrediction==vY)[0])\n",
    "validationAccuracy = float(validationCorrect)/float(len(vY))\n",
    "print(\"Validation Accuracy: \"+str(validationAccuracy))"
   ]
  },
  {
   "cell_type": "markdown",
   "metadata": {},
   "source": [
    "### Gaussian Kernel"
   ]
  },
  {
   "cell_type": "code",
   "execution_count": 13,
   "metadata": {},
   "outputs": [],
   "source": [
    "# Calculate Squared sum matrix\n",
    "M = len(X)\n",
    "SSM = np.eye(M).astype(float)\n",
    "for i in range(0,M):\n",
    "    SSM[i] = np.sum((X-X[i])**2,axis=1)\n",
    "# Gaussian of SSM\n",
    "GM = GAUS(y,SSM)"
   ]
  },
  {
   "cell_type": "code",
   "execution_count": 14,
   "metadata": {},
   "outputs": [
    {
     "name": "stdout",
     "output_type": "stream",
     "text": [
      "Training on gaussian kernel\n",
      "(4500, 4500)\n",
      "(4500, 1)\n",
      "(9000, 4500)\n",
      "(9000, 1)\n",
      "(1, 4500)\n",
      "(1, 1)\n",
      "Finding the optimal solution:\n",
      "     pcost       dcost       gap    pres   dres\n",
      " 0: -1.9038e+02 -6.8423e+03  3e+04  2e+00  1e-15\n",
      " 1: -1.3653e+02 -3.2508e+03  5e+03  2e-01  1e-15\n",
      " 2: -1.2184e+02 -7.0369e+02  7e+02  2e-02  2e-15\n",
      " 3: -1.4921e+02 -2.9557e+02  2e+02  5e-03  2e-15\n",
      " 4: -1.6366e+02 -2.1398e+02  5e+01  1e-03  1e-15\n",
      " 5: -1.7107e+02 -1.8751e+02  2e+01  6e-05  1e-15\n",
      " 6: -1.7361e+02 -1.8125e+02  8e+00  2e-05  1e-15\n",
      " 7: -1.7485e+02 -1.7826e+02  3e+00  2e-16  1e-15\n",
      " 8: -1.7577e+02 -1.7650e+02  7e-01  2e-16  1e-15\n",
      " 9: -1.7598e+02 -1.7614e+02  2e-01  2e-16  1e-15\n",
      "10: -1.7604e+02 -1.7605e+02  7e-03  2e-16  1e-15\n",
      "11: -1.7604e+02 -1.7604e+02  1e-04  2e-16  1e-15\n",
      "Optimal solution found.\n"
     ]
    }
   ],
   "source": [
    "gaussianalpha = traingaus(GM,Y,M)"
   ]
  },
  {
   "cell_type": "code",
   "execution_count": 15,
   "metadata": {},
   "outputs": [],
   "source": [
    "fW = gaussianalpha * Y.T"
   ]
  },
  {
   "cell_type": "code",
   "execution_count": 16,
   "metadata": {},
   "outputs": [
    {
     "name": "stdout",
     "output_type": "stream",
     "text": [
      "Number of Support Vectors: 818\n"
     ]
    }
   ],
   "source": [
    "nsv = len(np.where(gaussianalpha>1e-05)[0])\n",
    "print(\"Number of Support Vectors: \"+str(nsv))"
   ]
  },
  {
   "cell_type": "code",
   "execution_count": 17,
   "metadata": {},
   "outputs": [
    {
     "name": "stdout",
     "output_type": "stream",
     "text": [
      "b: 0.4506163743867606\n"
     ]
    }
   ],
   "source": [
    "# Get B\n",
    "tmp = np.sum(fW * GM, axis=0)\n",
    "y1indices = np.where(Y[0]==1)\n",
    "yn1indices = np.where(Y[0]==-1)\n",
    "maxv = np.max(tmp[yn1indices])\n",
    "minv = np.min(tmp[y1indices])\n",
    "b = -(maxv + minv)/2.0\n",
    "print(\"b: \"+str(b))"
   ]
  },
  {
   "cell_type": "code",
   "execution_count": 18,
   "metadata": {},
   "outputs": [
    {
     "name": "stdout",
     "output_type": "stream",
     "text": [
      "Test Accuracy: 0.971\n"
     ]
    }
   ],
   "source": [
    "# Test data\n",
    "tSSM = np.ones((len(X),len(tX))).astype(float)\n",
    "for i in range(0,len(X)):\n",
    "    tSSM[i] = np.sum((tX - X[i])**2,axis = 1)\n",
    "tGM = GAUS(y,tSSM)\n",
    "testValues = np.sum(fW* tGM, axis=0) + b\n",
    "testPrediction = [1 if val>=0 else -1 for val in testValues]\n",
    "testCorrect = len(np.where(testPrediction == tY)[0])\n",
    "testAccuracy = float(testCorrect)/float(len(tY))\n",
    "print(\"Test Accuracy: \" + str(testAccuracy))"
   ]
  },
  {
   "cell_type": "code",
   "execution_count": 19,
   "metadata": {},
   "outputs": [
    {
     "name": "stdout",
     "output_type": "stream",
     "text": [
      "Validation Accuracy: 0.972\n"
     ]
    }
   ],
   "source": [
    "# Validation data\n",
    "vSSM = np.ones((len(X),len(vX))).astype(float)\n",
    "for i in range(0,len(X)):\n",
    "    vSSM[i] = np.sum((vX - X[i])**2,axis = 1)\n",
    "vGM = GAUS(y,vSSM)\n",
    "validationValues = np.sum(fW* vGM, axis=0) + b\n",
    "validationPrediction = [1 if val>=0 else -1 for val in validationValues]\n",
    "validationCorrect = len(np.where(validationPrediction == vY)[0])\n",
    "validationAccuracy = float(validationCorrect)/float(len(vY))\n",
    "print(\"Validation Accuracy: \" + str(validationAccuracy))"
   ]
  },
  {
   "cell_type": "markdown",
   "metadata": {},
   "source": [
    "## sklearn svm"
   ]
  },
  {
   "cell_type": "markdown",
   "metadata": {},
   "source": [
    "### Linear Kernel"
   ]
  },
  {
   "cell_type": "code",
   "execution_count": null,
   "metadata": {},
   "outputs": [],
   "source": [
    "# Training\n",
    "linearclf = svm.SVC(C=1.0,kernel='linear')\n",
    "linearclf.fit(X,Y[0])"
   ]
  },
  {
   "cell_type": "code",
   "execution_count": null,
   "metadata": {},
   "outputs": [],
   "source": [
    "print(\"Number of Support Vectors = \"+str(np.sum(linearclf.n_support_)))"
   ]
  },
  {
   "cell_type": "code",
   "execution_count": null,
   "metadata": {},
   "outputs": [],
   "source": [
    "# Test data\n",
    "R = linearclf.predict(tX)\n",
    "Correct = len(np.where(R == tY)[0])\n",
    "print(\"Test Accuracy: \"+str(float(Correct)/float(len(R))))"
   ]
  },
  {
   "cell_type": "code",
   "execution_count": null,
   "metadata": {},
   "outputs": [],
   "source": [
    "# Validation data\n",
    "R = linearclf.predict(vX)\n",
    "Correct = len(np.where(R == vY)[0])\n",
    "print(\"Validation Accuracy: \"+str(float(Correct)/float(len(R))))"
   ]
  },
  {
   "cell_type": "markdown",
   "metadata": {},
   "source": [
    "### Gaussian Kernel"
   ]
  },
  {
   "cell_type": "code",
   "execution_count": null,
   "metadata": {
    "scrolled": true
   },
   "outputs": [],
   "source": [
    "# Training\n",
    "gaussianclf = svm.SVC(C=1.0,kernel='rbf',gamma=y)\n",
    "gaussianclf.fit(X,Y[0])"
   ]
  },
  {
   "cell_type": "code",
   "execution_count": null,
   "metadata": {},
   "outputs": [],
   "source": [
    "print(\"Number of Support Vectors = \"+str(np.sum(gaussianclf.n_support_)))"
   ]
  },
  {
   "cell_type": "code",
   "execution_count": null,
   "metadata": {},
   "outputs": [],
   "source": [
    "# Test data\n",
    "R = gaussianclf.predict(tX)\n",
    "Correct = len(np.where(R == tY)[0])\n",
    "print(\"Test Accuracy: \"+str(float(Correct)/float(len(R))))"
   ]
  },
  {
   "cell_type": "code",
   "execution_count": null,
   "metadata": {},
   "outputs": [],
   "source": [
    "# Validation data\n",
    "R = gaussianclf.predict(vX)\n",
    "Correct = len(np.where(R == vY)[0])\n",
    "print(\"Validation Accuracy: \"+str(float(Correct)/float(len(R))))"
   ]
  },
  {
   "cell_type": "markdown",
   "metadata": {},
   "source": [
    "# Multi Class Classifier"
   ]
  },
  {
   "cell_type": "code",
   "execution_count": null,
   "metadata": {},
   "outputs": [],
   "source": [
    "# Load data\n",
    "allX = data[:,0:784] / 255.0\n",
    "Y = data[:,-1]"
   ]
  },
  {
   "cell_type": "code",
   "execution_count": null,
   "metadata": {},
   "outputs": [],
   "source": [
    "# create a dict containing all rows for a class in class key\n",
    "X = {}\n",
    "for i in range(0,len(allX)):\n",
    "    if Y[i] not in X:\n",
    "        X[Y[i]] = [allX[i]]\n",
    "    else:\n",
    "        X[Y[i]].append(allX[i])"
   ]
  },
  {
   "cell_type": "code",
   "execution_count": null,
   "metadata": {},
   "outputs": [],
   "source": [
    "# Test data\n",
    "tX = tdata[:,0:784]/255.0\n",
    "tY = tdata[:,-1]"
   ]
  },
  {
   "cell_type": "code",
   "execution_count": null,
   "metadata": {},
   "outputs": [],
   "source": [
    "# Validation data\n",
    "vX = vdata[:,0:784]/255.0\n",
    "vY = vdata[:,-1]"
   ]
  },
  {
   "cell_type": "code",
   "execution_count": null,
   "metadata": {},
   "outputs": [],
   "source": [
    "## Alphas and b for different classes\n",
    "ALPHAxY = np.zeros((10,10,4500,1)).astype(float)\n",
    "b = np.zeros((10,10)).astype(float)"
   ]
  },
  {
   "cell_type": "code",
   "execution_count": null,
   "metadata": {},
   "outputs": [],
   "source": [
    "# Load saved Alphas and b\n",
    "ALPHAxY = np.load('alphxy.npy')\n",
    "b = np.load('b.npy')"
   ]
  },
  {
   "cell_type": "code",
   "execution_count": null,
   "metadata": {},
   "outputs": [],
   "source": [
    "def ip(G,X,i):\n",
    "    G[i] = np.sum((X-X[i])**2, axis=1)\n",
    "IP = np.vectorize(ip)"
   ]
  },
  {
   "cell_type": "code",
   "execution_count": null,
   "metadata": {},
   "outputs": [],
   "source": [
    "# fill upper triangle with alphas\n",
    "Yi = np.ones(2250).astype(float)\n",
    "st = time.time()\n",
    "for i in range(0,10):\n",
    "    for j in range(i+1,10):\n",
    "        print(\"training for \"+str(i) + \" \" + str(j))\n",
    "        trainX = np.vstack((X[i],X[j]))\n",
    "        # treating bigger class as 1 and smaller as -1\n",
    "        trainY = np.asarray([np.hstack((-1.0*Yi,Yi))]).astype(float)\n",
    "        GP = np.eye(len(trainX)).astype(float)\n",
    "        M = len(trainX)\n",
    "        for f in range(0,M):\n",
    "#             t = trainX - trainX[f]\n",
    "#             GP[f] = np.sum(t*t,axis=1)\n",
    "            GP[f] = np.sum((trainX - trainX[f])**2,axis=1)\n",
    "        GP = GAUS(y,GP)\n",
    "        ALPHAxY[i][j] = (traingaus(GP,trainY,M) * trainY.T)\n",
    "        b[i][j] = getB(ALPHAxY[i][j],GP)\n",
    "        print(time.time()-st)"
   ]
  },
  {
   "cell_type": "code",
   "execution_count": null,
   "metadata": {},
   "outputs": [],
   "source": [
    "# save generated Alphaxy and B\n",
    "np.save('alphxy.npy',ALPHAxY.astype(np.float32))\n",
    "np.save('b.npy',b)"
   ]
  },
  {
   "cell_type": "raw",
   "metadata": {},
   "source": [
    "total time reqd = 5199.81085682\n"
   ]
  },
  {
   "cell_type": "code",
   "execution_count": null,
   "metadata": {},
   "outputs": [],
   "source": [
    "# Testing, returns accuracy and cnfmat, assuming ALPHAxY and b are defined globally\n",
    "def testing(tX,tY):\n",
    "    M = 4500\n",
    "    Votes = np.zeros((45,len(tX))).astype(np.int64)\n",
    "    tx = np.ones((M,len(tX))).astype(float)\n",
    "    st = time.time()\n",
    "    index = 0\n",
    "    # Iterate over all i,j to get vote from each classifier\n",
    "    for i in range(0,10):\n",
    "        for j in range(i+1,10):\n",
    "            print(\"Voting b/w classes \"+str(i) + \" and \"+ str(j))\n",
    "            trainX = np.vstack((X[i],X[j]))\n",
    "            for k in range(0,M):\n",
    "                tx[k] = np.sum((tX - trainX[k])**2,axis = 1)\n",
    "            fW = ALPHAxY[i][j]\n",
    "            R = np.sum(fW * GAUS(y,tx), axis=0) + b[i][j]\n",
    "            # converting values to classes\n",
    "            v = [j if cls>=0 else i for cls in R]\n",
    "            Votes[index] = v\n",
    "            index+=1\n",
    "    Votes = Votes.T\n",
    "    # Create Final class from votes, tie ends with assigning max class\n",
    "    R = np.zeros(len(tX))\n",
    "    for i in range(0,len(tX)):\n",
    "        tmp = np.bincount(Votes[i])\n",
    "        R[i] = np.where(tmp == tmp.max())[0][-1]\n",
    "    cnfmat = np.zeros((10,10))\n",
    "    # Number of correct predictions\n",
    "    correct = len(np.where(R == tY)[0])\n",
    "    accuracy = float(correct)/float(len(tY))\n",
    "    for i in range(0,len(tY)):\n",
    "        cnfmat[int(R[i])][int(tY[i])] +=1\n",
    "    return (accuracy,cnfmat)"
   ]
  },
  {
   "cell_type": "code",
   "execution_count": null,
   "metadata": {},
   "outputs": [],
   "source": [
    "# Test data\n",
    "tX = tdata[:,0:784]/255.0\n",
    "tY = tdata[:,-1]\n",
    "(TestAccuracy, TestConfusionMatrix) = testing(tX,tY)\n",
    "print(\"Test Accuracy: \"+str(TestAccuracy))\n",
    "print(\"Confusion Matrix for Test data:\")\n",
    "print(TestConfusionMatrix)"
   ]
  },
  {
   "cell_type": "code",
   "execution_count": null,
   "metadata": {},
   "outputs": [],
   "source": [
    "# Validation data\n",
    "vX = vdata[:,0:784]/255.0\n",
    "vY = vdata[:,-1]\n",
    "(ValidationAccuracy,ValidationConfusionMatrix) = testing(vX,vY)\n",
    "print(\"Validation Accuracy: \"+str(ValidationAccuracy))\n",
    "print(\"Confusion Matrix for Validation data:\")\n",
    "print(ValidationConfusionMatrix)"
   ]
  },
  {
   "cell_type": "raw",
   "metadata": {},
   "source": [
    "Test Accuracy = 0.8484\n",
    "Validation Accuracy = 84.6"
   ]
  },
  {
   "cell_type": "raw",
   "metadata": {},
   "source": [
    "Val cnfmat\n",
    "array([[199.,   0.,   1.,   8.,   0.,   0.,  19.,   0.,   0.,   0.],\n",
    "       [  2., 240.,   0.,   7.,   2.,   0.,   0.,   0.,   0.,   0.],\n",
    "       [  1.,   2., 208.,   0.,  29.,   0.,  26.,   0.,   1.,   0.],\n",
    "       [  4.,   2.,   1., 193.,   4.,   1.,   1.,   0.,   0.,   0.],\n",
    "       [  0.,   0.,  13.,   6., 185.,   0.,  11.,   0.,   0.,   0.],\n",
    "       [  0.,   0.,   0.,   0.,   0., 226.,   0.,  24.,   0.,   2.],\n",
    "       [ 37.,   3.,  15.,  26.,  21.,   0., 183.,   0.,   2.,   0.],\n",
    "       [  0.,   0.,   0.,   0.,   0.,   1.,   0., 198.,   2.,   4.],\n",
    "       [  7.,   3.,  12.,  10.,   9.,  15.,  10.,   5., 245.,   5.],\n",
    "       [  0.,   0.,   0.,   0.,   0.,   7.,   0.,  23.,   0., 239.]])"
   ]
  },
  {
   "cell_type": "raw",
   "metadata": {},
   "source": [
    "Test cnfmat \n",
    "array([[399.,   0.,   0.,  12.,   0.,   1.,  52.,   0.,   1.,   0.],\n",
    "       [  0., 484.,   0.,   9.,   1.,   0.,   1.,   0.,   0.,   0.],\n",
    "       [  7.,   6., 414.,   2.,  52.,   0.,  51.,   0.,   1.,   0.],\n",
    "       [  7.,   2.,   3., 407.,  11.,   0.,   4.,   0.,   0.,   0.],\n",
    "       [  0.,   0.,  26.,   7., 367.,   0.,  19.,   0.,   0.,   0.],\n",
    "       [  0.,   0.,   0.,   0.,   0., 432.,   0.,  48.,   0.,   5.],\n",
    "       [ 64.,   6.,  43.,  43.,  54.,   0., 347.,   0.,   3.,   0.],\n",
    "       [  0.,   0.,   0.,   0.,   0.,   7.,   0., 410.,   0.,   6.],\n",
    "       [ 23.,   2.,  14.,  20.,  15.,  46.,  26.,   6., 495.,   2.],\n",
    "       [  0.,   0.,   0.,   0.,   0.,  14.,   0.,  36.,   0., 487.]])"
   ]
  },
  {
   "cell_type": "markdown",
   "metadata": {},
   "source": [
    "## sklearn svm"
   ]
  },
  {
   "cell_type": "code",
   "execution_count": null,
   "metadata": {},
   "outputs": [],
   "source": [
    "# Multi class using SK learn 1 vs 1\n",
    "# Initialize classifier\n",
    "classifier = multiclass.OneVsOneClassifier(svm.SVC(kernel='rbf',C=1,gamma=0.05))"
   ]
  },
  {
   "cell_type": "code",
   "execution_count": null,
   "metadata": {},
   "outputs": [],
   "source": [
    "Classifiers = []"
   ]
  },
  {
   "cell_type": "code",
   "execution_count": null,
   "metadata": {
    "scrolled": true
   },
   "outputs": [],
   "source": [
    "# Train\n",
    "Yi = np.ones(2250).astype(float)\n",
    "# numCLF = 0\n",
    "st = time.time()\n",
    "for i in range(0,10):\n",
    "    for j in range(i+1,10):\n",
    "        print(\"training for \"+str(i) + \" \" + str(j))\n",
    "        trainX = np.vstack((X[i],X[j]))\n",
    "        # treating bigger class as 1 and smaller as -1\n",
    "        trainY = np.asarray(np.hstack((-1.0*Yi,Yi))).astype(float)\n",
    "        M = len(trainX)\n",
    "        clf = svm.SVC(kernel='rbf',C=1,gamma=0.05)\n",
    "        clf.fit(trainX,trainY)\n",
    "        Classifiers.append(clf)\n",
    "print(time.time()-st)"
   ]
  },
  {
   "cell_type": "code",
   "execution_count": null,
   "metadata": {},
   "outputs": [],
   "source": [
    "# assuming classifier is global\n",
    "def svmtesting(tX,tY):\n",
    "    M = 4500\n",
    "    Votes = np.zeros((45,len(tX))).astype(np.int64)\n",
    "    tx = np.ones((M,len(tX))).astype(float)\n",
    "    st = time.time()\n",
    "    index = 0\n",
    "    # Iterate over all i,j to get vote from each classifier\n",
    "    numCLF = 0\n",
    "    for i in range(0,10):\n",
    "        for j in range(i+1,10):\n",
    "#             print(\"Voting b/w classes \"+str(i) + \" and \"+ str(j))\n",
    "            clf = Classifiers[numCLF]\n",
    "            numCLF += 1\n",
    "            R = clf.predict(tX)\n",
    "            # converting values to classes\n",
    "            v = [j if cls>=0 else i for cls in R]\n",
    "            Votes[index] = v\n",
    "            index+=1\n",
    "    Votes = Votes.T\n",
    "    # Create Final class from votes, tie ends with assigning max class\n",
    "    R = np.zeros(len(tX))\n",
    "    for i in range(0,len(tX)):\n",
    "        tmp = np.bincount(Votes[i])\n",
    "        R[i] = np.where(tmp == tmp.max())[0][-1]\n",
    "    cnfmat = np.zeros((10,10))\n",
    "    # Number of correct predictions\n",
    "    correct = len(np.where(R == tY)[0])\n",
    "    accuracy = float(correct)/float(len(tY))\n",
    "    for i in range(0,len(tY)):\n",
    "        cnfmat[int(R[i])][int(tY[i])] +=1\n",
    "    return (accuracy,cnfmat)\n",
    "    R = classifier.predict(tX)\n",
    "    cnfmat = np.zeros((10,10)).astype(int)\n",
    "    correct = len(np.where(R==tY)[0])\n",
    "    for i in range(0,len(R)):\n",
    "        cnfmat[int(R[i])][int(tY[i])]+=1\n",
    "    accuracy = float(correct)/float(len(tY))\n",
    "    return (accuracy,cnfmat)"
   ]
  },
  {
   "cell_type": "code",
   "execution_count": null,
   "metadata": {
    "scrolled": true
   },
   "outputs": [],
   "source": [
    "# Test data\n",
    "tX = tdata[:,0:784]/255.0\n",
    "tY = tdata[:,-1]\n",
    "(TestAccuracy, TestConfusionMatrix) = svmtesting(tX,tY)\n",
    "print(\"Test Accuracy: \"+str(TestAccuracy))\n",
    "print(\"Confusion Matrix for Test data:\")\n",
    "print(TestConfusionMatrix)"
   ]
  },
  {
   "cell_type": "raw",
   "metadata": {},
   "source": [
    "Test Accuracy: 0.8804\n",
    "Confusion Matrix for Test data:\n",
    "[[432.   1.   5.  12.   2.   0.  80.   0.   0.   0.]\n",
    " [  0. 482.   0.   0.   1.   0.   0.   0.   0.   0.]\n",
    " [  5.   4. 410.   3.  38.   0.  53.   0.   1.   0.]\n",
    " [ 11.   9.   7. 455.  13.   0.   9.   0.   1.   0.]\n",
    " [  3.   0.  37.  10. 398.   0.  34.   0.   2.   0.]\n",
    " [  0.   0.   0.   0.   0. 473.   0.  12.   2.  11.]\n",
    " [ 39.   4.  33.  15.  42.   0. 317.   0.   2.   0.]\n",
    " [  0.   0.   0.   0.   0.  16.   0. 471.   2.  14.]\n",
    " [ 10.   0.   8.   5.   6.   5.   7.   2. 490.   1.]\n",
    " [  0.   0.   0.   0.   0.   6.   0.  15.   0. 474.]]"
   ]
  },
  {
   "cell_type": "code",
   "execution_count": null,
   "metadata": {},
   "outputs": [],
   "source": [
    "# Validation data\n",
    "vX = vdata[:,0:784]/255.0\n",
    "vY = vdata[:,-1]\n",
    "(ValidationAccuracy,ValidationConfusionMatrix) = svmtesting(vX,vY)\n",
    "print(\"Validation Accuracy: \"+str(ValidationAccuracy))\n",
    "print(\"Confusion Matrix for Validation data:\")\n",
    "print(ValidationConfusionMatrix)"
   ]
  },
  {
   "cell_type": "raw",
   "metadata": {},
   "source": [
    "Validation Accuracy: 0.8796\n",
    "Confusion Matrix for Validation data:\n",
    "[[212.   0.   5.   6.   0.   0.  33.   0.   0.   0.]\n",
    " [  0. 237.   0.   0.   1.   0.   0.   0.   0.   0.]\n",
    " [  1.   3. 205.   0.  24.   0.  28.   0.   1.   0.]\n",
    " [  8.   7.   3. 228.   8.   1.   3.   0.   1.   0.]\n",
    " [  0.   0.  18.   6. 200.   0.  19.   0.   1.   0.]\n",
    " [  0.   0.   0.   0.   0. 241.   0.   8.   0.   5.]\n",
    " [ 26.   2.  14.   9.  16.   0. 166.   0.   1.   0.]\n",
    " [  0.   0.   0.   0.   0.   2.   0. 230.   2.   8.]\n",
    " [  3.   1.   5.   1.   1.   1.   1.   1. 244.   1.]\n",
    " [  0.   0.   0.   0.   0.   5.   0.  11.   0. 236.]]"
   ]
  },
  {
   "cell_type": "markdown",
   "metadata": {},
   "source": [
    "### Finding C"
   ]
  },
  {
   "cell_type": "code",
   "execution_count": 48,
   "metadata": {},
   "outputs": [],
   "source": [
    "Cs = [1e-5,1e-3,1,5,10]"
   ]
  },
  {
   "cell_type": "code",
   "execution_count": null,
   "metadata": {},
   "outputs": [],
   "source": [
    "# K-cross validation\n",
    "# assuming data is already shuffled\n",
    "k = 5\n",
    "BS = allX.shape[0]/k\n",
    "Accuracies=[]\n",
    "st = time.time()\n",
    "for c in Cs:\n",
    "    correct = 0\n",
    "    clf = svm.SVC(kernel='rbf',C=c,gamma=0.05)\n",
    "    # Treat i-th block as validation set\n",
    "    for i in range(0,k):\n",
    "        print(\"Block \"+str(i+1))\n",
    "        trainX = np.vstack((allX[:i*BS],allX[(i+1)*BS:]))\n",
    "        trainY = np.hstack((Y[:i*BS],Y[(i+1)*BS:]))\n",
    "        clf.fit(trainX,trainY)\n",
    "        R = clf.predict(allX[i*BS:(i+1)*BS])\n",
    "        y = Y[i*BS:(i+1)*BS]\n",
    "        correct += len(np.where(R==y)[0])\n",
    "        print(time.time() - st)\n",
    "    Accuracy = float(correct)/float(len(allX))\n",
    "    Accuracies.append(Accuracy)\n",
    "    print(\"C: \"+str(c)+\", \" + \"Average Validation accuracy: \"+str(Accuracy))\n",
    "print(Accuracies)"
   ]
  },
  {
   "cell_type": "raw",
   "metadata": {},
   "source": [
    "[0.09466666666666666, 0.09466666666666666, 0.8785333333333334, 0.8832444444444445, 0.8832444444444445]"
   ]
  },
  {
   "cell_type": "code",
   "execution_count": null,
   "metadata": {},
   "outputs": [],
   "source": [
    "# Test and Validation Accuracies\n",
    "TestAccuracies = []\n",
    "ValidationAccuracies = []\n",
    "for c in Cs:\n",
    "    clf = svm.SVC(kernel='rbf',C=c,gamma=0.05)\n",
    "    clf.fit(allX,Y)\n",
    "    testCorrect = len(np.where(clf.predict(tX)==tY)[0])\n",
    "    testAccuracy = float(testCorrect)/float(len(tY)) \n",
    "    TestAccuracies.append(testAccuracy)\n",
    "    validationCorrect = len(np.where(clf.predict(vX)==vY)[0])\n",
    "    validationAccuracy = float(validationCorrect)/float(len(vY))\n",
    "    ValidationAccuracies.append(validationAccuracy)\n",
    "    print(\"C: \"+str(c)+\", Test data Accuracy: \"+str(testAccuracy)+\", Validation data Accuracy: \"+str(validationAccuracy))"
   ]
  },
  {
   "cell_type": "raw",
   "metadata": {},
   "source": [
    "Test -> [0.5736, 0.5736, 0.8808, 0.8828, 0.8824]\n",
    "validation -> [0.552, 0.552, 0.8792, 0.8888, 0.888]"
   ]
  },
  {
   "cell_type": "code",
   "execution_count": 49,
   "metadata": {},
   "outputs": [
    {
     "data": {
      "image/png": "[encoded data removed]",
      "text/plain": [
       "<Figure size 432x288 with 1 Axes>"
      ]
     },
     "metadata": {
      "needs_background": "light"
     },
     "output_type": "display_data"
    }
   ],
   "source": [
    "plt.plot(Cs[2:],Accuracies[2:])\n",
    "plt.plot(Cs[2:],TestAccuracies[2:],marker='x')\n",
    "plt.plot(Cs[2:],ValidationAccuracies[2:],marker='+')\n",
    "plt.legend(['k-Fold','Test','Validation'])\n",
    "plt.title(\"Accuracies vs C\")\n",
    "plt.xlabel(\"C\")\n",
    "plt.ylabel(\"Accuracy\")\n",
    "plt.savefig('AccuraciesTop3.png')"
   ]
  }
 ],
 "metadata": {
  "kernelspec": {
   "display_name": "Python 2",
   "language": "python",
   "name": "python2"
  },
  "language_info": {
   "codemirror_mode": {
    "name": "ipython",
    "version": 2
   },
   "file_extension": ".py",
   "mimetype": "text/x-python",
   "name": "python",
   "nbconvert_exporter": "python",
   "pygments_lexer": "ipython2",
   "version": "2.7.16"
  }
 },
 "nbformat": 4,
 "nbformat_minor": 2
}
