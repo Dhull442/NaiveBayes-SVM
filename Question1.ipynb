{
 "cells": [
  {
   "cell_type": "code",
   "execution_count": null,
   "metadata": {},
   "outputs": [],
   "source": [
    "import numpy as np\n",
    "import pandas as pd\n",
    "from collections import Counter\n",
    "import math\n",
    "TRAIN_FILE = 'data/traindata.csv'\n",
    "TEST_FILE = 'data/testdata.csv'\n",
    "c = 1\n",
    "k = 2"
   ]
  },
  {
   "cell_type": "code",
   "execution_count": null,
   "metadata": {},
   "outputs": [],
   "source": [
    "df = pd.read_csv(TRAIN_FILE,sep=',',header=None)"
   ]
  },
  {
   "cell_type": "code",
   "execution_count": null,
   "metadata": {},
   "outputs": [],
   "source": [
    "data = np.array(df)"
   ]
  },
  {
   "cell_type": "code",
   "execution_count": null,
   "metadata": {},
   "outputs": [],
   "source": [
    "ind = np.asarray(data[:,0]).astype(int)\n",
    "comment = data[:,5]"
   ]
  },
  {
   "cell_type": "code",
   "execution_count": null,
   "metadata": {},
   "outputs": [],
   "source": [
    "m = len(comment)\n",
    "print(m)"
   ]
  },
  {
   "cell_type": "code",
   "execution_count": null,
   "metadata": {},
   "outputs": [],
   "source": [
    "phiY = np.sum(ind)/(4.0*m)  ## y==4\n",
    "num0 = (1-phiY)*m\n",
    "num1 = m - num0"
   ]
  },
  {
   "cell_type": "code",
   "execution_count": null,
   "metadata": {
    "scrolled": true
   },
   "outputs": [],
   "source": [
    "dct = {}\n",
    "for i in range(0,len(comment)):\n",
    "    words = set(comment[i].split())\n",
    "    if(ind[i] == 0):\n",
    "        for w in words:\n",
    "            if w in dct:\n",
    "                dct[w][0] += 1\n",
    "            else:\n",
    "                dct[w] = [1,0]\n",
    "    else:\n",
    "        for w in words:\n",
    "            if w in dct:\n",
    "                dct[w][1] += 1\n",
    "            else:\n",
    "                dct[w] = [0,1]"
   ]
  },
  {
   "cell_type": "code",
   "execution_count": null,
   "metadata": {},
   "outputs": [],
   "source": [
    "# log probab with laplacian smoothing \n",
    "def p(x,y):\n",
    "    occur = [0,0]\n",
    "    if x in dct:\n",
    "        occur = dct[x]\n",
    "    if(y==0):\n",
    "        return math.log((float)(occur[0]+c)/(float)(num0+(c*k)));\n",
    "    else:\n",
    "        return math.log((float)(occur[1]+c)/(float)(num1+(c*k)));"
   ]
  },
  {
   "cell_type": "code",
   "execution_count": null,
   "metadata": {},
   "outputs": [],
   "source": [
    "def py4x(x):\n",
    "    p0=0\n",
    "    p4=0\n",
    "    for val in x:\n",
    "        p0 += p(val,0)\n",
    "        p4 += p(val,4)\n",
    "    p0 = math.exp(p0)*(1-phiY)\n",
    "    p4 = math.exp(p4)*(phiY)\n",
    "    return p4/(p0+p4);"
   ]
  },
  {
   "cell_type": "code",
   "execution_count": null,
   "metadata": {},
   "outputs": [],
   "source": [
    "#testing\n",
    "tdf = pd.read_csv(TEST_FILE,sep=',',header=None)\n",
    "tdata = np.array(tdf)\n",
    "tind = np.asarray(tdata[:,0]).astype(int)\n",
    "tcomment = tdata[:,5]"
   ]
  },
  {
   "cell_type": "code",
   "execution_count": null,
   "metadata": {},
   "outputs": [],
   "source": [
    "error = np.zeros(2)\n",
    "total = 0\n",
    "cnfmat = np.zeros((2,2)) \n",
    "for i in range(0,len(tcomment)):\n",
    "    if(tind[i] == 2):\n",
    "        continue;\n",
    "    total+=1;\n",
    "    p1 = py4x(set(tcomment[i].split()))\n",
    "    clss = 0\n",
    "    if(p1 > 0.5):\n",
    "        clss = 4;\n",
    "    if(clss == tind[i]):\n",
    "        error[0]+=1;\n",
    "    else:\n",
    "        error[1]+=1;\n",
    "    ## confusion matrix\n",
    "    cnfmat[clss/4][tind[i]/4]+=1"
   ]
  },
  {
   "cell_type": "code",
   "execution_count": null,
   "metadata": {
    "scrolled": false
   },
   "outputs": [],
   "source": [
    "print(error/total)"
   ]
  },
  {
   "cell_type": "code",
   "execution_count": null,
   "metadata": {},
   "outputs": [],
   "source": [
    "cnfmat"
   ]
  },
  {
   "cell_type": "code",
   "execution_count": null,
   "metadata": {},
   "outputs": [],
   "source": [
    "# part(b) Baseline accuracy\n",
    "# random guessing\n",
    "import random\n",
    "total = 0\n",
    "error = np.zeros(2)\n",
    "for i in range(0,len(tcomment)):\n",
    "    if(tind[i]==2):\n",
    "        continue;\n",
    "    total+=1;\n",
    "    p1 = random.random()\n",
    "    clss = 0\n",
    "    if(p1 > 0.5):\n",
    "        clss = 4;\n",
    "    if(clss == tind[i]):\n",
    "        error[0]+=1;\n",
    "    else:\n",
    "        error[1]+=1;\n",
    "print(error/total)\n",
    "# Theoretically must be 0.5 with very large data set\n",
    "\n",
    "total = 0\n",
    "error = np.zeros(2)\n",
    "for i in range(0,len(tcomment)):\n",
    "    if(tind[i]==2):\n",
    "        continue;\n",
    "    total+=1;\n",
    "    p1 = phiY\n",
    "    clss = 0\n",
    "    if(p1 > 0.5):\n",
    "        clss = 4;\n",
    "    if(clss == tind[i]):\n",
    "        error[0]+=1;\n",
    "    else:\n",
    "        error[1]+=1;\n",
    "print(error/total)\n",
    "#equal to the num of majority class present."
   ]
  },
  {
   "cell_type": "code",
   "execution_count": null,
   "metadata": {},
   "outputs": [],
   "source": [
    "import nltk\n",
    "from nltk.tokenize import TweetTokenizer\n",
    "from nltk.corpus import stopwords\n",
    "import string\n",
    "import unicodedata\n",
    "tknzr = TweetTokenizer(strip_handles=True)\n",
    "ps = nltk.stem.PorterStemmer()\n",
    "lmt = nltk.stem.WordNetLemmatizer() \n",
    "sn = nltk.stem.SnowballStemmer('english')"
   ]
  },
  {
   "cell_type": "code",
   "execution_count": null,
   "metadata": {},
   "outputs": [],
   "source": [
    "#preprocessing: returns list of words after processing. not set\n",
    "def process(s):\n",
    "    # remove twitter handle then digits and punctuation\n",
    "    s = s.decode('latin-1')\n",
    "    words = ([sn.stem(word.lower()) for word in tknzr.tokenize(s) if word.isalpha() and word not in stopwords.words('english') and len(word)>2]) \n",
    "    return words"
   ]
  },
  {
   "cell_type": "code",
   "execution_count": null,
   "metadata": {
    "scrolled": true
   },
   "outputs": [],
   "source": [
    "dct = {}\n",
    "for i in range(0,len(comment)):\n",
    "    if(i%10000==0):\n",
    "        print(i)\n",
    "    words = set(process(comment[i]))\n",
    "    if(ind[i]==0):\n",
    "        for w in words:\n",
    "            if w in dct:\n",
    "                dct[w][0] += 1;\n",
    "            else:\n",
    "                dct[w] = [1,0]\n",
    "    else:\n",
    "        for w in words:\n",
    "            if w in dct:\n",
    "                dct[w][1] += 1;\n",
    "            else:\n",
    "                dct[w] = [0,1]"
   ]
  },
  {
   "cell_type": "code",
   "execution_count": null,
   "metadata": {},
   "outputs": [],
   "source": [
    "stemdct = dct"
   ]
  },
  {
   "cell_type": "code",
   "execution_count": null,
   "metadata": {},
   "outputs": [],
   "source": [
    "error = np.zeros(2)\n",
    "total = 0\n",
    "cnfmat = np.zeros((2,2)) \n",
    "for i in range(0,len(tcomment)):\n",
    "    if(tind[i] == 2):\n",
    "        continue;\n",
    "    total+=1;\n",
    "    p1 = py4x(process(tcomment[i]))\n",
    "    clss = 0\n",
    "    if(p1 > 0.5):\n",
    "        clss = 4;\n",
    "    if(clss == tind[i]):\n",
    "        error[0]+=1;\n",
    "    else:\n",
    "        error[1]+=1;\n",
    "    ## confusion matrix\n",
    "    cnfmat[clss/4][tind[i]/4]+=1"
   ]
  },
  {
   "cell_type": "raw",
   "metadata": {},
   "source": [
    "with stemming accuracy -> [0.78551532 0.21448468]\n",
    "cnf -> [[146.,  46.],\n",
    "       [ 31., 136.]]"
   ]
  },
  {
   "cell_type": "raw",
   "metadata": {},
   "source": [
    "with lemmizatoin accuracy -> [0.79665738 0.20334262]\n",
    "cnf -> [[148.,  44.],\n",
    "       [ 29., 138.]]"
   ]
  },
  {
   "cell_type": "code",
   "execution_count": null,
   "metadata": {},
   "outputs": [],
   "source": [
    "print(error/total)"
   ]
  },
  {
   "cell_type": "code",
   "execution_count": null,
   "metadata": {},
   "outputs": [],
   "source": [
    "cnfmat"
   ]
  },
  {
   "cell_type": "code",
   "execution_count": null,
   "metadata": {},
   "outputs": [],
   "source": [
    "# feature engineering\n",
    "#1 k-gram \n",
    "#2 divide the weight of each word in a sentence ( partial tf-idf? )"
   ]
  },
  {
   "cell_type": "code",
   "execution_count": null,
   "metadata": {},
   "outputs": [],
   "source": [
    "c = comment[0:100]"
   ]
  },
  {
   "cell_type": "code",
   "execution_count": null,
   "metadata": {},
   "outputs": [],
   "source": [
    "len(c)"
   ]
  },
  {
   "cell_type": "code",
   "execution_count": null,
   "metadata": {},
   "outputs": [],
   "source": [
    "from sklearn.feature_extraction.text import TfidfVectorizer\n",
    "from sklearn.feature_selection import SelectPercentile, chi2\n",
    "from sklearn.naive_bayes import GaussianNB\n",
    "import time\n",
    "clf = GaussianNB()\n",
    "sp = SelectPercentile(chi2, percentile=0.1)    \n",
    "vectorizer = TfidfVectorizer(sublinear_tf=True, stop_words=stopwords.words('english'),decode_error='ignore', encoding='latin-1')"
   ]
  },
  {
   "cell_type": "code",
   "execution_count": null,
   "metadata": {},
   "outputs": [],
   "source": [
    "X = vectorizer.fit_transform(comment)"
   ]
  },
  {
   "cell_type": "code",
   "execution_count": null,
   "metadata": {},
   "outputs": [],
   "source": [
    "opt = True"
   ]
  },
  {
   "cell_type": "code",
   "execution_count": null,
   "metadata": {},
   "outputs": [],
   "source": [
    "X.get_shape()"
   ]
  },
  {
   "cell_type": "code",
   "execution_count": null,
   "metadata": {},
   "outputs": [],
   "source": [
    "X = X_old"
   ]
  },
  {
   "cell_type": "code",
   "execution_count": null,
   "metadata": {},
   "outputs": [],
   "source": [
    "if opt:\n",
    "## Selecting percentiles\n",
    "    X_new = sp.fit_transform(X, ind)"
   ]
  },
  {
   "cell_type": "code",
   "execution_count": null,
   "metadata": {},
   "outputs": [],
   "source": [
    "X_old = X\n",
    "X = X_new"
   ]
  },
  {
   "cell_type": "code",
   "execution_count": null,
   "metadata": {},
   "outputs": [],
   "source": [
    "X_old.get_shape()"
   ]
  },
  {
   "cell_type": "code",
   "execution_count": null,
   "metadata": {},
   "outputs": [],
   "source": [
    "X.get_shape()"
   ]
  },
  {
   "cell_type": "code",
   "execution_count": null,
   "metadata": {
    "scrolled": true
   },
   "outputs": [],
   "source": [
    "time0 = time.time()\n",
    "BS = 1000\n",
    "for i in range(0,len(comment)/BS):\n",
    "    print(i)\n",
    "    clf.partial_fit(X[i*BS:(i+1)*BS].toarray(),ind[i*BS:(i+1)*BS],classes=[0,4])\n",
    "time1 = time.time()\n",
    "print(time1-time0)"
   ]
  },
  {
   "cell_type": "code",
   "execution_count": null,
   "metadata": {},
   "outputs": [],
   "source": [
    "# Testing using \n",
    "tX = vectorizer.transform(tcomment)\n",
    "# if opt:\n",
    "#     tX = sp.transform(tX)\n",
    "print(tX.get_shape())\n",
    "acc = 0\n",
    "total = 0\n",
    "for i in range(0,len(tcomment)):\n",
    "    if tind[i] == 2:\n",
    "        continue;\n",
    "    total+=1;\n",
    "    res = clf.predict(tX[i].toarray())[0]\n",
    "#     print(res)\n",
    "    if(res == tind[i]):\n",
    "        acc +=1"
   ]
  },
  {
   "cell_type": "code",
   "execution_count": null,
   "metadata": {},
   "outputs": [],
   "source": [
    "print(float(acc)/float(total))"
   ]
  },
  {
   "cell_type": "code",
   "execution_count": null,
   "metadata": {},
   "outputs": [],
   "source": [
    "\n",
    "che.toarray().shape"
   ]
  },
  {
   "cell_type": "code",
   "execution_count": null,
   "metadata": {},
   "outputs": [],
   "source": [
    "clf.predict(vectorizer.transform(['i am saksham','i am not a good']).toarray())"
   ]
  },
  {
   "cell_type": "code",
   "execution_count": null,
   "metadata": {
    "scrolled": true
   },
   "outputs": [],
   "source": [
    "#tf-idf\n",
    "dct = {}\n",
    "for i in range(0,len(comment)):\n",
    "    if(i%1000==0):\n",
    "        print(i)\n",
    "    words = process(comment[i]) ## net non unique also here\n",
    "    if(ind[i]==0):\n",
    "        for w in words:\n",
    "            if w in dct:\n",
    "                dct[w][0][0] += 1;\n",
    "            else:\n",
    "                dct[w] = [[1,0],[0,0]]\n",
    "        for w in set(words):\n",
    "            dct[w][0][1]+=1;\n",
    "    else:\n",
    "        for w in words:\n",
    "            if w in dct:\n",
    "                dct[w][1][0] += 1;\n",
    "            else:\n",
    "                dct[w] = [[0,0],[0,1]]\n",
    "        for w in set(words):\n",
    "            dct[w][1][1]+=1;\n"
   ]
  },
  {
   "cell_type": "code",
   "execution_count": null,
   "metadata": {},
   "outputs": [],
   "source": [
    "# print(dct)\n",
    "tfdct = dct\n",
    "dct = {}\n",
    "for w in tfdct:\n",
    "    d0 = 0.0\n",
    "    d1 = 0.0\n",
    "    if(tfdct[w][0][0]!=0):\n",
    "        d0 = (float)(tfdct[w][0][0])/(float)(tfdct[w][0][1])\n",
    "    if(tfdct[w][1][0]!=0):\n",
    "        d1 = (float)(tfdct[w][1][0])/(float)(tfdct[w][1][1])\n",
    "    dct[w] = [d0,d1]"
   ]
  },
  {
   "cell_type": "code",
   "execution_count": null,
   "metadata": {},
   "outputs": [],
   "source": [
    "dct"
   ]
  }
 ],
 "metadata": {
  "kernelspec": {
   "display_name": "Python 3",
   "language": "python",
   "name": "python3"
  },
  "language_info": {
   "codemirror_mode": {
    "name": "ipython",
    "version": 2
   },
   "file_extension": ".py",
   "mimetype": "text/x-python",
   "name": "python",
   "nbconvert_exporter": "python",
   "pygments_lexer": "ipython2",
   "version": "2.7.16"
  }
 },
 "nbformat": 4,
 "nbformat_minor": 2
}
