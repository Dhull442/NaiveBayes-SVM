{
 "cells": [
  {
   "cell_type": "code",
   "execution_count": 50,
   "metadata": {},
   "outputs": [],
   "source": [
    "import numpy as np\n",
    "import pandas as pd\n",
    "from collections import Counter\n",
    "import math\n",
    "import matplotlib.pyplot as plt\n",
    "import time\n",
    "from sklearn.feature_extraction.text import TfidfVectorizer\n",
    "from sklearn.feature_selection import SelectPercentile, chi2\n",
    "from sklearn.naive_bayes import GaussianNB\n",
    "TRAIN_FILE = 'data/traindata.csv'\n",
    "TEST_FILE = 'data/testdata.csv'\n",
    "# smoothing parameter\n",
    "c = 1.0\n",
    "# number of classes\n",
    "k = 2"
   ]
  },
  {
   "cell_type": "code",
   "execution_count": 2,
   "metadata": {},
   "outputs": [],
   "source": [
    "df = pd.read_csv(TRAIN_FILE,sep=',',header=None,encoding='latin-1')\n",
    "data = np.array(df)\n",
    "np.random.shuffle(data)\n",
    "tdf = pd.read_csv(TEST_FILE,sep=',',header=None)\n",
    "tdata = np.array(tdf)"
   ]
  },
  {
   "cell_type": "code",
   "execution_count": 3,
   "metadata": {},
   "outputs": [],
   "source": [
    "# Load train data\n",
    "ind = np.asarray(data[:,0]).astype(int)\n",
    "comment = data[:,5]"
   ]
  },
  {
   "cell_type": "code",
   "execution_count": 4,
   "metadata": {},
   "outputs": [],
   "source": [
    "# Load test data\n",
    "indices = np.where(tdata[:,0] != 2)[0]\n",
    "tind = tdata[indices,0]\n",
    "tcomment = tdata[indices,5]"
   ]
  },
  {
   "cell_type": "code",
   "execution_count": 5,
   "metadata": {},
   "outputs": [
    {
     "name": "stdout",
     "output_type": "stream",
     "text": [
      "1600000\n"
     ]
    }
   ],
   "source": [
    "M = len(comment)\n",
    "print(M)"
   ]
  },
  {
   "cell_type": "code",
   "execution_count": 6,
   "metadata": {},
   "outputs": [],
   "source": [
    "# Calculate phiY and num of both classes\n",
    "phiY = np.sum(ind)/(4.0*M)  ## y==4\n",
    "num0 = (1-phiY)*M\n",
    "num1 = M - num0"
   ]
  },
  {
   "cell_type": "code",
   "execution_count": 7,
   "metadata": {},
   "outputs": [],
   "source": [
    "# log probab with laplacian smoothing \n",
    "def p(x,y):\n",
    "    occur = [0,0]\n",
    "    if x in dct:\n",
    "        occur = dct[x]\n",
    "    if(y==0):\n",
    "        return math.log((float)(occur[0]+c)/(float)(num0+(c)));\n",
    "    else:\n",
    "        return math.log((float)(occur[1]+c)/(float)(num1+(c)));"
   ]
  },
  {
   "cell_type": "code",
   "execution_count": 8,
   "metadata": {},
   "outputs": [],
   "source": [
    "def py4x(x):\n",
    "    p0=0\n",
    "    p4=0\n",
    "    for val in x:\n",
    "        p0 += p(val,0)\n",
    "        p4 += p(val,4)\n",
    "    p0 = math.exp(p0)*(1-phiY)\n",
    "    p4 = math.exp(p4)*(phiY)\n",
    "    return p4/(p0+p4);"
   ]
  },
  {
   "cell_type": "markdown",
   "metadata": {},
   "source": [
    "### NB without any preprocessing"
   ]
  },
  {
   "cell_type": "code",
   "execution_count": 9,
   "metadata": {
    "scrolled": true
   },
   "outputs": [],
   "source": [
    "# generate dictionary of words\n",
    "dct = {}\n",
    "for i in range(0,len(comment)):\n",
    "    words = set(comment[i].split())\n",
    "    if(ind[i] == 0):\n",
    "        for w in words:\n",
    "            if w in dct:\n",
    "                dct[w][0] += 1\n",
    "            else:\n",
    "                dct[w] = [1,0]\n",
    "    else:\n",
    "        for w in words:\n",
    "            if w in dct:\n",
    "                dct[w][1] += 1\n",
    "            else:\n",
    "                dct[w] = [0,1]"
   ]
  },
  {
   "cell_type": "code",
   "execution_count": 95,
   "metadata": {},
   "outputs": [
    {
     "name": "stdout",
     "output_type": "stream",
     "text": [
      "Gaussian NB Accuracy: 0.805013927577\n",
      "Confusion Matrix: \n",
      "[[154  47]\n",
      " [ 23 135]]\n"
     ]
    }
   ],
   "source": [
    "# Testing\n",
    "Correct = 0.0\n",
    "cnfmat = np.zeros((2,2)).astype(int)\n",
    "R = [4 if (py4x(set(comm.split())) > 0.5) else 0 for comm in tcomment]\n",
    "Correct=len(np.where(R == tind)[0])\n",
    "# Confusion Matrix\n",
    "for i in range(0,len(R)):\n",
    "    cnfmat[R[i]/4][tind[i]/4]+=1\n",
    "Accuracy = Correct/float(len(tind))\n",
    "print(\"Gaussian NB Accuracy: \"+str(Accuracy))\n",
    "print(\"Confusion Matrix: \")\n",
    "print(cnfmat)"
   ]
  },
  {
   "cell_type": "markdown",
   "metadata": {},
   "source": [
    "### ROC"
   ]
  },
  {
   "cell_type": "code",
   "execution_count": 37,
   "metadata": {},
   "outputs": [],
   "source": [
    "Probabs = [py4x((comm.split())) for comm in tcomment]"
   ]
  },
  {
   "cell_type": "code",
   "execution_count": 26,
   "metadata": {},
   "outputs": [],
   "source": [
    "def fptp(lim,tY):\n",
    "    R = np.asarray([4 if (p > lim) else 0 for p in Probabs])\n",
    "    un = np.where(R!=tind)[0]\n",
    "    FP = len(np.where(R[un]==4)[0])\n",
    "    eq = np.where(R==tind)[0]\n",
    "    TP = len(np.where(R[eq]==4)[0])\n",
    "    return (TP,FP)"
   ]
  },
  {
   "cell_type": "code",
   "execution_count": 27,
   "metadata": {},
   "outputs": [],
   "source": [
    "N = 10000"
   ]
  },
  {
   "cell_type": "code",
   "execution_count": 38,
   "metadata": {},
   "outputs": [],
   "source": [
    "TPs = []\n",
    "FPs = []\n",
    "LIM = np.arange(N).astype(float)/float(N)"
   ]
  },
  {
   "cell_type": "code",
   "execution_count": 39,
   "metadata": {},
   "outputs": [],
   "source": [
    "for lim in LIM:\n",
    "    (tp,fp) = fptp(lim,tind)\n",
    "    TPs.append(tp)\n",
    "    FPs.append(fp)"
   ]
  },
  {
   "cell_type": "code",
   "execution_count": 49,
   "metadata": {},
   "outputs": [
    {
     "data": {
      "image/png": "[encoded data removed]",
      "text/plain": [
       "<Figure size 432x288 with 1 Axes>"
      ]
     },
     "metadata": {
      "needs_background": "light"
     },
     "output_type": "display_data"
    }
   ],
   "source": [
    "plt.plot(FPs,TPs)\n",
    "plt.legend(['Basic','Processed','Bi-gram'])\n",
    "plt.xlabel(\"False Positives\")\n",
    "plt.ylabel(\"True Positives\")\n",
    "plt.title(\"ROC\")\n",
    "plt.savefig(\"roc.png\")"
   ]
  },
  {
   "cell_type": "markdown",
   "metadata": {},
   "source": [
    "### Random Guessing"
   ]
  },
  {
   "cell_type": "code",
   "execution_count": 53,
   "metadata": {},
   "outputs": [
    {
     "name": "stdout",
     "output_type": "stream",
     "text": [
      "Random Guess Accuracy: 0.512534818942\n"
     ]
    }
   ],
   "source": [
    "# part(b) Baseline accuracy\n",
    "# random guessing\n",
    "# Theoretically must be 0.5 with very large data set\n",
    "import random\n",
    "Correct = 0.0\n",
    "R = [4 if (random.random() > 0.5) else 0 for v in tcomment]\n",
    "Correct = len(np.where(R==tind)[0])\n",
    "Accuracy = Correct/float(len(tind))\n",
    "print(\"Random Guess Accuracy: \"+str(Accuracy))"
   ]
  },
  {
   "cell_type": "markdown",
   "metadata": {},
   "source": [
    "### Majority Class"
   ]
  },
  {
   "cell_type": "code",
   "execution_count": 55,
   "metadata": {},
   "outputs": [
    {
     "name": "stdout",
     "output_type": "stream",
     "text": [
      "Majority Class Prediction Accuracy: 0.506963788301\n"
     ]
    }
   ],
   "source": [
    "R = 4* np.ones_like(tind)\n",
    "Correct = len(np.where(R == tind)[0])\n",
    "Accuracy = Correct/float(len(tind))\n",
    "print(\"Majority Class Prediction Accuracy: \"+str(Accuracy))\n",
    "#equal to the num of majority class present."
   ]
  },
  {
   "cell_type": "markdown",
   "metadata": {},
   "source": [
    "## Word preprocessing"
   ]
  },
  {
   "cell_type": "code",
   "execution_count": 18,
   "metadata": {},
   "outputs": [],
   "source": [
    "import nltk\n",
    "from nltk.tokenize import TweetTokenizer\n",
    "from nltk.corpus import stopwords\n",
    "import string\n",
    "import unicodedata\n",
    "tknzr = TweetTokenizer(strip_handles=True)\n",
    "ps = nltk.stem.PorterStemmer()\n",
    "lmt = nltk.stem.WordNetLemmatizer() \n",
    "sn = nltk.stem.SnowballStemmer('english')\n",
    "STEM = np.vectorize(sn.stem)\n",
    "stopwrds = stopwords.words('english')"
   ]
  },
  {
   "cell_type": "code",
   "execution_count": 19,
   "metadata": {},
   "outputs": [],
   "source": [
    "#preprocessing: returns set of words after processing.\n",
    "def process(s):\n",
    "    # remove twitter handle then digits and punctuation\n",
    "    words = s.replace(',',' ').replace('.',' ').replace('!',' ').replace('\"',' ').replace('?',' ').replace('-',' ').split()\n",
    "    words=[word for word in words if not word in stopwrds and word.isalpha() and  len(word)>0 and not word.startswith('@')]\n",
    "    words = list(map(lambda w: sn.stem(w),words))\n",
    "#     s = STEM(words)\n",
    "    return set(words)\n",
    "#     words = set([sn.stem(word) for word in s if word.isalpha() and word not in stopwords.words('english')])\n",
    "#     return words\n",
    "PROCESS = np.vectorize(process)"
   ]
  },
  {
   "cell_type": "code",
   "execution_count": 20,
   "metadata": {
    "scrolled": true
   },
   "outputs": [
    {
     "name": "stdout",
     "output_type": "stream",
     "text": [
      "193.446357012\n"
     ]
    }
   ],
   "source": [
    "# ProcessWords\n",
    "# pool = Pool(processes = 8)\n",
    "st = time.time()\n",
    "# ProcessedComments = pool.map(PROCESS, comment)\n",
    "# pool.close()\n",
    "# pool.join()\n",
    "ProcessedComments = PROCESS(comment)\n",
    "print(time.time()-st)"
   ]
  },
  {
   "cell_type": "code",
   "execution_count": 17,
   "metadata": {},
   "outputs": [],
   "source": [
    "np.save('processed.npy',ProcessedComments)"
   ]
  },
  {
   "cell_type": "code",
   "execution_count": 21,
   "metadata": {
    "scrolled": true
   },
   "outputs": [
    {
     "name": "stdout",
     "output_type": "stream",
     "text": [
      "4.26955199242\n"
     ]
    }
   ],
   "source": [
    "# Create Dictionary\n",
    "dct = {}\n",
    "st = time.time()\n",
    "for i in range(0,len(ProcessedComments)):\n",
    "    words = ProcessedComments[i]\n",
    "    if(ind[i]==0):\n",
    "        for w in words:\n",
    "            if w in dct:\n",
    "                dct[w][0] += 1;\n",
    "            else:\n",
    "                dct[w] = [1,0]\n",
    "    else:\n",
    "        for w in words:\n",
    "            if w in dct:\n",
    "                dct[w][1] += 1;\n",
    "            else:\n",
    "                dct[w] = [0,1]\n",
    "print(time.time()-st)"
   ]
  },
  {
   "cell_type": "code",
   "execution_count": 69,
   "metadata": {},
   "outputs": [
    {
     "name": "stdout",
     "output_type": "stream",
     "text": [
      "Gaussian NB with stemming Accuracy: 0.807799442897\n",
      "Confusion Matrix:\n",
      "[[151.  43.]\n",
      " [ 26. 139.]]\n"
     ]
    }
   ],
   "source": [
    "# Test data\n",
    "tProcessedComments = PROCESS(tcomment)\n",
    "R = [4 if (py4x(tmp) > 0.5) else 0 for tmp in tProcessedComments]\n",
    "Correct = len(np.where(R == tind)[0])\n",
    "Accuracy = Correct/float(len(tind))\n",
    "cnfmat = np.zeros((2,2))\n",
    "for i in range(0,len(tind)):\n",
    "    ## confusion matrix\n",
    "    cnfmat[R[i]/4][tind[i]/4]+=1\n",
    "print(\"Gaussian NB with stemming Accuracy: \"+str(Accuracy))\n",
    "print(\"Confusion Matrix:\")\n",
    "print(cnfmat)"
   ]
  },
  {
   "cell_type": "raw",
   "metadata": {},
   "source": [
    "with stemming accuracy -> [0.78551532 0.21448468]\n",
    "cnf -> [[146.,  46.],\n",
    "       [ 31., 136.]]"
   ]
  },
  {
   "cell_type": "raw",
   "metadata": {},
   "source": [
    "with lemmizatoin accuracy -> [0.79665738 0.20334262]\n",
    "cnf -> [[148.,  44.],\n",
    "       [ 29., 138.]]"
   ]
  },
  {
   "cell_type": "markdown",
   "metadata": {},
   "source": [
    "### Feature engineering"
   ]
  },
  {
   "cell_type": "markdown",
   "metadata": {},
   "source": [
    "#### 1. Bi-grams"
   ]
  },
  {
   "cell_type": "code",
   "execution_count": 33,
   "metadata": {},
   "outputs": [],
   "source": [
    "def getBigrams(s):\n",
    "    words = list(process(s))\n",
    "    words.sort()\n",
    "    bigrams = []\n",
    "#     print(words)\n",
    "    for i in range(0,len(words)-1):\n",
    "        bigrams.append(words[i]+\" \"+words[i+1])\n",
    "    return set(bigrams+words)\n",
    "BIGRAM = np.vectorize(getBigrams)"
   ]
  },
  {
   "cell_type": "code",
   "execution_count": 34,
   "metadata": {
    "scrolled": true
   },
   "outputs": [
    {
     "name": "stdout",
     "output_type": "stream",
     "text": [
      "215.251614094\n"
     ]
    }
   ],
   "source": [
    "# Use multiprocessing\n",
    "st = time.time()\n",
    "BiGramComments = BIGRAM(comment)\n",
    "print(time.time() -st )"
   ]
  },
  {
   "cell_type": "code",
   "execution_count": 146,
   "metadata": {},
   "outputs": [],
   "source": [
    "np.save('bigram.npy',BiGramComments)"
   ]
  },
  {
   "cell_type": "code",
   "execution_count": 35,
   "metadata": {},
   "outputs": [
    {
     "name": "stdout",
     "output_type": "stream",
     "text": [
      "16.7951591015\n"
     ]
    }
   ],
   "source": [
    "# Create Dictionary\n",
    "dct = {}\n",
    "st = time.time()\n",
    "for i in range(0,len(BiGramComments)):\n",
    "    words = BiGramComments[i]\n",
    "    if(ind[i]==0):\n",
    "        for w in words:\n",
    "            if w in dct:\n",
    "                dct[w][0] += 1;\n",
    "            else:\n",
    "                dct[w] = [1,0]\n",
    "    else:\n",
    "        for w in words:\n",
    "            if w in dct:\n",
    "                dct[w][1] += 1;\n",
    "            else:\n",
    "                dct[w] = [0,1]\n",
    "print(time.time()-st)"
   ]
  },
  {
   "cell_type": "code",
   "execution_count": 21,
   "metadata": {},
   "outputs": [
    {
     "name": "stdout",
     "output_type": "stream",
     "text": [
      "Gaussian NB with stemming Accuracy: 0.799442896936\n",
      "Confusion Matrix:\n",
      "[[148.  43.]\n",
      " [ 29. 139.]]\n"
     ]
    }
   ],
   "source": [
    "# Test data\n",
    "tBiGramComments= BIGRAM(tcomment)\n",
    "R = [4 if (py4x(tmp) > 0.5) else 0 for tmp in tBiGramComments]\n",
    "Correct = len(np.where(R == tind)[0])\n",
    "Accuracy = Correct/float(len(tind))\n",
    "cnfmat = np.zeros((2,2))\n",
    "for i in range(0,len(tind)):\n",
    "    ## confusion matrix\n",
    "    cnfmat[R[i]/4][tind[i]/4]+=1\n",
    "print(\"Gaussian NB with stemming Accuracy: \"+str(Accuracy))\n",
    "print(\"Confusion Matrix:\")\n",
    "print(cnfmat)"
   ]
  },
  {
   "cell_type": "markdown",
   "metadata": {},
   "source": [
    "#### 2. Percentile Selection"
   ]
  },
  {
   "cell_type": "code",
   "execution_count": 54,
   "metadata": {},
   "outputs": [],
   "source": [
    "percent = 0.5"
   ]
  },
  {
   "cell_type": "code",
   "execution_count": 76,
   "metadata": {},
   "outputs": [],
   "source": [
    "def getPercentile(s):\n",
    "    words = np.array(list(process(s)))\n",
    "    x = words[np.argsort(map(lambda x: len(x), words))]\n",
    "    n = int((1-percent)*len(words))\n",
    "    return set(x[n:])\n",
    "PERCENT = np.vectorize(getPercentile)"
   ]
  },
  {
   "cell_type": "code",
   "execution_count": 84,
   "metadata": {},
   "outputs": [
    {
     "name": "stdout",
     "output_type": "stream",
     "text": [
      "173.189965963\n"
     ]
    }
   ],
   "source": [
    "# Use multiprocessing\n",
    "st = time.time()\n",
    "pool = Pool(processes=8)\n",
    "TopComments = pool.map(PERCENT,comment[0:4000])\n",
    "pool.close()\n",
    "pool.join()\n",
    "print(time.time() -st)"
   ]
  },
  {
   "cell_type": "code",
   "execution_count": 82,
   "metadata": {},
   "outputs": [
    {
     "name": "stdout",
     "output_type": "stream",
     "text": [
      "0.125473022461\n"
     ]
    }
   ],
   "source": [
    "# Create Dictionary\n",
    "dct = {}\n",
    "st = time.time()\n",
    "for words in TopComments:\n",
    "    words = words.item(0)\n",
    "    if(ind[i]==0):\n",
    "        for w in words:\n",
    "            if w in dct:\n",
    "                dct[w][0] += 1;\n",
    "            else:\n",
    "                dct[w] = [1,0]\n",
    "    else:\n",
    "        for w in words:\n",
    "            if w in dct:\n",
    "                dct[w][1] += 1;\n",
    "            else:\n",
    "                dct[w] = [0,1]\n",
    "print(time.time()-st)"
   ]
  },
  {
   "cell_type": "code",
   "execution_count": 83,
   "metadata": {},
   "outputs": [
    {
     "name": "stdout",
     "output_type": "stream",
     "text": [
      "Gaussian NB with stemming Accuracy: 0.518105849582\n",
      "Confusion Matrix:\n",
      "[[ 18.  14.]\n",
      " [159. 168.]]\n"
     ]
    }
   ],
   "source": [
    "# Test data\n",
    "tTopComments= PERCENT(tcomment)\n",
    "R = [4 if (py4x(tmp) > 0.5) else 0 for tmp in tTopComments]\n",
    "Correct = len(np.where(R == tind)[0])\n",
    "Accuracy = Correct/float(len(tind))\n",
    "cnfmat = np.zeros((2,2))\n",
    "for i in range(0,len(tind)):\n",
    "    ## confusion matrix\n",
    "    cnfmat[R[i]/4][tind[i]/4]+=1\n",
    "print(\"Gaussian NB with stemming Accuracy: \"+str(Accuracy))\n",
    "print(\"Confusion Matrix:\")\n",
    "print(cnfmat)"
   ]
  },
  {
   "cell_type": "code",
   "execution_count": null,
   "metadata": {},
   "outputs": [],
   "source": [
    "# feature engineering\n",
    "#1 k-gram \n",
    "#2 divide the weight of each word in a sentence ( partial tf-idf? )"
   ]
  },
  {
   "cell_type": "markdown",
   "metadata": {},
   "source": [
    "## TFIDF"
   ]
  },
  {
   "cell_type": "code",
   "execution_count": 22,
   "metadata": {},
   "outputs": [],
   "source": [
    "vectorizer = TfidfVectorizer(sublinear_tf=True, stop_words=stopwords.words('english'),decode_error='ignore', encoding='latin-1',ngram_range=(1,3))"
   ]
  },
  {
   "cell_type": "code",
   "execution_count": 39,
   "metadata": {},
   "outputs": [],
   "source": [
    "Percentile = 0.0001"
   ]
  },
  {
   "cell_type": "code",
   "execution_count": 40,
   "metadata": {},
   "outputs": [],
   "source": [
    "sp = SelectPercentile(chi2, percentile=Percentile)\n",
    "clf = GaussianNB()"
   ]
  },
  {
   "cell_type": "code",
   "execution_count": 27,
   "metadata": {},
   "outputs": [],
   "source": [
    "X = vectorizer.fit_transform(comment).astype(np.float32)"
   ]
  },
  {
   "cell_type": "markdown",
   "metadata": {},
   "source": [
    "#### Select Top Percentile"
   ]
  },
  {
   "cell_type": "code",
   "execution_count": 41,
   "metadata": {},
   "outputs": [],
   "source": [
    "opt = True\n",
    "if opt:\n",
    "## Selecting percentiles\n",
    "    X_old = X\n",
    "    X = sp.fit_transform(X, ind)"
   ]
  },
  {
   "cell_type": "code",
   "execution_count": 44,
   "metadata": {
    "scrolled": true
   },
   "outputs": [
    {
     "name": "stdout",
     "output_type": "stream",
     "text": [
      "Total time required = 7.8304579258s\n"
     ]
    }
   ],
   "source": [
    "time0 = time.time()\n",
    "BS = 100\n",
    "for i in range(0,len(comment)/BS):\n",
    "    clf.partial_fit(X[i*BS:(i+1)*BS].toarray(),ind[i*BS:(i+1)*BS],classes=[0,4])\n",
    "time1 = time.time()\n",
    "print(\"Total time required = \"+str(time1-time0)+\"s\")"
   ]
  },
  {
   "cell_type": "code",
   "execution_count": 45,
   "metadata": {},
   "outputs": [
    {
     "name": "stdout",
     "output_type": "stream",
     "text": [
      "Accuracy: 0.571030640669\n"
     ]
    }
   ],
   "source": [
    "# Test Data\n",
    "tX = vectorizer.transform(tcomment)\n",
    "if opt:\n",
    "    tX = sp.transform(tX)\n",
    "R = [clf.predict(val.toarray())[0] for val in tX]\n",
    "Correct = len(np.where(R==tind)[0])\n",
    "Accuracy = float(Correct)/float(len(R))\n",
    "if opt:\n",
    "    print(\"Accuracy: \"+str(Accuracy))"
   ]
  }
 ],
 "metadata": {
  "kernelspec": {
   "display_name": "Python 3",
   "language": "python",
   "name": "python3"
  },
  "language_info": {
   "codemirror_mode": {
    "name": "ipython",
    "version": 2
   },
   "file_extension": ".py",
   "mimetype": "text/x-python",
   "name": "python",
   "nbconvert_exporter": "python",
   "pygments_lexer": "ipython2",
   "version": "2.7.16"
  }
 },
 "nbformat": 4,
 "nbformat_minor": 2
}
